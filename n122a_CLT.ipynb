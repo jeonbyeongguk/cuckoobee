{
  "nbformat": 4,
  "nbformat_minor": 0,
  "metadata": {
    "colab": {
      "provenance": [],
      "collapsed_sections": [],
      "include_colab_link": true
    },
    "kernelspec": {
      "name": "python3",
      "display_name": "Python 3"
    },
    "language_info": {
      "name": "python"
    }
  },
  "cells": [
    {
      "cell_type": "markdown",
      "metadata": {
        "id": "view-in-github",
        "colab_type": "text"
      },
      "source": [
        "<a href=\"https://colab.research.google.com/github/jeonbyeongguk/cuckoobee/blob/main/n122a_CLT.ipynb\" target=\"_parent\"><img src=\"https://colab.research.google.com/assets/colab-badge.svg\" alt=\"Open In Colab\"/></a>"
      ]
    },
    {
      "cell_type": "markdown",
      "source": [
        "<img src='https://i.imgur.com/RDAD11M.png' width = '200' align = 'right'>\n",
        "\n",
        "## *DATA SCIENCE / SECTION 1 / SPRINT 2 / NOTE 2*\n",
        "\n",
        "# 📝 Assignment"
      ],
      "metadata": {
        "id": "hhLTda3cVIHR"
      }
    },
    {
      "cell_type": "markdown",
      "source": [
        "# **🌱 기본 과제**"
      ],
      "metadata": {
        "id": "5x7pERiy3grr"
      }
    },
    {
      "cell_type": "markdown",
      "source": [
        "## **Part 1. 데이터셋 불러오기**\n",
        "\n",
        "- 서울시 기간별 시간평균 대기환경 정보 데이터셋을 \b불러오세요. \n",
        "  - 다음 [링크](https://data.seoul.go.kr/dataList/OA-2221/S/1/datasetView.do)에서 `2020년 3월`의 데이터셋을 다운받으세요. \n",
        "- 불러온 데이터셋을 변수 `data`에 저장하세요.\n",
        "  - 한글 데이터이므로 `encoding` 파라미터 설정이 필요합니다. \n",
        "  - `측정일시`, `측정소명`, `오존(ppm)` column만 사용합니다. column을 추출하는 방법은 여러 가지가 있는데, 이번에는 `usecols` 파라미터를 한번 사용해 보세요. \n",
        "- `data`에서 `측정소명`이 **`송파구`**인 데이터를 추출하여 `df`에 저장하세요. \n",
        "- `df`의 index를 재설정 하세요."
      ],
      "metadata": {
        "id": "m9DCmR8T-qCP"
      }
    },
    {
      "cell_type": "code",
      "source": [
        "import pandas as pd \n",
        "import numpy as np\n",
        "import random\n",
        "import matplotlib.pyplot as plt"
      ],
      "metadata": {
        "id": "LQd4bgfEx0ey"
      },
      "execution_count": null,
      "outputs": []
    },
    {
      "cell_type": "code",
      "source": [
        "from google.colab import files\n",
        "uploaded = files.upload()"
      ],
      "metadata": {
        "colab": {
          "base_uri": "https://localhost:8080/",
          "height": 77
        },
        "id": "WK1FmeksxaCY",
        "outputId": "030ac202-e0c9-4627-a0f5-47db2304ca2f"
      },
      "execution_count": null,
      "outputs": [
        {
          "output_type": "display_data",
          "data": {
            "text/plain": [
              "<IPython.core.display.HTML object>"
            ],
            "text/html": [
              "\n",
              "     <input type=\"file\" id=\"files-4faca092-5fdf-43c9-a7ea-b5f5487686e2\" name=\"files[]\" multiple disabled\n",
              "        style=\"border:none\" />\n",
              "     <output id=\"result-4faca092-5fdf-43c9-a7ea-b5f5487686e2\">\n",
              "      Upload widget is only available when the cell has been executed in the\n",
              "      current browser session. Please rerun this cell to enable.\n",
              "      </output>\n",
              "      <script>// Copyright 2017 Google LLC\n",
              "//\n",
              "// Licensed under the Apache License, Version 2.0 (the \"License\");\n",
              "// you may not use this file except in compliance with the License.\n",
              "// You may obtain a copy of the License at\n",
              "//\n",
              "//      http://www.apache.org/licenses/LICENSE-2.0\n",
              "//\n",
              "// Unless required by applicable law or agreed to in writing, software\n",
              "// distributed under the License is distributed on an \"AS IS\" BASIS,\n",
              "// WITHOUT WARRANTIES OR CONDITIONS OF ANY KIND, either express or implied.\n",
              "// See the License for the specific language governing permissions and\n",
              "// limitations under the License.\n",
              "\n",
              "/**\n",
              " * @fileoverview Helpers for google.colab Python module.\n",
              " */\n",
              "(function(scope) {\n",
              "function span(text, styleAttributes = {}) {\n",
              "  const element = document.createElement('span');\n",
              "  element.textContent = text;\n",
              "  for (const key of Object.keys(styleAttributes)) {\n",
              "    element.style[key] = styleAttributes[key];\n",
              "  }\n",
              "  return element;\n",
              "}\n",
              "\n",
              "// Max number of bytes which will be uploaded at a time.\n",
              "const MAX_PAYLOAD_SIZE = 100 * 1024;\n",
              "\n",
              "function _uploadFiles(inputId, outputId) {\n",
              "  const steps = uploadFilesStep(inputId, outputId);\n",
              "  const outputElement = document.getElementById(outputId);\n",
              "  // Cache steps on the outputElement to make it available for the next call\n",
              "  // to uploadFilesContinue from Python.\n",
              "  outputElement.steps = steps;\n",
              "\n",
              "  return _uploadFilesContinue(outputId);\n",
              "}\n",
              "\n",
              "// This is roughly an async generator (not supported in the browser yet),\n",
              "// where there are multiple asynchronous steps and the Python side is going\n",
              "// to poll for completion of each step.\n",
              "// This uses a Promise to block the python side on completion of each step,\n",
              "// then passes the result of the previous step as the input to the next step.\n",
              "function _uploadFilesContinue(outputId) {\n",
              "  const outputElement = document.getElementById(outputId);\n",
              "  const steps = outputElement.steps;\n",
              "\n",
              "  const next = steps.next(outputElement.lastPromiseValue);\n",
              "  return Promise.resolve(next.value.promise).then((value) => {\n",
              "    // Cache the last promise value to make it available to the next\n",
              "    // step of the generator.\n",
              "    outputElement.lastPromiseValue = value;\n",
              "    return next.value.response;\n",
              "  });\n",
              "}\n",
              "\n",
              "/**\n",
              " * Generator function which is called between each async step of the upload\n",
              " * process.\n",
              " * @param {string} inputId Element ID of the input file picker element.\n",
              " * @param {string} outputId Element ID of the output display.\n",
              " * @return {!Iterable<!Object>} Iterable of next steps.\n",
              " */\n",
              "function* uploadFilesStep(inputId, outputId) {\n",
              "  const inputElement = document.getElementById(inputId);\n",
              "  inputElement.disabled = false;\n",
              "\n",
              "  const outputElement = document.getElementById(outputId);\n",
              "  outputElement.innerHTML = '';\n",
              "\n",
              "  const pickedPromise = new Promise((resolve) => {\n",
              "    inputElement.addEventListener('change', (e) => {\n",
              "      resolve(e.target.files);\n",
              "    });\n",
              "  });\n",
              "\n",
              "  const cancel = document.createElement('button');\n",
              "  inputElement.parentElement.appendChild(cancel);\n",
              "  cancel.textContent = 'Cancel upload';\n",
              "  const cancelPromise = new Promise((resolve) => {\n",
              "    cancel.onclick = () => {\n",
              "      resolve(null);\n",
              "    };\n",
              "  });\n",
              "\n",
              "  // Wait for the user to pick the files.\n",
              "  const files = yield {\n",
              "    promise: Promise.race([pickedPromise, cancelPromise]),\n",
              "    response: {\n",
              "      action: 'starting',\n",
              "    }\n",
              "  };\n",
              "\n",
              "  cancel.remove();\n",
              "\n",
              "  // Disable the input element since further picks are not allowed.\n",
              "  inputElement.disabled = true;\n",
              "\n",
              "  if (!files) {\n",
              "    return {\n",
              "      response: {\n",
              "        action: 'complete',\n",
              "      }\n",
              "    };\n",
              "  }\n",
              "\n",
              "  for (const file of files) {\n",
              "    const li = document.createElement('li');\n",
              "    li.append(span(file.name, {fontWeight: 'bold'}));\n",
              "    li.append(span(\n",
              "        `(${file.type || 'n/a'}) - ${file.size} bytes, ` +\n",
              "        `last modified: ${\n",
              "            file.lastModifiedDate ? file.lastModifiedDate.toLocaleDateString() :\n",
              "                                    'n/a'} - `));\n",
              "    const percent = span('0% done');\n",
              "    li.appendChild(percent);\n",
              "\n",
              "    outputElement.appendChild(li);\n",
              "\n",
              "    const fileDataPromise = new Promise((resolve) => {\n",
              "      const reader = new FileReader();\n",
              "      reader.onload = (e) => {\n",
              "        resolve(e.target.result);\n",
              "      };\n",
              "      reader.readAsArrayBuffer(file);\n",
              "    });\n",
              "    // Wait for the data to be ready.\n",
              "    let fileData = yield {\n",
              "      promise: fileDataPromise,\n",
              "      response: {\n",
              "        action: 'continue',\n",
              "      }\n",
              "    };\n",
              "\n",
              "    // Use a chunked sending to avoid message size limits. See b/62115660.\n",
              "    let position = 0;\n",
              "    do {\n",
              "      const length = Math.min(fileData.byteLength - position, MAX_PAYLOAD_SIZE);\n",
              "      const chunk = new Uint8Array(fileData, position, length);\n",
              "      position += length;\n",
              "\n",
              "      const base64 = btoa(String.fromCharCode.apply(null, chunk));\n",
              "      yield {\n",
              "        response: {\n",
              "          action: 'append',\n",
              "          file: file.name,\n",
              "          data: base64,\n",
              "        },\n",
              "      };\n",
              "\n",
              "      let percentDone = fileData.byteLength === 0 ?\n",
              "          100 :\n",
              "          Math.round((position / fileData.byteLength) * 100);\n",
              "      percent.textContent = `${percentDone}% done`;\n",
              "\n",
              "    } while (position < fileData.byteLength);\n",
              "  }\n",
              "\n",
              "  // All done.\n",
              "  yield {\n",
              "    response: {\n",
              "      action: 'complete',\n",
              "    }\n",
              "  };\n",
              "}\n",
              "\n",
              "scope.google = scope.google || {};\n",
              "scope.google.colab = scope.google.colab || {};\n",
              "scope.google.colab._files = {\n",
              "  _uploadFiles,\n",
              "  _uploadFilesContinue,\n",
              "};\n",
              "})(self);\n",
              "</script> "
            ]
          },
          "metadata": {}
        },
        {
          "output_type": "stream",
          "name": "stdout",
          "text": [
            "Saving 2020.03.csv to 2020.03 (1).csv\n"
          ]
        }
      ]
    },
    {
      "cell_type": "code",
      "source": [
        "data = pd.read_csv('2020.03.csv',encoding='cp949',header=0, usecols=['측정일시','측정소명','오존(ppm)'])"
      ],
      "metadata": {
        "id": "AbVLzJKwxuGZ"
      },
      "execution_count": null,
      "outputs": []
    },
    {
      "cell_type": "code",
      "source": [
        "data.head()"
      ],
      "metadata": {
        "colab": {
          "base_uri": "https://localhost:8080/",
          "height": 206
        },
        "id": "KeJOqHkEzQXR",
        "outputId": "edcc2954-31ec-404b-976f-5fd57010c645"
      },
      "execution_count": null,
      "outputs": [
        {
          "output_type": "execute_result",
          "data": {
            "text/plain": [
              "           측정일시  측정소명  오존(ppm)\n",
              "0  202003312300   종로구    0.036\n",
              "1  202003312300   용산구    0.024\n",
              "2  202003312300    중구    0.034\n",
              "3  202003312300   은평구    0.047\n",
              "4  202003312300  서대문구    0.047"
            ],
            "text/html": [
              "\n",
              "  <div id=\"df-ee9c1294-edd3-4fe8-803a-24e4afb79646\">\n",
              "    <div class=\"colab-df-container\">\n",
              "      <div>\n",
              "<style scoped>\n",
              "    .dataframe tbody tr th:only-of-type {\n",
              "        vertical-align: middle;\n",
              "    }\n",
              "\n",
              "    .dataframe tbody tr th {\n",
              "        vertical-align: top;\n",
              "    }\n",
              "\n",
              "    .dataframe thead th {\n",
              "        text-align: right;\n",
              "    }\n",
              "</style>\n",
              "<table border=\"1\" class=\"dataframe\">\n",
              "  <thead>\n",
              "    <tr style=\"text-align: right;\">\n",
              "      <th></th>\n",
              "      <th>측정일시</th>\n",
              "      <th>측정소명</th>\n",
              "      <th>오존(ppm)</th>\n",
              "    </tr>\n",
              "  </thead>\n",
              "  <tbody>\n",
              "    <tr>\n",
              "      <th>0</th>\n",
              "      <td>202003312300</td>\n",
              "      <td>종로구</td>\n",
              "      <td>0.036</td>\n",
              "    </tr>\n",
              "    <tr>\n",
              "      <th>1</th>\n",
              "      <td>202003312300</td>\n",
              "      <td>용산구</td>\n",
              "      <td>0.024</td>\n",
              "    </tr>\n",
              "    <tr>\n",
              "      <th>2</th>\n",
              "      <td>202003312300</td>\n",
              "      <td>중구</td>\n",
              "      <td>0.034</td>\n",
              "    </tr>\n",
              "    <tr>\n",
              "      <th>3</th>\n",
              "      <td>202003312300</td>\n",
              "      <td>은평구</td>\n",
              "      <td>0.047</td>\n",
              "    </tr>\n",
              "    <tr>\n",
              "      <th>4</th>\n",
              "      <td>202003312300</td>\n",
              "      <td>서대문구</td>\n",
              "      <td>0.047</td>\n",
              "    </tr>\n",
              "  </tbody>\n",
              "</table>\n",
              "</div>\n",
              "      <button class=\"colab-df-convert\" onclick=\"convertToInteractive('df-ee9c1294-edd3-4fe8-803a-24e4afb79646')\"\n",
              "              title=\"Convert this dataframe to an interactive table.\"\n",
              "              style=\"display:none;\">\n",
              "        \n",
              "  <svg xmlns=\"http://www.w3.org/2000/svg\" height=\"24px\"viewBox=\"0 0 24 24\"\n",
              "       width=\"24px\">\n",
              "    <path d=\"M0 0h24v24H0V0z\" fill=\"none\"/>\n",
              "    <path d=\"M18.56 5.44l.94 2.06.94-2.06 2.06-.94-2.06-.94-.94-2.06-.94 2.06-2.06.94zm-11 1L8.5 8.5l.94-2.06 2.06-.94-2.06-.94L8.5 2.5l-.94 2.06-2.06.94zm10 10l.94 2.06.94-2.06 2.06-.94-2.06-.94-.94-2.06-.94 2.06-2.06.94z\"/><path d=\"M17.41 7.96l-1.37-1.37c-.4-.4-.92-.59-1.43-.59-.52 0-1.04.2-1.43.59L10.3 9.45l-7.72 7.72c-.78.78-.78 2.05 0 2.83L4 21.41c.39.39.9.59 1.41.59.51 0 1.02-.2 1.41-.59l7.78-7.78 2.81-2.81c.8-.78.8-2.07 0-2.86zM5.41 20L4 18.59l7.72-7.72 1.47 1.35L5.41 20z\"/>\n",
              "  </svg>\n",
              "      </button>\n",
              "      \n",
              "  <style>\n",
              "    .colab-df-container {\n",
              "      display:flex;\n",
              "      flex-wrap:wrap;\n",
              "      gap: 12px;\n",
              "    }\n",
              "\n",
              "    .colab-df-convert {\n",
              "      background-color: #E8F0FE;\n",
              "      border: none;\n",
              "      border-radius: 50%;\n",
              "      cursor: pointer;\n",
              "      display: none;\n",
              "      fill: #1967D2;\n",
              "      height: 32px;\n",
              "      padding: 0 0 0 0;\n",
              "      width: 32px;\n",
              "    }\n",
              "\n",
              "    .colab-df-convert:hover {\n",
              "      background-color: #E2EBFA;\n",
              "      box-shadow: 0px 1px 2px rgba(60, 64, 67, 0.3), 0px 1px 3px 1px rgba(60, 64, 67, 0.15);\n",
              "      fill: #174EA6;\n",
              "    }\n",
              "\n",
              "    [theme=dark] .colab-df-convert {\n",
              "      background-color: #3B4455;\n",
              "      fill: #D2E3FC;\n",
              "    }\n",
              "\n",
              "    [theme=dark] .colab-df-convert:hover {\n",
              "      background-color: #434B5C;\n",
              "      box-shadow: 0px 1px 3px 1px rgba(0, 0, 0, 0.15);\n",
              "      filter: drop-shadow(0px 1px 2px rgba(0, 0, 0, 0.3));\n",
              "      fill: #FFFFFF;\n",
              "    }\n",
              "  </style>\n",
              "\n",
              "      <script>\n",
              "        const buttonEl =\n",
              "          document.querySelector('#df-ee9c1294-edd3-4fe8-803a-24e4afb79646 button.colab-df-convert');\n",
              "        buttonEl.style.display =\n",
              "          google.colab.kernel.accessAllowed ? 'block' : 'none';\n",
              "\n",
              "        async function convertToInteractive(key) {\n",
              "          const element = document.querySelector('#df-ee9c1294-edd3-4fe8-803a-24e4afb79646');\n",
              "          const dataTable =\n",
              "            await google.colab.kernel.invokeFunction('convertToInteractive',\n",
              "                                                     [key], {});\n",
              "          if (!dataTable) return;\n",
              "\n",
              "          const docLinkHtml = 'Like what you see? Visit the ' +\n",
              "            '<a target=\"_blank\" href=https://colab.research.google.com/notebooks/data_table.ipynb>data table notebook</a>'\n",
              "            + ' to learn more about interactive tables.';\n",
              "          element.innerHTML = '';\n",
              "          dataTable['output_type'] = 'display_data';\n",
              "          await google.colab.output.renderOutput(dataTable, element);\n",
              "          const docLink = document.createElement('div');\n",
              "          docLink.innerHTML = docLinkHtml;\n",
              "          element.appendChild(docLink);\n",
              "        }\n",
              "      </script>\n",
              "    </div>\n",
              "  </div>\n",
              "  "
            ]
          },
          "metadata": {},
          "execution_count": 20
        }
      ]
    },
    {
      "cell_type": "code",
      "source": [
        "df = data[data['측정소명'] == '송파구'].reset_index(drop=True)\n",
        "df"
      ],
      "metadata": {
        "colab": {
          "base_uri": "https://localhost:8080/",
          "height": 424
        },
        "id": "Yn6B7Sfm0Jwj",
        "outputId": "7ff097f5-1452-4841-cc36-40aef651f5df"
      },
      "execution_count": null,
      "outputs": [
        {
          "output_type": "execute_result",
          "data": {
            "text/plain": [
              "             측정일시 측정소명  오존(ppm)\n",
              "0    202003312300  송파구    0.020\n",
              "1    202003312200  송파구    0.021\n",
              "2    202003312100  송파구    0.025\n",
              "3    202003312000  송파구    0.032\n",
              "4    202003311900  송파구    0.034\n",
              "..            ...  ...      ...\n",
              "739  202003010400  송파구    0.002\n",
              "740  202003010300  송파구    0.002\n",
              "741  202003010200  송파구    0.002\n",
              "742  202003010100  송파구    0.002\n",
              "743  202003010000  송파구    0.002\n",
              "\n",
              "[744 rows x 3 columns]"
            ],
            "text/html": [
              "\n",
              "  <div id=\"df-26e9b428-57a9-4581-838d-a8388017df80\">\n",
              "    <div class=\"colab-df-container\">\n",
              "      <div>\n",
              "<style scoped>\n",
              "    .dataframe tbody tr th:only-of-type {\n",
              "        vertical-align: middle;\n",
              "    }\n",
              "\n",
              "    .dataframe tbody tr th {\n",
              "        vertical-align: top;\n",
              "    }\n",
              "\n",
              "    .dataframe thead th {\n",
              "        text-align: right;\n",
              "    }\n",
              "</style>\n",
              "<table border=\"1\" class=\"dataframe\">\n",
              "  <thead>\n",
              "    <tr style=\"text-align: right;\">\n",
              "      <th></th>\n",
              "      <th>측정일시</th>\n",
              "      <th>측정소명</th>\n",
              "      <th>오존(ppm)</th>\n",
              "    </tr>\n",
              "  </thead>\n",
              "  <tbody>\n",
              "    <tr>\n",
              "      <th>0</th>\n",
              "      <td>202003312300</td>\n",
              "      <td>송파구</td>\n",
              "      <td>0.020</td>\n",
              "    </tr>\n",
              "    <tr>\n",
              "      <th>1</th>\n",
              "      <td>202003312200</td>\n",
              "      <td>송파구</td>\n",
              "      <td>0.021</td>\n",
              "    </tr>\n",
              "    <tr>\n",
              "      <th>2</th>\n",
              "      <td>202003312100</td>\n",
              "      <td>송파구</td>\n",
              "      <td>0.025</td>\n",
              "    </tr>\n",
              "    <tr>\n",
              "      <th>3</th>\n",
              "      <td>202003312000</td>\n",
              "      <td>송파구</td>\n",
              "      <td>0.032</td>\n",
              "    </tr>\n",
              "    <tr>\n",
              "      <th>4</th>\n",
              "      <td>202003311900</td>\n",
              "      <td>송파구</td>\n",
              "      <td>0.034</td>\n",
              "    </tr>\n",
              "    <tr>\n",
              "      <th>...</th>\n",
              "      <td>...</td>\n",
              "      <td>...</td>\n",
              "      <td>...</td>\n",
              "    </tr>\n",
              "    <tr>\n",
              "      <th>739</th>\n",
              "      <td>202003010400</td>\n",
              "      <td>송파구</td>\n",
              "      <td>0.002</td>\n",
              "    </tr>\n",
              "    <tr>\n",
              "      <th>740</th>\n",
              "      <td>202003010300</td>\n",
              "      <td>송파구</td>\n",
              "      <td>0.002</td>\n",
              "    </tr>\n",
              "    <tr>\n",
              "      <th>741</th>\n",
              "      <td>202003010200</td>\n",
              "      <td>송파구</td>\n",
              "      <td>0.002</td>\n",
              "    </tr>\n",
              "    <tr>\n",
              "      <th>742</th>\n",
              "      <td>202003010100</td>\n",
              "      <td>송파구</td>\n",
              "      <td>0.002</td>\n",
              "    </tr>\n",
              "    <tr>\n",
              "      <th>743</th>\n",
              "      <td>202003010000</td>\n",
              "      <td>송파구</td>\n",
              "      <td>0.002</td>\n",
              "    </tr>\n",
              "  </tbody>\n",
              "</table>\n",
              "<p>744 rows × 3 columns</p>\n",
              "</div>\n",
              "      <button class=\"colab-df-convert\" onclick=\"convertToInteractive('df-26e9b428-57a9-4581-838d-a8388017df80')\"\n",
              "              title=\"Convert this dataframe to an interactive table.\"\n",
              "              style=\"display:none;\">\n",
              "        \n",
              "  <svg xmlns=\"http://www.w3.org/2000/svg\" height=\"24px\"viewBox=\"0 0 24 24\"\n",
              "       width=\"24px\">\n",
              "    <path d=\"M0 0h24v24H0V0z\" fill=\"none\"/>\n",
              "    <path d=\"M18.56 5.44l.94 2.06.94-2.06 2.06-.94-2.06-.94-.94-2.06-.94 2.06-2.06.94zm-11 1L8.5 8.5l.94-2.06 2.06-.94-2.06-.94L8.5 2.5l-.94 2.06-2.06.94zm10 10l.94 2.06.94-2.06 2.06-.94-2.06-.94-.94-2.06-.94 2.06-2.06.94z\"/><path d=\"M17.41 7.96l-1.37-1.37c-.4-.4-.92-.59-1.43-.59-.52 0-1.04.2-1.43.59L10.3 9.45l-7.72 7.72c-.78.78-.78 2.05 0 2.83L4 21.41c.39.39.9.59 1.41.59.51 0 1.02-.2 1.41-.59l7.78-7.78 2.81-2.81c.8-.78.8-2.07 0-2.86zM5.41 20L4 18.59l7.72-7.72 1.47 1.35L5.41 20z\"/>\n",
              "  </svg>\n",
              "      </button>\n",
              "      \n",
              "  <style>\n",
              "    .colab-df-container {\n",
              "      display:flex;\n",
              "      flex-wrap:wrap;\n",
              "      gap: 12px;\n",
              "    }\n",
              "\n",
              "    .colab-df-convert {\n",
              "      background-color: #E8F0FE;\n",
              "      border: none;\n",
              "      border-radius: 50%;\n",
              "      cursor: pointer;\n",
              "      display: none;\n",
              "      fill: #1967D2;\n",
              "      height: 32px;\n",
              "      padding: 0 0 0 0;\n",
              "      width: 32px;\n",
              "    }\n",
              "\n",
              "    .colab-df-convert:hover {\n",
              "      background-color: #E2EBFA;\n",
              "      box-shadow: 0px 1px 2px rgba(60, 64, 67, 0.3), 0px 1px 3px 1px rgba(60, 64, 67, 0.15);\n",
              "      fill: #174EA6;\n",
              "    }\n",
              "\n",
              "    [theme=dark] .colab-df-convert {\n",
              "      background-color: #3B4455;\n",
              "      fill: #D2E3FC;\n",
              "    }\n",
              "\n",
              "    [theme=dark] .colab-df-convert:hover {\n",
              "      background-color: #434B5C;\n",
              "      box-shadow: 0px 1px 3px 1px rgba(0, 0, 0, 0.15);\n",
              "      filter: drop-shadow(0px 1px 2px rgba(0, 0, 0, 0.3));\n",
              "      fill: #FFFFFF;\n",
              "    }\n",
              "  </style>\n",
              "\n",
              "      <script>\n",
              "        const buttonEl =\n",
              "          document.querySelector('#df-26e9b428-57a9-4581-838d-a8388017df80 button.colab-df-convert');\n",
              "        buttonEl.style.display =\n",
              "          google.colab.kernel.accessAllowed ? 'block' : 'none';\n",
              "\n",
              "        async function convertToInteractive(key) {\n",
              "          const element = document.querySelector('#df-26e9b428-57a9-4581-838d-a8388017df80');\n",
              "          const dataTable =\n",
              "            await google.colab.kernel.invokeFunction('convertToInteractive',\n",
              "                                                     [key], {});\n",
              "          if (!dataTable) return;\n",
              "\n",
              "          const docLinkHtml = 'Like what you see? Visit the ' +\n",
              "            '<a target=\"_blank\" href=https://colab.research.google.com/notebooks/data_table.ipynb>data table notebook</a>'\n",
              "            + ' to learn more about interactive tables.';\n",
              "          element.innerHTML = '';\n",
              "          dataTable['output_type'] = 'display_data';\n",
              "          await google.colab.output.renderOutput(dataTable, element);\n",
              "          const docLink = document.createElement('div');\n",
              "          docLink.innerHTML = docLinkHtml;\n",
              "          element.appendChild(docLink);\n",
              "        }\n",
              "      </script>\n",
              "    </div>\n",
              "  </div>\n",
              "  "
            ]
          },
          "metadata": {},
          "execution_count": 39
        }
      ]
    },
    {
      "cell_type": "code",
      "source": [
        "df.columns"
      ],
      "metadata": {
        "colab": {
          "base_uri": "https://localhost:8080/"
        },
        "id": "yJrrcjmI186q",
        "outputId": "a8f24ffa-6779-44af-fa12-a207d44a16a8"
      },
      "execution_count": null,
      "outputs": [
        {
          "output_type": "execute_result",
          "data": {
            "text/plain": [
              "Index(['측정일시', '측정소명', '오존(ppm)'], dtype='object')"
            ]
          },
          "metadata": {},
          "execution_count": 40
        }
      ]
    },
    {
      "cell_type": "markdown",
      "source": [
        "##### **Q1. `df`의 row는 모두 몇 개인지 쓰세요.**"
      ],
      "metadata": {
        "id": "F_ecLvyM3URQ"
      }
    },
    {
      "cell_type": "code",
      "execution_count": null,
      "metadata": {
        "id": "OtcZz3RFkB-w",
        "colab": {
          "base_uri": "https://localhost:8080/"
        },
        "outputId": "89be0fe9-ff9c-485c-d2f4-01ced5c834af"
      },
      "outputs": [
        {
          "output_type": "execute_result",
          "data": {
            "text/plain": [
              "(744, 3)"
            ]
          },
          "metadata": {},
          "execution_count": 41
        }
      ],
      "source": [
        "df.shape"
      ]
    },
    {
      "cell_type": "markdown",
      "source": [
        "- 정답: 744개"
      ],
      "metadata": {
        "id": "I9Kx1m6-2Rol"
      }
    },
    {
      "cell_type": "markdown",
      "source": [
        "## **Part 2. 큰 수의 법칙**\n",
        "\n",
        "표본 크기가 커질수록 표본평균이 모평균에 가까워지는 것을 확인합니다. "
      ],
      "metadata": {
        "id": "PR5Hrf4MmFH-"
      }
    },
    {
      "cell_type": "markdown",
      "source": [
        "### **2-1. 모평균**\n",
        "- `df['오존(ppm)']`을 추출하여 변수 `pop`에 저장합니다. 우리는 `pop`을 모집단이라 가정한 뒤 분석을 진행합니다. \n",
        "- 모평균을 `pop_mean`에 저장하세요. "
      ],
      "metadata": {
        "id": "a-b9PfV2N-n0"
      }
    },
    {
      "cell_type": "markdown",
      "source": [
        "##### **Q2. 모평균을 반올림하여 소수점 둘째 자리까지 쓰세요.**"
      ],
      "metadata": {
        "id": "yUduo9Xq3UGt"
      }
    },
    {
      "cell_type": "code",
      "source": [
        "pop = df['오존(ppm)']\n",
        "pop_mean = pop.mean()\n",
        "round(pop_mean,2)"
      ],
      "metadata": {
        "id": "o_xMP8e04tGa",
        "colab": {
          "base_uri": "https://localhost:8080/"
        },
        "outputId": "f0673c85-bdc2-41b7-990e-7ebd4f1f1087"
      },
      "execution_count": null,
      "outputs": [
        {
          "output_type": "execute_result",
          "data": {
            "text/plain": [
              "0.02"
            ]
          },
          "metadata": {},
          "execution_count": 42
        }
      ]
    },
    {
      "cell_type": "markdown",
      "source": [
        "- 정답: 0.02 "
      ],
      "metadata": {
        "id": "MZbmLajF228e"
      }
    },
    {
      "cell_type": "markdown",
      "source": [
        "### **2-2. 표본 크기에 따른 표본 평균**\n",
        "- 모집단에서 10개의 데이터를 추출하여 평균을 `sample_10_mean`에 저장하세요.\n",
        "- 모집단에서 200개의 데이터를 추출하여 평균을 `sample_200_mean`에 저장하세요. \n",
        "- 데이터를 추출할 때, [`.sample()`](https://pandas.pydata.org/docs/reference/api/pandas.DataFrame.sample.html) 함수를 활용하세요. \n",
        "  - `random_state=2`로 설정합니다. \n",
        "  - 중복 추출을 허용합니다. "
      ],
      "metadata": {
        "id": "SbuWKioKOyMe"
      }
    },
    {
      "cell_type": "code",
      "source": [
        "import pandas as pd \n",
        "import numpy as np\n",
        "import random\n",
        "import matplotlib.pyplot as plt"
      ],
      "metadata": {
        "id": "aRUkwG6U3DUP"
      },
      "execution_count": null,
      "outputs": []
    },
    {
      "cell_type": "code",
      "source": [
        "# replace=True 중복 허용 \n",
        "sample_10 = pop.sample(10, replace=True,random_state=2)\n",
        "sample_10_mean = sample_10.mean()"
      ],
      "metadata": {
        "id": "6lG8CRtd3F0H"
      },
      "execution_count": null,
      "outputs": []
    },
    {
      "cell_type": "code",
      "source": [
        "sample_200 = pop.sample(200, replace=True,random_state=2)\n",
        "sample_200_mean = sample_200.mean()"
      ],
      "metadata": {
        "id": "45NLkR1m33Rv"
      },
      "execution_count": null,
      "outputs": []
    },
    {
      "cell_type": "markdown",
      "source": [
        "##### **Q3. 모평균과 표본 크기가 10인 표본의 평균의 차의 절댓값을 $a$, 모평균과 표본 크기가 200인 표본의 평균의 차의 절댓값을 $b$라 할 때, $a \\over b$의 값을 반올림하여 소수점 둘째 자리까지 구하세요.**"
      ],
      "metadata": {
        "id": "YMfQq5_XkhuR"
      }
    },
    {
      "cell_type": "code",
      "source": [
        "a = abs(pop_mean - sample_10_mean)\n",
        "b = abs(pop_mean - sample_200_mean)\n",
        "round(a/b,2)"
      ],
      "metadata": {
        "colab": {
          "base_uri": "https://localhost:8080/"
        },
        "id": "Gw88qbRx6OEV",
        "outputId": "32d2d849-f368-46d8-9362-047319914e54"
      },
      "execution_count": null,
      "outputs": [
        {
          "output_type": "execute_result",
          "data": {
            "text/plain": [
              "13.75"
            ]
          },
          "metadata": {},
          "execution_count": 65
        }
      ]
    },
    {
      "cell_type": "markdown",
      "source": [
        "- 정답: 13.75"
      ],
      "metadata": {
        "id": "ZVKkB-Rz7UTm"
      }
    },
    {
      "cell_type": "markdown",
      "source": [
        "### **2-3. 시각화**\n",
        "- 다음 시각화를 구현하세요.  <br>\n",
        "  <img src = 'https://i.imgur.com/cC8DaP1.png'>"
      ],
      "metadata": {
        "id": "XTMoR0gMO-xN"
      }
    },
    {
      "cell_type": "code",
      "source": [
        "plt.figure(figsize=(8,5))\n",
        "plt.hist(sample_10, alpha=.5)\n",
        "plt.hist(sample_200, alpha=.5)\n",
        "plt.axvline(x=pop_mean, c='red', label = 'Population Mean')\n",
        "plt.axvline(x=sample_10_mean, c='yellow', label = 'Mean of Sample Size 10')\n",
        "plt.axvline(x=sample_200_mean, c='green', label = 'Mean of Sample Size 200')\n",
        "plt.legend();"
      ],
      "metadata": {
        "id": "Wf_j1dw7XfxS",
        "colab": {
          "base_uri": "https://localhost:8080/",
          "height": 320
        },
        "outputId": "a27a030f-13d6-4e63-834d-281d30d4baad"
      },
      "execution_count": null,
      "outputs": [
        {
          "output_type": "display_data",
          "data": {
            "text/plain": [
              "<Figure size 576x360 with 1 Axes>"
            ],
            "image/png": "[encoded data removed]"
          },
          "metadata": {
            "needs_background": "light"
          }
        }
      ]
    },
    {
      "cell_type": "markdown",
      "source": [
        "##### **Q4. 주어진 시각화와 같이 히스토그램을 나타내려고 합니다. `plt.hist()`를 활용할 때, `()`안에 들어갈 인자는 무엇일까요?**\n",
        "- 모집단의 데이터 분포\n",
        "- 표본 크기가 10인 표본의 데이터 분포\n",
        "- 표본 크기가 200인 표본의 데이터 분포 \n",
        "- 표본 크기가 10인 표본의 평균의 분포\n",
        "- 표본 크기가 200인 표본의 평균의 분포 "
      ],
      "metadata": {
        "id": "fdwovFYBmzNK"
      }
    },
    {
      "cell_type": "markdown",
      "source": [
        "- 정답: 모집단의 데이터 분포"
      ],
      "metadata": {
        "id": "7pb0gVglVFMC"
      }
    },
    {
      "cell_type": "markdown",
      "source": [
        "## **Part 3. 중심극한정리**\n",
        "\n",
        "표본들의 평균 분포가 정규분포를 이루는지 다음 순서에 따라 확인합니다.  \n",
        "\n",
        "1. numpy의 `randam.choice()` 함수를 활용하여 `df['오존(ppm)']`에서 20개의 데이터를 추출합니다.\n",
        "  - 중복 추출을 허용합니다. \n",
        "2. 20개의 데이터의 평균을 계산하여 리스트 `s1`에 저장합니다. \n",
        "3. 1~2 과정을 `for loop`을 이용하여 10,000번 반복합니다. 즉, `s1`에는 10,000번 추출된 20개의 데이터의 평균값이 저장됩니다. \n",
        "4. 평균값들의 분포를 `seaborn.kdeplot()`을 활용하여 시각화 하세요. <br>\n",
        "  https://seaborn.pydata.org/generated/seaborn.kdeplot.html"
      ],
      "metadata": {
        "id": "QjjcAoJDAyfq"
      }
    },
    {
      "cell_type": "code",
      "source": [
        "import pandas as pd \n",
        "import numpy as np\n",
        "import random\n",
        "import seaborn as sns \n",
        "import matplotlib.pyplot as plt"
      ],
      "metadata": {
        "id": "jUrKLwtNV3Yc"
      },
      "execution_count": null,
      "outputs": []
    },
    {
      "cell_type": "code",
      "source": [
        "pop = df['오존(ppm)']\n",
        "\n",
        "np.random.seed(0)\n",
        "\n",
        "s1 = [] \n",
        "\n",
        "for _ in range(10000):\n",
        "  sample = np.random.choice(pop,20, replace=True)\n",
        "  s1.append(sample.mean())\n",
        "\n",
        "sns.kdeplot(s1, shade=False)\n",
        "plt.legend();"
      ],
      "metadata": {
        "id": "hnGi33n2V7UJ",
        "outputId": "a662b2f7-498d-467e-82f7-f029d526f0cf",
        "colab": {
          "base_uri": "https://localhost:8080/",
          "height": 283
        }
      },
      "execution_count": null,
      "outputs": [
        {
          "output_type": "stream",
          "name": "stderr",
          "text": [
            "WARNING:matplotlib.legend:No handles with labels found to put in legend.\n"
          ]
        },
        {
          "output_type": "display_data",
          "data": {
            "text/plain": [
              "<Figure size 432x288 with 1 Axes>"
            ],
            "image/png": "[encoded data removed]"
          },
          "metadata": {
            "needs_background": "light"
          }
        }
      ]
    },
    {
      "cell_type": "markdown",
      "source": [
        "##### **Q5. 평균 값들의 분포를 시각화한 결과는 어떤 모습일까요?**"
      ],
      "metadata": {
        "id": "pvAwpZCxxl9V"
      }
    },
    {
      "cell_type": "markdown",
      "source": [
        "- 정답 : 정규분포의 형태 그래프 "
      ],
      "metadata": {
        "id": "4J9PohEZYJw_"
      }
    },
    {
      "cell_type": "markdown",
      "source": [
        "## **Part 4. 신뢰구간**\n",
        "**Part 3** 에서 빌드한 표본 평균 분포에 대하여 모집단의 모수를 포함할 확률이 95%가 되는 구간을 시각화합니다. \n",
        "- 표본 평균의 평균은 초록 세로선으로, 신뢰구간 95% 구간은 빨간 세로선으로 나타내세요. "
      ],
      "metadata": {
        "id": "Hy0QfN5tlhAK"
      }
    },
    {
      "cell_type": "markdown",
      "source": [
        "##### **Q6. 95% 신뢰구간을 시각화한 결과는 어떤 모습일까요?**"
      ],
      "metadata": {
        "id": "6JGaQ5XTxhz_"
      }
    },
    {
      "cell_type": "code",
      "source": [
        "sample_20 = np.array(s1)\n",
        "sample_20"
      ],
      "metadata": {
        "id": "KEyvLpvOY2_K",
        "outputId": "967da7b3-3918-4903-e4bf-1dfd30778758",
        "colab": {
          "base_uri": "https://localhost:8080/"
        }
      },
      "execution_count": null,
      "outputs": [
        {
          "output_type": "execute_result",
          "data": {
            "text/plain": [
              "array([0.0236 , 0.02155, 0.0272 , ..., 0.018  , 0.02225, 0.0286 ])"
            ]
          },
          "metadata": {},
          "execution_count": 98
        }
      ]
    },
    {
      "cell_type": "code",
      "source": [
        "sample_20_mean = sample_20.mean()\n",
        "sample_20_mean"
      ],
      "metadata": {
        "id": "Yz89YPnsaGKq",
        "outputId": "8d75bc4b-994c-4dcd-853b-47877349aac0",
        "colab": {
          "base_uri": "https://localhost:8080/"
        }
      },
      "execution_count": null,
      "outputs": [
        {
          "output_type": "execute_result",
          "data": {
            "text/plain": [
              "0.023600730000000004"
            ]
          },
          "metadata": {},
          "execution_count": 99
        }
      ]
    },
    {
      "cell_type": "code",
      "source": [
        "lower, upper = np.percentile(sample_20, 2.5), np.percentile(sample_20, 97.5) \n",
        "lower, upper"
      ],
      "metadata": {
        "id": "-iR5GlQeiqrU",
        "colab": {
          "base_uri": "https://localhost:8080/"
        },
        "outputId": "bc00e578-ec82-407e-9c46-c36b154df1ca"
      },
      "execution_count": null,
      "outputs": [
        {
          "output_type": "execute_result",
          "data": {
            "text/plain": [
              "(0.017400000000000006, 0.029800000000000004)"
            ]
          },
          "metadata": {},
          "execution_count": 100
        }
      ]
    },
    {
      "cell_type": "code",
      "source": [
        "sns.kdeplot(s1, shade=False)\n",
        "plt.axvline(lower, c='red', label='95% Confidence Interval')\n",
        "plt.axvline(upper, c='red')\n",
        "plt.axvline(sample_20_mean, c='green', label='Mean')\n",
        "plt.legend();"
      ],
      "metadata": {
        "id": "soTSnOfFZ6Tc",
        "outputId": "35c52abc-97d2-4ec1-c10d-abede4ace6f2",
        "colab": {
          "base_uri": "https://localhost:8080/",
          "height": 265
        }
      },
      "execution_count": null,
      "outputs": [
        {
          "output_type": "display_data",
          "data": {
            "text/plain": [
              "<Figure size 432x288 with 1 Axes>"
            ],
            "image/png": "[encoded data removed]"
          },
          "metadata": {
            "needs_background": "light"
          }
        }
      ]
    },
    {
      "cell_type": "markdown",
      "source": [
        "# **🥇 도전 과제**\n",
        "\n",
        "> 2번에서 구한 두 표본 sample_10, sample_200을 계속 사용합니다.\n",
        "\n",
        "</br>\n",
        "\n",
        "- 한 표본의 신뢰구간을 수학적으로 다음 식과 같이 나타낼 수 있습니다. \n",
        "  > $\\bar{x} ± t \\cdot {s\\over \\sqrt{n}}$\n",
        "  - $\\bar{x}$ : 표본의 평균\n",
        "  - $t$ : t-value <br>\n",
        "    - [stats.t.ppf()](https://docs.scipy.org/doc/scipy/reference/generated/scipy.stats.t.html) 메소드를 활용해 구할 수 있습니다. 신뢰도(confidence level)는 95%로 합니다. \n",
        "    - 다음 [stackoverflow](https://stackoverflow.com/questions/67340028/how-to-use-t-ppf-which-are-the-arguments)를 참고하세요. \n",
        "  - $s$ : 표본의 표준편차\n",
        "  - $n$ : 데이터 수 \n",
        "\n",
        "- **신뢰구간 식과 `plt.bar()`를 사용하여 다음과 같은 신뢰구간 시각화를 그리세요.**\n",
        "\n",
        "  <img src = 'https://i.imgur.com/MpDSFtn.png'>\n",
        "\n",
        "- **위의 시각화로부터 도출할 수 있는 insight를 설명해 보세요.** "
      ],
      "metadata": {
        "id": "WbeZQk-vIh5c"
      }
    },
    {
      "cell_type": "code",
      "source": [
        "# 이곳에 코드를 작성하세요."
      ],
      "metadata": {
        "id": "BK9XxhIa69B_"
      },
      "execution_count": null,
      "outputs": []
    }
  ]
}