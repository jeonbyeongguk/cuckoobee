{
  "nbformat": 4,
  "nbformat_minor": 0,
  "metadata": {
    "colab": {
      "provenance": [],
      "collapsed_sections": []
    },
    "kernelspec": {
      "name": "python3",
      "display_name": "Python 3"
    },
    "language_info": {
      "name": "python"
    }
  },
  "cells": [
    {
      "cell_type": "markdown",
      "source": [
        "<img src='https://i.imgur.com/RDAD11M.png' width = '200' align = 'right'>\n",
        "\n",
        "## *DATA SCIENCE / SECTION 1 / SPRINT 3 / NOTE 1*\n",
        "\n",
        "# 📝 Assignment"
      ],
      "metadata": {
        "id": "vFDfOciGt_uF"
      }
    },
    {
      "cell_type": "markdown",
      "source": [
        "# 🌱 **기본 과제**"
      ],
      "metadata": {
        "id": "Ba3HfXIGqcaL"
      }
    },
    {
      "cell_type": "markdown",
      "source": [
        "## **Part 1. Dot product & Matrix Multiplication**"
      ],
      "metadata": {
        "id": "r-_BgIgUEJPa"
      }
    },
    {
      "cell_type": "markdown",
      "source": [
        "### **1-1. Dot product**\n",
        "\n",
        "- Dot product를 이용하여 구매자별 구매 총합을 계산하세요.\n",
        "  - Data Description\n",
        "    - People : 구매자\n",
        "    - Name : 제품명\n",
        "    - Price : 제품 개당 가격\n",
        "    - Amount : 제품 구매 갯수\n",
        "\n",
        "|People|Name|Price|Amount|\n",
        "|:-:|:-:|:-:|:-:|\n",
        "|X|A|100|35|\n",
        "|X|B|500|10|\n",
        "|X|C|250|25|\n",
        "|X|D|50|40|\n",
        "|Y|A|100|-|\n",
        "|Y|B|500|50|\n",
        "|Y|C|250|50|\n",
        "|Y|D|50|-|\n",
        "|Z|A|100|-|\n",
        "|Z|B|500|-|\n",
        "|Z|C|250|100|\n",
        "|Z|D|50|-|"
      ],
      "metadata": {
        "id": "Hwv5Gm0zuFiN"
      }
    },
    {
      "cell_type": "markdown",
      "source": [
        "##### **Q1. Dot product를 통해 구한 구매자 X의 구매 총합을 쓰세요.**"
      ],
      "metadata": {
        "id": "u-it5R1olczu"
      }
    },
    {
      "cell_type": "code",
      "execution_count": null,
      "metadata": {
        "colab": {
          "base_uri": "https://localhost:8080/"
        },
        "id": "n1qUAP8vmq8k",
        "outputId": "22216d72-d624-4c20-e942-6de108fc48f5"
      },
      "outputs": [
        {
          "output_type": "execute_result",
          "data": {
            "text/plain": [
              "[16750, 37500, 25000]"
            ]
          },
          "metadata": {},
          "execution_count": 3
        }
      ],
      "source": [
        "import numpy as np\n",
        "\n",
        "price = np.array([100, 500, 250, 50])\n",
        "X = np.array([35, 10, 25, 40])\n",
        "Y = np.array([0, 50, 50, 0])\n",
        "Z = np.array([0, 0, 100, 0])\n",
        "\n",
        "res1 = [np.dot(price, person) for person in (X, Y, Z)]\n",
        "res1"
      ]
    },
    {
      "cell_type": "code",
      "source": [
        "res1[0]"
      ],
      "metadata": {
        "colab": {
          "base_uri": "https://localhost:8080/"
        },
        "id": "2Sa6URRHErbS",
        "outputId": "34860709-407f-4393-c625-900b27bf23ce"
      },
      "execution_count": null,
      "outputs": [
        {
          "output_type": "execute_result",
          "data": {
            "text/plain": [
              "16750"
            ]
          },
          "metadata": {},
          "execution_count": 2
        }
      ]
    },
    {
      "cell_type": "markdown",
      "source": [
        "### **1-2. Matrix Multiplication**\n",
        "- Matrix Multiplication을 이용하여 구매자별 구매 총합을 계산하세요."
      ],
      "metadata": {
        "id": "KJE6pkd_kO6-"
      }
    },
    {
      "cell_type": "markdown",
      "source": [
        "##### **Q2. Matrix Multiplication을 통해 구한 구매자 Y의 구매 총합을 쓰세요.**"
      ],
      "metadata": {
        "id": "-waUDPuHqaGS"
      }
    },
    {
      "cell_type": "code",
      "source": [
        "amount = np.array([[35, 10, 25, 40], [0, 50, 50, 0], [0, 0 , 100, 0]]) # 3*4 \n",
        "price = np.array([100, 500, 250, 50]) # 4*1 \n",
        "\n",
        "res2 = np.matmul(amount, price)\n",
        "res2"
      ],
      "metadata": {
        "colab": {
          "base_uri": "https://localhost:8080/"
        },
        "id": "e0Hdqjjnjh0a",
        "outputId": "fd1012b0-a871-464d-bef1-29fd78c73f1a"
      },
      "execution_count": null,
      "outputs": [
        {
          "output_type": "execute_result",
          "data": {
            "text/plain": [
              "array([16750, 37500, 25000])"
            ]
          },
          "metadata": {},
          "execution_count": 4
        }
      ]
    },
    {
      "cell_type": "code",
      "source": [
        "res2[1]"
      ],
      "metadata": {
        "colab": {
          "base_uri": "https://localhost:8080/"
        },
        "id": "D8vUfTGbFqKb",
        "outputId": "a7cd1045-41fa-4101-a43c-6e71c59dc3d4"
      },
      "execution_count": null,
      "outputs": [
        {
          "output_type": "execute_result",
          "data": {
            "text/plain": [
              "37500"
            ]
          },
          "metadata": {},
          "execution_count": 5
        }
      ]
    },
    {
      "cell_type": "markdown",
      "source": [
        "## **Part 2. Numpy 연산**"
      ],
      "metadata": {
        "id": "XtbJrn1v2Yx7"
      }
    },
    {
      "cell_type": "markdown",
      "source": [
        "### **2-1. Norm**\n",
        "\n",
        "- 주어진 값 $x_0, x_1, ... x_n$ 를 element로 갖는 $\\vec v$에 대하여 \n",
        "  - $L_1$ Norm 의 정의는 다음과 같습니다. \n",
        "    > $|\\vec v| = |x_0| + |x_1| + ... + |x_n|$ <br>\n",
        "  - $L_2$ Norm 의 정의는 다음과 같습니다.\n",
        "    > $||\\vec v|| = \\sqrt {{x_0}^2 + {x_1}^2 + ... + {x_n}^2}$\n",
        "- 이를 참조하여 주어진 벡터에 대해서 $L_2$ Norm 의 값과 $L_1$ Norm 의 값의 차의 절대값을 계산하는 함수를 만드세요."
      ],
      "metadata": {
        "id": "78YBp8xRLeI0"
      }
    },
    {
      "cell_type": "markdown",
      "source": [
        "##### **Q3. $\\vec v = [3, -1, 8, 9]$일 때, NormDif($\\vec v$)의 결과값을 반올림하여 소수점 둘째 자리까지 쓰세요.**"
      ],
      "metadata": {
        "id": "_YkmVHS4r-uY"
      }
    },
    {
      "cell_type": "code",
      "source": [
        "def NormDif(v):\n",
        "    L1_norm = np.sum(np.abs(v))\n",
        "    L2_norm = np.sqrt(np.sum(np.square(v)))\n",
        "    \n",
        "    return np.abs(L2_norm - L1_norm)"
      ],
      "metadata": {
        "id": "kAg9kJIN2YGs"
      },
      "execution_count": null,
      "outputs": []
    },
    {
      "cell_type": "code",
      "source": [
        "v = [3, -1, 8, 9]\n",
        "\n",
        "round(NormDif(v), 2)"
      ],
      "metadata": {
        "colab": {
          "base_uri": "https://localhost:8080/"
        },
        "id": "vqyLJIq4r1JS",
        "outputId": "55644948-5ac8-47fa-9256-e2363ddb8f22"
      },
      "execution_count": null,
      "outputs": [
        {
          "output_type": "execute_result",
          "data": {
            "text/plain": [
              "8.55"
            ]
          },
          "metadata": {},
          "execution_count": 4
        }
      ]
    },
    {
      "cell_type": "markdown",
      "source": [
        "### **2-2. Errors**\n",
        "\n",
        "- 2개의 벡터와 error의 타입을 입력받아 그 결과값을 계산하는 함수를 작성하세요.\n",
        "  - error의 타입은 `MSE`, `MAE` 2가지입니다.\n",
        "> ${\\rm MSE} = {1 \\over n} \\sum_{i=1}^n ({\\hat Y_i}-Y_i)^2$\n",
        ">\n",
        "> ${\\rm MAE} = {1 \\over n} \\sum_{i=1}^n |{\\hat Y_i}-Y_i|$\n",
        ">\n",
        "> where $\\hat Y_i$ : 예측값(prediction), $Y_i$ : 실제값(target) "
      ],
      "metadata": {
        "id": "ucbXs8Zz2sAo"
      }
    },
    {
      "cell_type": "markdown",
      "source": [
        "##### **Q4. 예측값 $x = [2085, 1815, 2235, 1400, 2500, 1430, 3070, 2000, 1299, 1180]$ 이고, 실제값 $y=[2103, 2099, 1985, 1630, 2480, 1300, 3200, 1990, 1405, 1210]$ 일 때, error 함수를 통해 얻은 MSE와 MAE 결과값을 (MSE 값, MAE 값) 형태로 쓰세요.**"
      ],
      "metadata": {
        "id": "EzwHTNfhNRMJ"
      }
    },
    {
      "cell_type": "code",
      "source": [
        "def error(x, y, type):\n",
        "    if type == 'MSE':\n",
        "        err = np.sum(np.square(x-y))/len(x)\n",
        "    else:\n",
        "        err = np.sum(np.abs(x-y))/len(x)\n",
        "        \n",
        "    return err"
      ],
      "metadata": {
        "id": "RsQfuBKj2v5S"
      },
      "execution_count": null,
      "outputs": []
    },
    {
      "cell_type": "code",
      "source": [
        "import numpy as np\n",
        "\n",
        "x = np.array([2085,1815,2235,1400,2500,1430,3070,2000,1299,1180])\n",
        "y = np.array([2103,2099,1985,1630,2480,1300,3200,1990,1405,1210])\n",
        "\n",
        "print('MSE 값:', error(x, y, 'MSE'))\n",
        "print('MAE 값:', error(x, y, 'MAE'))"
      ],
      "metadata": {
        "colab": {
          "base_uri": "https://localhost:8080/"
        },
        "id": "wROmomNiQBlO",
        "outputId": "06ace3ce-ce34-4e5a-fd11-d164fd4dcf54"
      },
      "execution_count": null,
      "outputs": [
        {
          "output_type": "stream",
          "name": "stdout",
          "text": [
            "MSE 값: 24281.6\n",
            "MAE 값: 120.8\n"
          ]
        }
      ]
    },
    {
      "cell_type": "code",
      "source": [
        "error(x, y, 'MSE'), error(x, y, 'MAE')"
      ],
      "metadata": {
        "colab": {
          "base_uri": "https://localhost:8080/"
        },
        "id": "ul7HWOuJ635z",
        "outputId": "3417bb61-fc38-4125-f29c-e23fb16eb606"
      },
      "execution_count": null,
      "outputs": [
        {
          "output_type": "execute_result",
          "data": {
            "text/plain": [
              "(24281.6, 120.8)"
            ]
          },
          "metadata": {},
          "execution_count": 5
        }
      ]
    },
    {
      "cell_type": "markdown",
      "source": [
        "## **Part 3. Span**\n",
        "\n",
        "- 다음 벡터들의 span과 이것이 의미하는 바를 설명하세요.\n",
        "> $g = \\begin{bmatrix} 1 & 3 \\end{bmatrix}\n",
        "\\qquad\n",
        "h = \\begin{bmatrix} 2 & 6 \\end{bmatrix}$\n",
        "\n",
        "  - `np.stack()`을 사용하여 두 벡터 g, h를 하나의 matrix로 합치세요.\n",
        "  - matrix의 rank를 구해 보세요. "
      ],
      "metadata": {
        "id": "jR6NUOL33ng6"
      }
    },
    {
      "cell_type": "markdown",
      "source": [
        "##### **Q5. 두 벡터 g와 h의 span으로 옳은 것을 고르세요.**\n",
        "- 점 \n",
        "- 직선\n",
        "- 평면 \n",
        "- 3차원 공간 \n",
        "\n"
      ],
      "metadata": {
        "id": "LhzNyRKQRXfF"
      }
    },
    {
      "cell_type": "markdown",
      "source": [
        "##### **Q6. rank를 통해 확인할 수 있는 두 벡터 g와 h의 관계로 옳은 것을 고르세요.**\n",
        "- 선형 관계에 있는 벡터(Linearly dependent vector)\n",
        "- 선형 관계가 없는 벡터(Linearly independent vector) "
      ],
      "metadata": {
        "id": "JsmvsGsCoHnI"
      }
    },
    {
      "cell_type": "code",
      "source": [
        "g, h = np.array([1, 3]), np.array([2, 6])\n",
        "gh_matrix = np.stack((g, h))\n",
        "\n",
        "np.linalg.matrix_rank(gh_matrix)"
      ],
      "metadata": {
        "colab": {
          "base_uri": "https://localhost:8080/"
        },
        "id": "WkvSgOkm4bg9",
        "outputId": "0450e9e3-d0e4-4a80-ba5c-4fc29e3a0120"
      },
      "execution_count": null,
      "outputs": [
        {
          "output_type": "execute_result",
          "data": {
            "text/plain": [
              "1"
            ]
          },
          "metadata": {},
          "execution_count": 7
        }
      ]
    },
    {
      "cell_type": "code",
      "source": [
        "'''\n",
        "두 벡터가 생성하는 span의 차원 수(rank)가 1이므로 한 직선 위에 있는 선형 종속 벡터이다.\n",
        "벡터를 (x,y)라 할 때, span : 3x - y = 0 \n",
        "'''"
      ],
      "metadata": {
        "id": "099abH_w4hcr"
      },
      "execution_count": null,
      "outputs": []
    },
    {
      "cell_type": "markdown",
      "source": [
        "# 🥇 **도전 과제** "
      ],
      "metadata": {
        "id": "yQKicJq8saha"
      }
    },
    {
      "cell_type": "markdown",
      "source": [
        "## **Part 4. Cramer's rule**\n",
        "\n",
        "- **Cramer's rule을 사용해 $x_1$, $x_2$, $x_3$의 값을 구하세요. (단, 반올림하여 소수점 둘째 자리까지 쓰세요.)**\n",
        "> $x_1$ + $2x_3$ = 6\n",
        ">\n",
        "> $-3x_1$ + $4x_2$ + $6x_3$ = 30\n",
        ">\n",
        "> $-x_1$ $-2x_2$ + $3x_3$ = 8"
      ],
      "metadata": {
        "id": "if2a35Q8rFIP"
      }
    },
    {
      "cell_type": "code",
      "source": [
        "# 행렬 A\n",
        "A = np.array([[1,0,2],\n",
        "              [-3,4,6],\n",
        "              [-1,-2,3]])\n",
        "# 행렬 B\n",
        "B = np.array([[6],[30],[8]])\n",
        "\n",
        "# 행렬 A_j \n",
        "A_1 = np.array([[6,0,2],\n",
        "              [30,4,6],\n",
        "              [8,-2,3]])\n",
        "A_2 = np.array([[1,6,2],\n",
        "              [-3,30,6],\n",
        "              [-1,8,3]])\n",
        "A_3 = np.array([[1,0,6],\n",
        "              [-3,4,30],\n",
        "              [-1,-2,8]])\n",
        "\n",
        "# Cramer's rule\n",
        "x1 = round(np.linalg.det(A_1)/np.linalg.det(A),2)\n",
        "x2 = round(np.linalg.det(A_2)/np.linalg.det(A),2)\n",
        "x3 = round(np.linalg.det(A_3)/np.linalg.det(A),2)\n",
        "\n",
        "print('x1=',x1,'\\nx2=',x2,'\\nx3=',x3)"
      ],
      "metadata": {
        "id": "Ed0iawtbsbgA",
        "colab": {
          "base_uri": "https://localhost:8080/"
        },
        "outputId": "5dfce88a-5ad3-49c2-8a54-4fb20ea3e7d1"
      },
      "execution_count": null,
      "outputs": [
        {
          "output_type": "stream",
          "name": "stdout",
          "text": [
            "x1= -0.91 \n",
            "x2= 1.64 \n",
            "x3= 3.45\n"
          ]
        }
      ]
    }
  ]
}