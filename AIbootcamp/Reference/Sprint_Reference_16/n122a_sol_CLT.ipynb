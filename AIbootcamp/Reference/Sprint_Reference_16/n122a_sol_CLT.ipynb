{
  "nbformat": 4,
  "nbformat_minor": 0,
  "metadata": {
    "colab": {
      "provenance": [],
      "collapsed_sections": []
    },
    "kernelspec": {
      "name": "python3",
      "display_name": "Python 3"
    },
    "language_info": {
      "name": "python"
    }
  },
  "cells": [
    {
      "cell_type": "markdown",
      "source": [
        "<img src='https://i.imgur.com/RDAD11M.png' width = '200' align = 'right'>\n",
        "\n",
        "## *DATA SCIENCE / SECTION 1 / SPRINT 2 / NOTE 2*\n",
        "\n",
        "# 📝 Assignment"
      ],
      "metadata": {
        "id": "hhLTda3cVIHR"
      }
    },
    {
      "cell_type": "markdown",
      "source": [
        "# **🌱 기본 과제**"
      ],
      "metadata": {
        "id": "5x7pERiy3grr"
      }
    },
    {
      "cell_type": "markdown",
      "source": [
        "## **Part 1. 데이터셋 불러오기**\n",
        "\n",
        "- 서울시 기간별 시간평균 대기환경 정보 데이터셋을 \b불러오세요. \n",
        "  - 다음 [링크](https://data.seoul.go.kr/dataList/OA-2221/S/1/datasetView.do)에서 `2020년 3월`의 데이터셋을 다운받으세요. \n",
        "- 불러온 데이터셋을 변수 `data`에 저장하세요.\n",
        "  - 한글 데이터이므로 `encoding` 파라미터 설정이 필요합니다. \n",
        "  - `측정일시`, `측정소명`, `오존(ppm)` column만 사용합니다. column을 추출하는 방법은 여러 가지가 있는데, 이번에는 `usecols` 파라미터를 한번 사용해 보세요. \n",
        "- `data`에서 `측정소명`이 **`송파구`**인 데이터를 추출하여 `df`에 저장하세요. \n",
        "- `df`의 index를 재설정 하세요."
      ],
      "metadata": {
        "id": "m9DCmR8T-qCP"
      }
    },
    {
      "cell_type": "markdown",
      "source": [
        "##### **Q1. `df`의 row는 모두 몇 개인지 쓰세요.**"
      ],
      "metadata": {
        "id": "F_ecLvyM3URQ"
      }
    },
    {
      "cell_type": "code",
      "execution_count": null,
      "metadata": {
        "id": "OtcZz3RFkB-w"
      },
      "outputs": [],
      "source": [
        "# 데이터셋 업로드\n",
        "from google.colab import files\n",
        "files.upload()"
      ]
    },
    {
      "cell_type": "code",
      "source": [
        "# 데이터셋 불러오기 \n",
        "\n",
        "import pandas as pd\n",
        "\n",
        "data = pd.read_csv('./data_air.csv', encoding='cp949')\n",
        "data.head(3)"
      ],
      "metadata": {
        "colab": {
          "base_uri": "https://localhost:8080/",
          "height": 257
        },
        "id": "XxOSr7bkby27",
        "outputId": "0aaa7ff4-d701-4806-bb5c-0bd90aae21ae"
      },
      "execution_count": null,
      "outputs": [
        {
          "output_type": "execute_result",
          "data": {
            "text/plain": [
              "           측정일시  권역코드  권역명   측정소코드 측정소명  미세먼지 1시간(㎍/㎥)  미세먼지 24시간(㎍/㎥)  \\\n",
              "0  202003312300   100  도심권  111123  종로구             47              48   \n",
              "1  202003312300   100  도심권  111131  용산구             55              52   \n",
              "2  202003312300   100  도심권  111121   중구             43              43   \n",
              "\n",
              "   초미세먼지(㎍/㎥)  오존(ppm)  이산화질소농도(ppm)  일산화탄소농도(ppm)  아황산가스농도(ppm)  \n",
              "0          22    0.036         0.018           0.4         0.004  \n",
              "1          21    0.024         0.033           0.5         0.003  \n",
              "2          24    0.034         0.020           0.4         0.003  "
            ],
            "text/html": [
              "\n",
              "  <div id=\"df-bcc9369a-ffef-49d5-8c2d-b78550761325\">\n",
              "    <div class=\"colab-df-container\">\n",
              "      <div>\n",
              "<style scoped>\n",
              "    .dataframe tbody tr th:only-of-type {\n",
              "        vertical-align: middle;\n",
              "    }\n",
              "\n",
              "    .dataframe tbody tr th {\n",
              "        vertical-align: top;\n",
              "    }\n",
              "\n",
              "    .dataframe thead th {\n",
              "        text-align: right;\n",
              "    }\n",
              "</style>\n",
              "<table border=\"1\" class=\"dataframe\">\n",
              "  <thead>\n",
              "    <tr style=\"text-align: right;\">\n",
              "      <th></th>\n",
              "      <th>측정일시</th>\n",
              "      <th>권역코드</th>\n",
              "      <th>권역명</th>\n",
              "      <th>측정소코드</th>\n",
              "      <th>측정소명</th>\n",
              "      <th>미세먼지 1시간(㎍/㎥)</th>\n",
              "      <th>미세먼지 24시간(㎍/㎥)</th>\n",
              "      <th>초미세먼지(㎍/㎥)</th>\n",
              "      <th>오존(ppm)</th>\n",
              "      <th>이산화질소농도(ppm)</th>\n",
              "      <th>일산화탄소농도(ppm)</th>\n",
              "      <th>아황산가스농도(ppm)</th>\n",
              "    </tr>\n",
              "  </thead>\n",
              "  <tbody>\n",
              "    <tr>\n",
              "      <th>0</th>\n",
              "      <td>202003312300</td>\n",
              "      <td>100</td>\n",
              "      <td>도심권</td>\n",
              "      <td>111123</td>\n",
              "      <td>종로구</td>\n",
              "      <td>47</td>\n",
              "      <td>48</td>\n",
              "      <td>22</td>\n",
              "      <td>0.036</td>\n",
              "      <td>0.018</td>\n",
              "      <td>0.4</td>\n",
              "      <td>0.004</td>\n",
              "    </tr>\n",
              "    <tr>\n",
              "      <th>1</th>\n",
              "      <td>202003312300</td>\n",
              "      <td>100</td>\n",
              "      <td>도심권</td>\n",
              "      <td>111131</td>\n",
              "      <td>용산구</td>\n",
              "      <td>55</td>\n",
              "      <td>52</td>\n",
              "      <td>21</td>\n",
              "      <td>0.024</td>\n",
              "      <td>0.033</td>\n",
              "      <td>0.5</td>\n",
              "      <td>0.003</td>\n",
              "    </tr>\n",
              "    <tr>\n",
              "      <th>2</th>\n",
              "      <td>202003312300</td>\n",
              "      <td>100</td>\n",
              "      <td>도심권</td>\n",
              "      <td>111121</td>\n",
              "      <td>중구</td>\n",
              "      <td>43</td>\n",
              "      <td>43</td>\n",
              "      <td>24</td>\n",
              "      <td>0.034</td>\n",
              "      <td>0.020</td>\n",
              "      <td>0.4</td>\n",
              "      <td>0.003</td>\n",
              "    </tr>\n",
              "  </tbody>\n",
              "</table>\n",
              "</div>\n",
              "      <button class=\"colab-df-convert\" onclick=\"convertToInteractive('df-bcc9369a-ffef-49d5-8c2d-b78550761325')\"\n",
              "              title=\"Convert this dataframe to an interactive table.\"\n",
              "              style=\"display:none;\">\n",
              "        \n",
              "  <svg xmlns=\"http://www.w3.org/2000/svg\" height=\"24px\"viewBox=\"0 0 24 24\"\n",
              "       width=\"24px\">\n",
              "    <path d=\"M0 0h24v24H0V0z\" fill=\"none\"/>\n",
              "    <path d=\"M18.56 5.44l.94 2.06.94-2.06 2.06-.94-2.06-.94-.94-2.06-.94 2.06-2.06.94zm-11 1L8.5 8.5l.94-2.06 2.06-.94-2.06-.94L8.5 2.5l-.94 2.06-2.06.94zm10 10l.94 2.06.94-2.06 2.06-.94-2.06-.94-.94-2.06-.94 2.06-2.06.94z\"/><path d=\"M17.41 7.96l-1.37-1.37c-.4-.4-.92-.59-1.43-.59-.52 0-1.04.2-1.43.59L10.3 9.45l-7.72 7.72c-.78.78-.78 2.05 0 2.83L4 21.41c.39.39.9.59 1.41.59.51 0 1.02-.2 1.41-.59l7.78-7.78 2.81-2.81c.8-.78.8-2.07 0-2.86zM5.41 20L4 18.59l7.72-7.72 1.47 1.35L5.41 20z\"/>\n",
              "  </svg>\n",
              "      </button>\n",
              "      \n",
              "  <style>\n",
              "    .colab-df-container {\n",
              "      display:flex;\n",
              "      flex-wrap:wrap;\n",
              "      gap: 12px;\n",
              "    }\n",
              "\n",
              "    .colab-df-convert {\n",
              "      background-color: #E8F0FE;\n",
              "      border: none;\n",
              "      border-radius: 50%;\n",
              "      cursor: pointer;\n",
              "      display: none;\n",
              "      fill: #1967D2;\n",
              "      height: 32px;\n",
              "      padding: 0 0 0 0;\n",
              "      width: 32px;\n",
              "    }\n",
              "\n",
              "    .colab-df-convert:hover {\n",
              "      background-color: #E2EBFA;\n",
              "      box-shadow: 0px 1px 2px rgba(60, 64, 67, 0.3), 0px 1px 3px 1px rgba(60, 64, 67, 0.15);\n",
              "      fill: #174EA6;\n",
              "    }\n",
              "\n",
              "    [theme=dark] .colab-df-convert {\n",
              "      background-color: #3B4455;\n",
              "      fill: #D2E3FC;\n",
              "    }\n",
              "\n",
              "    [theme=dark] .colab-df-convert:hover {\n",
              "      background-color: #434B5C;\n",
              "      box-shadow: 0px 1px 3px 1px rgba(0, 0, 0, 0.15);\n",
              "      filter: drop-shadow(0px 1px 2px rgba(0, 0, 0, 0.3));\n",
              "      fill: #FFFFFF;\n",
              "    }\n",
              "  </style>\n",
              "\n",
              "      <script>\n",
              "        const buttonEl =\n",
              "          document.querySelector('#df-bcc9369a-ffef-49d5-8c2d-b78550761325 button.colab-df-convert');\n",
              "        buttonEl.style.display =\n",
              "          google.colab.kernel.accessAllowed ? 'block' : 'none';\n",
              "\n",
              "        async function convertToInteractive(key) {\n",
              "          const element = document.querySelector('#df-bcc9369a-ffef-49d5-8c2d-b78550761325');\n",
              "          const dataTable =\n",
              "            await google.colab.kernel.invokeFunction('convertToInteractive',\n",
              "                                                     [key], {});\n",
              "          if (!dataTable) return;\n",
              "\n",
              "          const docLinkHtml = 'Like what you see? Visit the ' +\n",
              "            '<a target=\"_blank\" href=https://colab.research.google.com/notebooks/data_table.ipynb>data table notebook</a>'\n",
              "            + ' to learn more about interactive tables.';\n",
              "          element.innerHTML = '';\n",
              "          dataTable['output_type'] = 'display_data';\n",
              "          await google.colab.output.renderOutput(dataTable, element);\n",
              "          const docLink = document.createElement('div');\n",
              "          docLink.innerHTML = docLinkHtml;\n",
              "          element.appendChild(docLink);\n",
              "        }\n",
              "      </script>\n",
              "    </div>\n",
              "  </div>\n",
              "  "
            ]
          },
          "metadata": {},
          "execution_count": 1
        }
      ]
    },
    {
      "cell_type": "code",
      "source": [
        "# 측정일시, 측정소명, 오존(ppm) column만 추출하여 데이터셋 불러오기  \n",
        "data = pd.read_csv('./data_air.csv', encoding='cp949', usecols=['측정일시', '측정소명', '오존(ppm)'])\n",
        "\n",
        "# index 초기화\n",
        "df = data[data['측정소명'] == '송파구'].reset_index(drop=True)\n",
        "df"
      ],
      "metadata": {
        "colab": {
          "base_uri": "https://localhost:8080/",
          "height": 424
        },
        "id": "Z1nr0v6PYCAp",
        "outputId": "49f68cd8-2270-461f-ca87-c1f2965b2c16"
      },
      "execution_count": null,
      "outputs": [
        {
          "output_type": "execute_result",
          "data": {
            "text/plain": [
              "             측정일시 측정소명  오존(ppm)\n",
              "0    202003312300  송파구    0.020\n",
              "1    202003312200  송파구    0.021\n",
              "2    202003312100  송파구    0.025\n",
              "3    202003312000  송파구    0.032\n",
              "4    202003311900  송파구    0.034\n",
              "..            ...  ...      ...\n",
              "739  202003010400  송파구    0.002\n",
              "740  202003010300  송파구    0.002\n",
              "741  202003010200  송파구    0.002\n",
              "742  202003010100  송파구    0.002\n",
              "743  202003010000  송파구    0.002\n",
              "\n",
              "[744 rows x 3 columns]"
            ],
            "text/html": [
              "\n",
              "  <div id=\"df-6dc6e868-84a1-48d7-a2e1-ac6b954173ef\">\n",
              "    <div class=\"colab-df-container\">\n",
              "      <div>\n",
              "<style scoped>\n",
              "    .dataframe tbody tr th:only-of-type {\n",
              "        vertical-align: middle;\n",
              "    }\n",
              "\n",
              "    .dataframe tbody tr th {\n",
              "        vertical-align: top;\n",
              "    }\n",
              "\n",
              "    .dataframe thead th {\n",
              "        text-align: right;\n",
              "    }\n",
              "</style>\n",
              "<table border=\"1\" class=\"dataframe\">\n",
              "  <thead>\n",
              "    <tr style=\"text-align: right;\">\n",
              "      <th></th>\n",
              "      <th>측정일시</th>\n",
              "      <th>측정소명</th>\n",
              "      <th>오존(ppm)</th>\n",
              "    </tr>\n",
              "  </thead>\n",
              "  <tbody>\n",
              "    <tr>\n",
              "      <th>0</th>\n",
              "      <td>202003312300</td>\n",
              "      <td>송파구</td>\n",
              "      <td>0.020</td>\n",
              "    </tr>\n",
              "    <tr>\n",
              "      <th>1</th>\n",
              "      <td>202003312200</td>\n",
              "      <td>송파구</td>\n",
              "      <td>0.021</td>\n",
              "    </tr>\n",
              "    <tr>\n",
              "      <th>2</th>\n",
              "      <td>202003312100</td>\n",
              "      <td>송파구</td>\n",
              "      <td>0.025</td>\n",
              "    </tr>\n",
              "    <tr>\n",
              "      <th>3</th>\n",
              "      <td>202003312000</td>\n",
              "      <td>송파구</td>\n",
              "      <td>0.032</td>\n",
              "    </tr>\n",
              "    <tr>\n",
              "      <th>4</th>\n",
              "      <td>202003311900</td>\n",
              "      <td>송파구</td>\n",
              "      <td>0.034</td>\n",
              "    </tr>\n",
              "    <tr>\n",
              "      <th>...</th>\n",
              "      <td>...</td>\n",
              "      <td>...</td>\n",
              "      <td>...</td>\n",
              "    </tr>\n",
              "    <tr>\n",
              "      <th>739</th>\n",
              "      <td>202003010400</td>\n",
              "      <td>송파구</td>\n",
              "      <td>0.002</td>\n",
              "    </tr>\n",
              "    <tr>\n",
              "      <th>740</th>\n",
              "      <td>202003010300</td>\n",
              "      <td>송파구</td>\n",
              "      <td>0.002</td>\n",
              "    </tr>\n",
              "    <tr>\n",
              "      <th>741</th>\n",
              "      <td>202003010200</td>\n",
              "      <td>송파구</td>\n",
              "      <td>0.002</td>\n",
              "    </tr>\n",
              "    <tr>\n",
              "      <th>742</th>\n",
              "      <td>202003010100</td>\n",
              "      <td>송파구</td>\n",
              "      <td>0.002</td>\n",
              "    </tr>\n",
              "    <tr>\n",
              "      <th>743</th>\n",
              "      <td>202003010000</td>\n",
              "      <td>송파구</td>\n",
              "      <td>0.002</td>\n",
              "    </tr>\n",
              "  </tbody>\n",
              "</table>\n",
              "<p>744 rows × 3 columns</p>\n",
              "</div>\n",
              "      <button class=\"colab-df-convert\" onclick=\"convertToInteractive('df-6dc6e868-84a1-48d7-a2e1-ac6b954173ef')\"\n",
              "              title=\"Convert this dataframe to an interactive table.\"\n",
              "              style=\"display:none;\">\n",
              "        \n",
              "  <svg xmlns=\"http://www.w3.org/2000/svg\" height=\"24px\"viewBox=\"0 0 24 24\"\n",
              "       width=\"24px\">\n",
              "    <path d=\"M0 0h24v24H0V0z\" fill=\"none\"/>\n",
              "    <path d=\"M18.56 5.44l.94 2.06.94-2.06 2.06-.94-2.06-.94-.94-2.06-.94 2.06-2.06.94zm-11 1L8.5 8.5l.94-2.06 2.06-.94-2.06-.94L8.5 2.5l-.94 2.06-2.06.94zm10 10l.94 2.06.94-2.06 2.06-.94-2.06-.94-.94-2.06-.94 2.06-2.06.94z\"/><path d=\"M17.41 7.96l-1.37-1.37c-.4-.4-.92-.59-1.43-.59-.52 0-1.04.2-1.43.59L10.3 9.45l-7.72 7.72c-.78.78-.78 2.05 0 2.83L4 21.41c.39.39.9.59 1.41.59.51 0 1.02-.2 1.41-.59l7.78-7.78 2.81-2.81c.8-.78.8-2.07 0-2.86zM5.41 20L4 18.59l7.72-7.72 1.47 1.35L5.41 20z\"/>\n",
              "  </svg>\n",
              "      </button>\n",
              "      \n",
              "  <style>\n",
              "    .colab-df-container {\n",
              "      display:flex;\n",
              "      flex-wrap:wrap;\n",
              "      gap: 12px;\n",
              "    }\n",
              "\n",
              "    .colab-df-convert {\n",
              "      background-color: #E8F0FE;\n",
              "      border: none;\n",
              "      border-radius: 50%;\n",
              "      cursor: pointer;\n",
              "      display: none;\n",
              "      fill: #1967D2;\n",
              "      height: 32px;\n",
              "      padding: 0 0 0 0;\n",
              "      width: 32px;\n",
              "    }\n",
              "\n",
              "    .colab-df-convert:hover {\n",
              "      background-color: #E2EBFA;\n",
              "      box-shadow: 0px 1px 2px rgba(60, 64, 67, 0.3), 0px 1px 3px 1px rgba(60, 64, 67, 0.15);\n",
              "      fill: #174EA6;\n",
              "    }\n",
              "\n",
              "    [theme=dark] .colab-df-convert {\n",
              "      background-color: #3B4455;\n",
              "      fill: #D2E3FC;\n",
              "    }\n",
              "\n",
              "    [theme=dark] .colab-df-convert:hover {\n",
              "      background-color: #434B5C;\n",
              "      box-shadow: 0px 1px 3px 1px rgba(0, 0, 0, 0.15);\n",
              "      filter: drop-shadow(0px 1px 2px rgba(0, 0, 0, 0.3));\n",
              "      fill: #FFFFFF;\n",
              "    }\n",
              "  </style>\n",
              "\n",
              "      <script>\n",
              "        const buttonEl =\n",
              "          document.querySelector('#df-6dc6e868-84a1-48d7-a2e1-ac6b954173ef button.colab-df-convert');\n",
              "        buttonEl.style.display =\n",
              "          google.colab.kernel.accessAllowed ? 'block' : 'none';\n",
              "\n",
              "        async function convertToInteractive(key) {\n",
              "          const element = document.querySelector('#df-6dc6e868-84a1-48d7-a2e1-ac6b954173ef');\n",
              "          const dataTable =\n",
              "            await google.colab.kernel.invokeFunction('convertToInteractive',\n",
              "                                                     [key], {});\n",
              "          if (!dataTable) return;\n",
              "\n",
              "          const docLinkHtml = 'Like what you see? Visit the ' +\n",
              "            '<a target=\"_blank\" href=https://colab.research.google.com/notebooks/data_table.ipynb>data table notebook</a>'\n",
              "            + ' to learn more about interactive tables.';\n",
              "          element.innerHTML = '';\n",
              "          dataTable['output_type'] = 'display_data';\n",
              "          await google.colab.output.renderOutput(dataTable, element);\n",
              "          const docLink = document.createElement('div');\n",
              "          docLink.innerHTML = docLinkHtml;\n",
              "          element.appendChild(docLink);\n",
              "        }\n",
              "      </script>\n",
              "    </div>\n",
              "  </div>\n",
              "  "
            ]
          },
          "metadata": {},
          "execution_count": 2
        }
      ]
    },
    {
      "cell_type": "markdown",
      "source": [
        "## **Part 2. 큰 수의 법칙**\n",
        "\n",
        "표본 크기가 커질수록 표본평균이 모평균에 가까워지는 것을 확인합니다. "
      ],
      "metadata": {
        "id": "PR5Hrf4MmFH-"
      }
    },
    {
      "cell_type": "markdown",
      "source": [
        "### **2-1. 모평균**\n",
        "- `df`에서 `오존(ppm)` column을 추출하여 변수 `pop`에 저장합니다. 우리는 `pop`을 모집단이라 가정한 뒤 분석을 진행합니다. \n",
        "- 모평균을 `pop_mean`에 저장하세요. "
      ],
      "metadata": {
        "id": "a-b9PfV2N-n0"
      }
    },
    {
      "cell_type": "markdown",
      "source": [
        "##### **Q2. 모평균을 반올림하여 소수점 둘째 자리까지 쓰세요.**"
      ],
      "metadata": {
        "id": "yUduo9Xq3UGt"
      }
    },
    {
      "cell_type": "code",
      "source": [
        "# 변수 지정 \n",
        "pop = df['오존(ppm)']"
      ],
      "metadata": {
        "id": "o_xMP8e04tGa"
      },
      "execution_count": null,
      "outputs": []
    },
    {
      "cell_type": "code",
      "source": [
        "# 모평균 \n",
        "pop_mean = pop.mean()\n",
        "\n",
        "round(pop_mean, 2)"
      ],
      "metadata": {
        "colab": {
          "base_uri": "https://localhost:8080/"
        },
        "id": "Q1FaVLeshZ-3",
        "outputId": "04575036-2372-4076-ca79-8d76294460a1"
      },
      "execution_count": null,
      "outputs": [
        {
          "output_type": "execute_result",
          "data": {
            "text/plain": [
              "0.02"
            ]
          },
          "metadata": {},
          "execution_count": 4
        }
      ]
    },
    {
      "cell_type": "markdown",
      "source": [
        "### **2-2. 표본 크기에 따른 표본 평균**\n",
        "- 모집단에서 10개의 데이터를 추출하여 평균을 `sample_10_mean`에 저장하세요.\n",
        "- 모집단에서 200개의 데이터를 추출하여 평균을 `sample_200_mean`에 저장하세요. \n",
        "- 데이터를 추출할 때, [`.sample()`](https://pandas.pydata.org/docs/reference/api/pandas.DataFrame.sample.html) 함수를 활용하세요. \n",
        "  - `random_state=2`로 설정합니다. \n",
        "  - 중복 추출을 허용합니다. "
      ],
      "metadata": {
        "id": "SbuWKioKOyMe"
      }
    },
    {
      "cell_type": "markdown",
      "source": [
        "##### **Q3. 모평균과 표본 크기가 10인 표본의 평균의 차의 절댓값을 $a$, 모평균과 표본 크기가 200인 표본의 평균의 차의 절댓값을 $b$라 할 때, $a \\over b$의 값을 반올림하여 소수점 둘째 자리까지 구하세요.**"
      ],
      "metadata": {
        "id": "YMfQq5_XkhuR"
      }
    },
    {
      "cell_type": "code",
      "source": [
        "# 모집단에서 각각 10개, 200개의 데이터를 랜덤으로 추출\n",
        "sample_10 = pop.sample(10, random_state=2, replace=True)\n",
        "sample_200 = pop.sample(200, random_state=2, replace=True)"
      ],
      "metadata": {
        "id": "FGSGlyrNnGwN"
      },
      "execution_count": null,
      "outputs": []
    },
    {
      "cell_type": "code",
      "source": [
        "# 10개 데이터의 평균\n",
        "sample_10_mean = sample_10.mean()\n",
        "sample_10_mean"
      ],
      "metadata": {
        "colab": {
          "base_uri": "https://localhost:8080/"
        },
        "id": "CU9BXAOJnmbM",
        "outputId": "001fa33b-df64-4f70-f44d-dd4ff5b6ca76"
      },
      "execution_count": null,
      "outputs": [
        {
          "output_type": "execute_result",
          "data": {
            "text/plain": [
              "0.0256"
            ]
          },
          "metadata": {},
          "execution_count": 6
        }
      ]
    },
    {
      "cell_type": "code",
      "source": [
        "# 200개 데이터의 평균 \n",
        "sample_200_mean = sample_200.mean()\n",
        "sample_200_mean"
      ],
      "metadata": {
        "colab": {
          "base_uri": "https://localhost:8080/"
        },
        "id": "kIBIDQ6mnrla",
        "outputId": "7ce583a2-8d6b-4b73-a7d2-96f863dad7cf"
      },
      "execution_count": null,
      "outputs": [
        {
          "output_type": "execute_result",
          "data": {
            "text/plain": [
              "0.023735"
            ]
          },
          "metadata": {},
          "execution_count": 7
        }
      ]
    },
    {
      "cell_type": "code",
      "source": [
        "print('모평균과 표본 크기가 10인 표본의 평균의 차:', sample_10_mean - pop_mean)\n",
        "print('모평균과 표본 크기가 200인 표본의 평균의 차:', sample_200_mean - pop_mean)"
      ],
      "metadata": {
        "colab": {
          "base_uri": "https://localhost:8080/"
        },
        "id": "yilaeNcyli6M",
        "outputId": "211e297a-a1ad-426d-f9db-f07a2e7bfd32"
      },
      "execution_count": null,
      "outputs": [
        {
          "output_type": "stream",
          "name": "stdout",
          "text": [
            "모평균과 표본 크기가 10인 표본의 평균의 차: 0.002011290322580645\n",
            "모평균과 표본 크기가 200인 표본의 평균의 차: 0.00014629032258064306\n"
          ]
        }
      ]
    },
    {
      "cell_type": "code",
      "source": [
        "round((sample_10_mean-pop_mean) / (sample_200_mean-pop_mean), 2)"
      ],
      "metadata": {
        "colab": {
          "base_uri": "https://localhost:8080/"
        },
        "id": "XcYpmDRrl1Ss",
        "outputId": "b7b632e9-0c2a-4b85-d57f-c30ed3cabf01"
      },
      "execution_count": null,
      "outputs": [
        {
          "output_type": "execute_result",
          "data": {
            "text/plain": [
              "13.75"
            ]
          },
          "metadata": {},
          "execution_count": 9
        }
      ]
    },
    {
      "cell_type": "markdown",
      "source": [
        "### **2-3. 시각화**\n",
        "- 다음 시각화를 구현하세요.  <br>\n",
        "  <img src = 'https://i.imgur.com/cC8DaP1.png'>"
      ],
      "metadata": {
        "id": "XTMoR0gMO-xN"
      }
    },
    {
      "cell_type": "markdown",
      "source": [
        "##### **Q4. 주어진 시각화와 같이 히스토그램을 나타내려고 합니다. `plt.hist()`를 활용할 때, `()`안에 들어갈 인자는 무엇일까요?**\n",
        "- 모집단의 데이터 분포\n",
        "- 표본 크기가 10인 표본의 데이터 분포\n",
        "- 표본 크기가 200인 표본의 데이터 분포 \n",
        "- 표본 크기가 10인 표본의 평균의 분포\n",
        "- 표본 크기가 200인 표본의 평균의 분포 "
      ],
      "metadata": {
        "id": "fdwovFYBmzNK"
      }
    },
    {
      "cell_type": "code",
      "source": [
        "# 표본 크기에 따른 평균을 비교하는 시각화 \n",
        "import matplotlib.pyplot as plt\n",
        "\n",
        "plt.figure(figsize=(8,5))\n",
        "plt.hist(pop,alpha=0.5)\n",
        "plt.axvline(pop_mean, c='red', lw=2, label='Population Mean')\n",
        "plt.axvline(sample_10_mean, c='green', lw=2, label='Mean of Sample Size 10')\n",
        "plt.axvline(sample_200_mean, c='yellow', lw=2, label = 'Mean of Sample Size 200')\n",
        "plt.legend();"
      ],
      "metadata": {
        "colab": {
          "base_uri": "https://localhost:8080/",
          "height": 320
        },
        "outputId": "bc5efebd-7ef1-4f64-d11a-fe7ed9b96009",
        "id": "SmmAkLVnXnO8"
      },
      "execution_count": null,
      "outputs": [
        {
          "output_type": "display_data",
          "data": {
            "text/plain": [
              "<Figure size 576x360 with 1 Axes>"
            ],
            "image/png": "[encoded data removed]"
          },
          "metadata": {
            "needs_background": "light"
          }
        }
      ]
    },
    {
      "cell_type": "markdown",
      "source": [
        "## **Part 3. 중심극한정리**\n",
        "\n",
        "표본들의 평균 분포가 정규분포를 이루는지 다음 순서에 따라 확인합니다.  \n",
        "\n",
        "1. numpy의 `randam.choice()` 함수를 활용하여 `df['오존(ppm)']`에서 20개의 데이터를 추출합니다.\n",
        "  - 중복 추출을 허용합니다. \n",
        "2. 20개의 데이터의 평균을 계산하여 리스트 `s1`에 저장합니다. \n",
        "3. 1~2 과정을 `for loop`을 이용하여 10,000번 반복합니다. 즉, `s1`에는 10,000번 추출된 20개의 데이터의 평균값이 저장됩니다. \n",
        "4. 평균값들의 분포를 `seaborn.kdeplot()`을 활용하여 시각화 하세요. <br>\n",
        "  https://seaborn.pydata.org/generated/seaborn.kdeplot.html"
      ],
      "metadata": {
        "id": "QjjcAoJDAyfq"
      }
    },
    {
      "cell_type": "markdown",
      "source": [
        "##### **Q5. 평균 값들의 분포를 시각화한 결과는 어떤 모습일까요?**"
      ],
      "metadata": {
        "id": "pvAwpZCxxl9V"
      }
    },
    {
      "cell_type": "code",
      "source": [
        "# df['오존(ppm)']에서 20개의 데이터를 10,000번 추출하여 그 평균을 s1에 저장 \n",
        "\n",
        "import numpy as np\n",
        "import seaborn as sns\n",
        "\n",
        "s1 = []\n",
        "\n",
        "for _ in range(10000):\n",
        "    sample = np.random.choice(df['오존(ppm)'], 20)\n",
        "    s1.append(sample.mean())"
      ],
      "metadata": {
        "id": "XS_7GYs8gfey"
      },
      "execution_count": null,
      "outputs": []
    },
    {
      "cell_type": "code",
      "source": [
        "s1 = np.array(s1)"
      ],
      "metadata": {
        "id": "njWzGZMZhGwh"
      },
      "execution_count": null,
      "outputs": []
    },
    {
      "cell_type": "code",
      "source": [
        "# 표본 평균 분포 시각화 \n",
        "\n",
        "sns.kdeplot(s1)\n",
        "plt.show();"
      ],
      "metadata": {
        "colab": {
          "base_uri": "https://localhost:8080/",
          "height": 265
        },
        "id": "QQYw3kujloKu",
        "outputId": "36b40b56-755a-4f0f-f5f2-77ef50ef1708"
      },
      "execution_count": null,
      "outputs": [
        {
          "output_type": "display_data",
          "data": {
            "text/plain": [
              "<Figure size 432x288 with 1 Axes>"
            ],
            "image/png": "[encoded data removed]"
          },
          "metadata": {
            "needs_background": "light"
          }
        }
      ]
    },
    {
      "cell_type": "markdown",
      "source": [
        "## **Part 4. 신뢰구간**\n",
        "**Part 3** 에서 빌드한 표본 평균 분포에 대하여 모집단의 모수를 포함할 확률이 95%가 되는 구간을 시각화합니다. \n",
        "- 표본 평균의 평균은 초록 세로선으로, 신뢰구간 95% 구간은 빨간 세로선으로 나타내세요. "
      ],
      "metadata": {
        "id": "Hy0QfN5tlhAK"
      }
    },
    {
      "cell_type": "markdown",
      "source": [
        "##### **Q6. 95% 신뢰구간을 시각화한 결과는 어떤 모습일까요?**"
      ],
      "metadata": {
        "id": "6JGaQ5XTxhz_"
      }
    },
    {
      "cell_type": "code",
      "source": [
        "# 표본 평균의 평균\n",
        "s1_mean = s1.mean()\n",
        "\n",
        "# 표본 평균의 95% 신뢰구간 \n",
        "s1_lower, s1_upper = np.percentile(s1, 2.5), np.percentile(s1, 97.5)"
      ],
      "metadata": {
        "id": "-iR5GlQeiqrU"
      },
      "execution_count": null,
      "outputs": []
    },
    {
      "cell_type": "code",
      "source": [
        "print(f'신뢰구간 : {s1_lower, s1_upper}')"
      ],
      "metadata": {
        "colab": {
          "base_uri": "https://localhost:8080/"
        },
        "id": "Dh-I8ikUIZLb",
        "outputId": "092a5557-4758-49aa-edf4-500dd9133102"
      },
      "execution_count": null,
      "outputs": [
        {
          "output_type": "stream",
          "name": "stdout",
          "text": [
            "신뢰구간 : (0.017350000000000004, 0.029700000000000004)\n"
          ]
        }
      ]
    },
    {
      "cell_type": "code",
      "source": [
        "# 신뢰구간 시각화 \n",
        "\n",
        "plt.figure(figsize=(8, 5))\n",
        "sns.kdeplot(s1)\n",
        "plt.axvline(s1_lower, c='red', label='95% Confidence Interval')\n",
        "plt.axvline(s1_upper, c='red')\n",
        "plt.axvline(s1_mean, c='green', label='Mean')\n",
        "plt.legend();"
      ],
      "metadata": {
        "colab": {
          "base_uri": "https://localhost:8080/",
          "height": 320
        },
        "id": "5o8RUnAah1Qd",
        "outputId": "bb3846a7-a957-4eaa-eb68-c983ee1b851f"
      },
      "execution_count": null,
      "outputs": [
        {
          "output_type": "display_data",
          "data": {
            "text/plain": [
              "<Figure size 576x360 with 1 Axes>"
            ],
            "image/png": "[encoded data removed]"
          },
          "metadata": {
            "needs_background": "light"
          }
        }
      ]
    },
    {
      "cell_type": "markdown",
      "source": [
        "# **🥇 도전 과제**\n",
        "\n",
        "> 2번에서 구한 두 표본 sample_10, sample_200을 계속 사용합니다.\n",
        "\n",
        "</br>\n",
        "\n",
        "- 한 표본의 신뢰구간을 수학적으로 다음 식과 같이 나타낼 수 있습니다. \n",
        "  > $\\bar{x} ± t \\cdot {s\\over \\sqrt{n}}$\n",
        "  - $\\bar{x}$ : 표본의 평균\n",
        "  - $t$ : t-value <br>\n",
        "    - [stats.t.ppf()](https://docs.scipy.org/doc/scipy/reference/generated/scipy.stats.t.html) 메소드를 활용해 구할 수 있습니다. 신뢰도(confidence level)는 95%로 합니다. \n",
        "    - 다음 [stackoverflow](https://stackoverflow.com/questions/67340028/how-to-use-t-ppf-which-are-the-arguments)를 참고하세요. \n",
        "  - $s$ : 표본의 표준편차\n",
        "  - $n$ : 데이터 수 \n",
        "\n",
        "- **신뢰구간 식과 `plt.bar()`를 사용하여 다음과 같은 신뢰구간 시각화를 그리세요.**\n",
        "\n",
        "  <img src = 'https://i.imgur.com/MpDSFtn.png'>\n",
        "\n",
        "- **위의 시각화로부터 도출할 수 있는 insight를 설명해 보세요.** "
      ],
      "metadata": {
        "id": "WbeZQk-vIh5c"
      }
    },
    {
      "cell_type": "code",
      "source": [
        "from scipy import stats\n",
        "\n",
        "# 신뢰구간 식을 구현한 함수 생성 \n",
        "def confidence_interval(data, confidence = 0.95):\n",
        "    \n",
        "    data = np.array(data)\n",
        "    mean = np.mean(data)\n",
        "    n = len(data)\n",
        "\n",
        "    # 표준오차 s/sqrt{n}\n",
        "    stderr = stats.sem(data) \n",
        "\n",
        "    interval = stderr * stats.t.ppf((1+confidence)/2 , n-1)\n",
        "    return (mean - interval, mean + interval)"
      ],
      "metadata": {
        "id": "BK9XxhIa69B_"
      },
      "execution_count": null,
      "outputs": []
    },
    {
      "cell_type": "code",
      "source": [
        "sample_10_mean"
      ],
      "metadata": {
        "colab": {
          "base_uri": "https://localhost:8080/"
        },
        "id": "cqxTjvf38E-g",
        "outputId": "5644c25f-ce83-4777-ff87-8db76f36b5e8"
      },
      "execution_count": null,
      "outputs": [
        {
          "output_type": "execute_result",
          "data": {
            "text/plain": [
              "0.0256"
            ]
          },
          "metadata": {},
          "execution_count": 41
        }
      ]
    },
    {
      "cell_type": "code",
      "source": [
        "CI1 = confidence_interval(sample_10)\n",
        "CI1 "
      ],
      "metadata": {
        "colab": {
          "base_uri": "https://localhost:8080/"
        },
        "id": "3DNNkaID77Tx",
        "outputId": "44c2748f-e1fd-4bb1-9fec-495bfa2f4138"
      },
      "execution_count": null,
      "outputs": [
        {
          "output_type": "execute_result",
          "data": {
            "text/plain": [
              "(0.019509422194094756, 0.03169057780590524)"
            ]
          },
          "metadata": {},
          "execution_count": 42
        }
      ]
    },
    {
      "cell_type": "code",
      "source": [
        "sample_200_mean"
      ],
      "metadata": {
        "colab": {
          "base_uri": "https://localhost:8080/"
        },
        "id": "qNNbtty18XOM",
        "outputId": "d95605f2-8e29-4033-8db1-f3f9e39190a9"
      },
      "execution_count": null,
      "outputs": [
        {
          "output_type": "execute_result",
          "data": {
            "text/plain": [
              "0.023735"
            ]
          },
          "metadata": {},
          "execution_count": 43
        }
      ]
    },
    {
      "cell_type": "code",
      "source": [
        "CI2 = confidence_interval(sample_200)\n",
        "CI2"
      ],
      "metadata": {
        "colab": {
          "base_uri": "https://localhost:8080/"
        },
        "id": "Wl5QpScw8YYA",
        "outputId": "bbeae934-c8a2-4279-b6b1-2544b20677b0"
      },
      "execution_count": null,
      "outputs": [
        {
          "output_type": "execute_result",
          "data": {
            "text/plain": [
              "(0.02193707704080939, 0.02553292295919061)"
            ]
          },
          "metadata": {},
          "execution_count": 44
        }
      ]
    },
    {
      "cell_type": "code",
      "source": [
        "pop_mean"
      ],
      "metadata": {
        "colab": {
          "base_uri": "https://localhost:8080/"
        },
        "id": "jQCgj5um8jDg",
        "outputId": "0b7c7787-e725-49f2-c77b-d27c124ffd1a"
      },
      "execution_count": null,
      "outputs": [
        {
          "output_type": "execute_result",
          "data": {
            "text/plain": [
              "0.023588709677419356"
            ]
          },
          "metadata": {},
          "execution_count": 45
        }
      ]
    },
    {
      "cell_type": "code",
      "source": [
        "fig = plt.figure()\n",
        "ax = fig.add_axes([0,0,1,1])\n",
        "\n",
        "plt.bar(x='sample_10', height=sample_10_mean, yerr=CI1[0]-sample_10_mean, capsize=10)\n",
        "plt.bar(x='sample_200', height=sample_200_mean, yerr=CI2[0]-sample_200_mean, capsize=10)\n",
        "plt.axhline(pop_mean, linestyle='--', color='#4000c7')\n",
        "plt.axhline(sample_10_mean, color = 'black', xmin = 0.15, xmax = 0.35)\n",
        "plt.axhline(sample_200_mean, color = 'black', xmin = 0.65, xmax = 0.85)\n",
        "\n",
        "plt.show()"
      ],
      "metadata": {
        "colab": {
          "base_uri": "https://localhost:8080/",
          "height": 337
        },
        "id": "tS4hFCsTysjh",
        "outputId": "dd0259e1-04cc-4d5a-dcb3-b75b0f3130a6"
      },
      "execution_count": null,
      "outputs": [
        {
          "output_type": "display_data",
          "data": {
            "text/plain": [
              "<Figure size 432x288 with 1 Axes>"
            ],
            "image/png": "[encoded data removed]"
          },
          "metadata": {
            "needs_background": "light"
          }
        }
      ]
    }
  ]
}