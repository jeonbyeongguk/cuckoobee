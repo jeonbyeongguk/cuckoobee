{
  "nbformat": 4,
  "nbformat_minor": 0,
  "metadata": {
    "colab": {
      "provenance": [],
      "collapsed_sections": []
    },
    "kernelspec": {
      "name": "python3",
      "display_name": "Python 3"
    },
    "language_info": {
      "name": "python"
    }
  },
  "cells": [
    {
      "cell_type": "markdown",
      "source": [
        "<img src='https://i.imgur.com/RDAD11M.png' width = '200' align = 'right'>\n",
        "\n",
        "## *DATA SCIENCE / SECTION 1 / SPRINT 2 / NOTE 1*\n",
        "\n",
        "---\n",
        "\n",
        "# 📝 Assignment\n"
      ],
      "metadata": {
        "id": "E_gVpMwF8INA"
      }
    },
    {
      "cell_type": "markdown",
      "source": [
        "# 🌱 **기본 과제**"
      ],
      "metadata": {
        "id": "T4vVuYyM9vjo"
      }
    },
    {
      "cell_type": "markdown",
      "source": [
        "## **Part 1. 전체 확률의 법칙**\n",
        "\n",
        "> 우리에게는 구부러진 동전이 있습니다. </br>\n",
        "그리고 이 동전을 던졌을 때, 앞면이 나올 확률은 **0.8** 입니다.\n",
        "\n",
        "\n"
      ],
      "metadata": {
        "id": "2FzT4GJi-EYx"
      }
    },
    {
      "cell_type": "markdown",
      "source": [
        "##### **Q1.  해당 동전을 4번 던졌을 때의 진리표를 직접 작성해보세요. 진리표를 통해, 나올 수 있는 모든 경우의 수와, 2개의 앞면이 나오는 경우의 수를 확인한 후, (`모든 경우의 수` , `2개의 앞면이 나오는 경우의 수`) 의 형태로 쓰세요.** e.g. (12, 3)"
      ],
      "metadata": {
        "id": "UM2iqE4krN7O"
      }
    },
    {
      "cell_type": "markdown",
      "source": [
        "<img src='https://i.imgur.com/rZh97ZX.png' width=500>"
      ],
      "metadata": {
        "id": "IMo_-pLIrk7L"
      }
    },
    {
      "cell_type": "markdown",
      "source": [
        "## **Part 2. 이항 분포**\n",
        "\n",
        "앞서 진행한 것 처럼 모든 경우에 대한 진리표에서 특정 경우의 수를 확인할수도 있지만, 이는 경우의 수가 증가함에 따라 매우 비효율적인 방법입니다.\n",
        "\n",
        "따라서 이항분포의 formula를 활용하여 우리가 찾고자 하는 경우의 수를 확인해보도록 하겠습니다.\n",
        "\n",
        "</br>\n",
        "\n",
        "> 1번 문제와 마찬가지로 우리에게 주어진 동전은 구부러져있으며, 앞면이 나올 확률은 **0.8** 입니다.\n",
        "\n",
        "\n",
        "\n",
        "\n"
      ],
      "metadata": {
        "id": "HxC5medb-MdL"
      }
    },
    {
      "cell_type": "markdown",
      "source": [
        "##### **Q2. 해당 동전을 16번 던졌을 때, 8개의 앞면이 나올 확률을 반올림하여 소수점 셋째 자리까지 구하세요.**\n",
        "\n",
        "\n",
        "\n",
        "\n",
        "- `math` 라이브러리의 [`factorial`](https://www.geeksforgeeks.org/python-math-factorial-function/)을 활용해보세요."
      ],
      "metadata": {
        "id": "dQAdOZLbrRHZ"
      }
    },
    {
      "cell_type": "code",
      "source": [
        "import math\n",
        "\n",
        "n = 16\n",
        "k = 8\n",
        "p = 0.8\n",
        "\n",
        "answer = (math.factorial(n) / (math.factorial(k) * math.factorial(n-k))) * (p**k) * ((1-p)**(n-k))\n",
        "round(answer, 3)"
      ],
      "metadata": {
        "colab": {
          "base_uri": "https://localhost:8080/"
        },
        "id": "uNiLgwMmF8jz",
        "outputId": "bb9d42e5-3f40-4071-d731-b610dc5f3e1c"
      },
      "execution_count": null,
      "outputs": [
        {
          "output_type": "execute_result",
          "data": {
            "text/plain": [
              "0.006"
            ]
          },
          "metadata": {},
          "execution_count": 5
        }
      ]
    },
    {
      "cell_type": "markdown",
      "source": [
        "## **Part 3. 조건부 확률**\n",
        "\n",
        "> 여러분은 A 학원 사이트의 로그 데이터를 확인하고 있습니다. 초기 등록자는 40명이었지만, 해당 학원에 최종적으로 등록한 학생 수와 등록하지 않은 학생 수는 다음과 같습니다. \n",
        "\n",
        "|구분| 최종 등록 | 등록 포기 |\n",
        "|:-:|:-------:|:-------:|\n",
        "|국어|10|5|\n",
        "|수학|15|10|\n",
        "\n",
        "\n"
      ],
      "metadata": {
        "id": "xr7e5rah-OKB"
      }
    },
    {
      "cell_type": "markdown",
      "source": [
        "##### **Q3. 초기 등록자 중 임의로 선택한 한 명이 최종 등록한 학생이었을 때, 그 학생이 수학 과목에 등록했을 확률을 구하세요.**"
      ],
      "metadata": {
        "id": "eSScNs7or9AZ"
      }
    },
    {
      "cell_type": "code",
      "source": [
        "# 최종 등록한 학생일 확률\n",
        "enroll = (10 + 15) / 40\n",
        "# 수학 과목에 최종 등록한 학생일 확률\n",
        "math = 15 / 40\n",
        "\n",
        "math / enroll"
      ],
      "metadata": {
        "colab": {
          "base_uri": "https://localhost:8080/"
        },
        "id": "crp7GAEFcX5p",
        "outputId": "5748c397-0574-4b52-cb71-e5987874e24b"
      },
      "execution_count": null,
      "outputs": [
        {
          "output_type": "execute_result",
          "data": {
            "text/plain": [
              "0.6"
            ]
          },
          "metadata": {},
          "execution_count": 1
        }
      ]
    },
    {
      "cell_type": "markdown",
      "source": [
        "## **Part 4. 베이지안 추론**"
      ],
      "metadata": {
        "id": "2T_-4guR-P-h"
      }
    },
    {
      "cell_type": "markdown",
      "source": [
        "### **4-1. Exam Answer**\n",
        "\n",
        "오지선다 문제를 푸는 과정에서, 학생은 답을 이미 알고 있거나 찍어야 합니다. \n",
        "\n",
        "학생이 답을 알 확률은 **0.3**이고, 답을 찍어서 맞출 확률은 **0.2**이며, 문제의 답을 알고있다면 반드시 맞춘다고 가정합니다.\n",
        "\n"
      ],
      "metadata": {
        "id": "SwWIyBcSQbfv"
      }
    },
    {
      "cell_type": "markdown",
      "source": [
        "##### **Q4. 학생이 문제의 답을 맞췄을 때, 답을 알고 있었을 확률을 반올림하여 소수점 둘째 자리까지 구하세요.** "
      ],
      "metadata": {
        "id": "tDJJFhL_sp2l"
      }
    },
    {
      "cell_type": "code",
      "source": [
        "# 사전확률\n",
        "know = 0.3\n",
        "dontknow = 0.7\n",
        "\n",
        "# evidence\n",
        "correct_dontknow = 0.2\n",
        "correct_know = 1\n",
        "\n",
        "# 사후확률\n",
        "answer = (correct_know * know) / ((correct_know * know) + (correct_dontknow * dontknow))\n",
        "\n",
        "round(answer, 2)"
      ],
      "metadata": {
        "colab": {
          "base_uri": "https://localhost:8080/"
        },
        "id": "gsEl0EXeQxGs",
        "outputId": "3971c493-03d6-4684-9f43-214185f27023"
      },
      "execution_count": null,
      "outputs": [
        {
          "output_type": "execute_result",
          "data": {
            "text/plain": [
              "0.68"
            ]
          },
          "metadata": {},
          "execution_count": 13
        }
      ]
    },
    {
      "cell_type": "markdown",
      "source": [
        "### **4-2. Disease Detection**\n",
        "\n",
        "특정 질병을 가지고 있는 경우 **`tpr`** 의 확률로 탐지할 수 있는 실험 방법이 있습니다.\n",
        "\n",
        "그러나 동시에 이 방법은 **`fpr`** 의 확률로 질병이 없지만 질병이 있다고 진단하는 경우도 있는데요.\n",
        "\n",
        "실제로 모든 인구 중 이 질병을 가지고 있을 확률은 **`\bprior`** 입니다."
      ],
      "metadata": {
        "id": "a3p6hGnhQqma"
      }
    },
    {
      "cell_type": "markdown",
      "source": [
        "##### **Q5. 특정 사람이 이 방법을 통해 질병이 있다고 진단받았을 때, 실제로 질병을 가지고 있을 확률을 구하는 함수를 완성한 후 `tpr=0.9`, `fpr=0.01`, `prior=0.1` 일 때의 결과값(`posterior`)을 반올림하여 소수점 둘째 자리까지 구하세요.**"
      ],
      "metadata": {
        "id": "GHO2le97sxAb"
      }
    },
    {
      "cell_type": "code",
      "execution_count": null,
      "metadata": {
        "id": "1ZgvQaQc78n5"
      },
      "outputs": [],
      "source": [
        "# 수강생 제공 코드\n",
        "def disease_test(tpr, fpr, prior):\n",
        "  # 이 곳에 들어갈 코드를 완성하시오.\n",
        "\n",
        "  return posterior"
      ]
    },
    {
      "cell_type": "code",
      "source": [
        "# 레퍼런스 코드\n",
        "def disease_test(tpr, fpr, prior):\n",
        "  # 사전확률\n",
        "  disease = prior\n",
        "  healthy = 1 - prior\n",
        "\n",
        "  # evidence\n",
        "  pos_disease = tpr\n",
        "  pos_healthy = fpr\n",
        "\n",
        "  # 사후확률\n",
        "  posterior = (pos_disease * disease) / ((pos_disease * disease) + (pos_healthy * healthy))\n",
        "  \n",
        "  return posterior\n",
        "\n",
        "round(disease_test(0.9, 0.01, 0.1), 2)"
      ],
      "metadata": {
        "colab": {
          "base_uri": "https://localhost:8080/"
        },
        "id": "Of-fqYqBTckY",
        "outputId": "46ea4009-8130-4f12-eba7-6571830c66cf"
      },
      "execution_count": null,
      "outputs": [
        {
          "output_type": "execute_result",
          "data": {
            "text/plain": [
              "0.91"
            ]
          },
          "metadata": {},
          "execution_count": 10
        }
      ]
    },
    {
      "cell_type": "markdown",
      "source": [
        "### **4-3. \b\bGuilty or Not**\n",
        "\n",
        "\n",
        "한 범죄사건의 용의자가 유죄일 확률은 **60%**라고 형사는 확신하고 있습니다.\n",
        "\n",
        "그 후 **해당 사건의 범인이 왼손잡이**라는 증거가 발견되었고, 용의자는 왼손잡이 입니다. **전체 인구의 20%**가 이 특성(왼손잡이)을 가지고 있습니다.\n",
        "\n",
        "\n",
        "\n"
      ],
      "metadata": {
        "id": "iVDrfMirvVUn"
      }
    },
    {
      "cell_type": "markdown",
      "source": [
        "##### **Q6. 증거가 발견된 후, 이제 형사는 용의자가 유죄일 확률을 얼마로 확신하고 있는지 반올림하여 소수점 둘째자리까지 구하세요.**"
      ],
      "metadata": {
        "id": "NWHi0gZAs5dm"
      }
    },
    {
      "cell_type": "code",
      "source": [
        "# 사전확률\n",
        "guilty = 0.6\n",
        "notguilty = 0.4\n",
        "\n",
        "# evidence\n",
        "left_notguilty = 0.2\n",
        "left_guilty = 1\n",
        "\n",
        "# 사후확률\n",
        "answer = (left_guilty * guilty) / ((left_guilty * guilty) + (left_notguilty * notguilty))\n",
        "\n",
        "round(answer, 2)"
      ],
      "metadata": {
        "colab": {
          "base_uri": "https://localhost:8080/"
        },
        "id": "t2vBbDKoyoqq",
        "outputId": "b1177466-98c6-45a3-d0c0-14aa626e18c9"
      },
      "execution_count": null,
      "outputs": [
        {
          "output_type": "execute_result",
          "data": {
            "text/plain": [
              "0.88"
            ]
          },
          "metadata": {},
          "execution_count": 1
        }
      ]
    },
    {
      "cell_type": "markdown",
      "source": [
        "# 🥇 **도전 과제**\n",
        "\n"
      ],
      "metadata": {
        "id": "vAnvY4cXWrnk"
      }
    },
    {
      "cell_type": "markdown",
      "source": [
        "## **Part 5. 이항분포**\n",
        "\n",
        "Scipy의 Stats 라이브러리의 [binomial 메서드](https://docs.scipy.org/doc/scipy-0.14.0/reference/generated/scipy.stats.binom.html)를 참고하여, 앞면이 나올 확률이 **0.75**인 구부러진 동전을 100번 던졌을 때, 35번 앞면이 나올 확률을 구해보세요."
      ],
      "metadata": {
        "id": "My5EBKYkCvHO"
      }
    },
    {
      "cell_type": "code",
      "source": [
        "from scipy.stats import binom\n",
        "\n",
        "binom.pmf(k=35, n=100, p=0.75)"
      ],
      "metadata": {
        "id": "mkBZOfjnD8un",
        "colab": {
          "base_uri": "https://localhost:8080/"
        },
        "outputId": "99870a1a-6270-4e3a-8419-2e4bc48c7770"
      },
      "execution_count": null,
      "outputs": [
        {
          "output_type": "execute_result",
          "data": {
            "text/plain": [
              "3.409459490793318e-17"
            ]
          },
          "metadata": {},
          "execution_count": 1
        }
      ]
    },
    {
      "cell_type": "markdown",
      "source": [
        "## **Part 6. 몬티홀 문제**\n",
        "\n",
        "\n",
        "다음 [영상](https://www.youtube.com/watch?v=UexhMS_F5Qw)에서 등장하는 몬티홀 딜레마 문제를 베이지안 공식을 활용하여 해결해보세요.\n",
        "\n",
        "- 처음에 1번 문을 선택했다고 가정합니다. 진행자가 남은 두 개의 문 중 염소가 있는 문 하나를 공개한 상태에서 기존에 선택했던 문(1번문)에 자동차가 있을 확률을 구하세요. \n",
        "\n",
        "- 처음 선택을 유지하는 것이 유리한\b지, 아니면 선택을 바꾸는 것이 유리한지 생각해보세요."
      ],
      "metadata": {
        "id": "X4tgBbitCp7-"
      }
    },
    {
      "cell_type": "markdown",
      "source": [
        "```\n",
        "Hypothesis: 1번 문 뒤에 자동차가 있음\n",
        "Evidence: 진행자가 염소가 있는 문을 열어줌\n",
        "\n",
        "우리가 알고자 하는 것: P(H|E) -> 진행자가 염소가 있는 문을 열었을 때, 우리가 먼저 선택했던 문 안에 자동차가 있을 확률\n",
        "```\n"
      ],
      "metadata": {
        "id": "ZtAxlmteTOvj"
      }
    },
    {
      "cell_type": "code",
      "source": [
        "Hypothesis = 1/3\n",
        "not_Hypothesis = 2/3\n",
        "\n",
        "Evidence_Hypothesis = 1\n",
        "Evidence_not_Hypothesis = 1\n",
        "\n",
        "Hypothesis_Evidence = (Evidence_Hypothesis * Hypothesis) / ((Evidence_Hypothesis * Hypothesis) + (Evidence_not_Hypothesis * not_Hypothesis))\n",
        "\n",
        "Hypothesis_Evidence"
      ],
      "metadata": {
        "id": "NUau-7vXW6ZR",
        "colab": {
          "base_uri": "https://localhost:8080/"
        },
        "outputId": "c116d49a-c99e-4d7f-a9cc-624351de3b40"
      },
      "execution_count": null,
      "outputs": [
        {
          "output_type": "execute_result",
          "data": {
            "text/plain": [
              "0.3333333333333333"
            ]
          },
          "metadata": {},
          "execution_count": 7
        }
      ]
    }
  ]
}