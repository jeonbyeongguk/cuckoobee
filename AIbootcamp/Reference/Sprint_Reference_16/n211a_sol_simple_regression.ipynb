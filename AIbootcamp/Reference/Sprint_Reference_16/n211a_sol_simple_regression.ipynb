{
  "nbformat": 4,
  "nbformat_minor": 2,
  "metadata": {
    "kernelspec": {
      "display_name": "Python 3",
      "language": "python",
      "name": "python3"
    },
    "language_info": {
      "codemirror_mode": {
        "name": "ipython",
        "version": 3
      },
      "file_extension": ".py",
      "mimetype": "text/x-python",
      "name": "python",
      "nbconvert_exporter": "python",
      "pygments_lexer": "ipython3",
      "version": "3.7.7"
    },
    "colab": {
      "name": "n211a-sol-simple-regression",
      "provenance": [],
      "collapsed_sections": []
    }
  },
  "cells": [
    {
      "cell_type": "markdown",
      "source": [
        "<img align=\"right\" src=\"https://ds-cs-images.s3.ap-northeast-2.amazonaws.com/Codestates_Fulllogo_Color.png\" width=100>\n",
        "\n",
        "## *AIB / SECTION 2 / SPRINT 1 / NOTE 1*\n",
        "\n",
        "# 📝 Assignment\n",
        "---"
      ],
      "metadata": {
        "id": "7Js7LGXTsPgY"
      }
    },
    {
      "cell_type": "markdown",
      "source": [
        "# Linear Regression\n",
        "\n",
        "이번 모듈에서 사용한 데이터와 유사한 데이터를 사용해 복습해 보겠습니다. 이 데이터셋은 미국 시애틀 King County 지역에서 2014년 5월부터 ~ 2015년 5월 까지 주택 판매 가격 데이터입니다.\n",
        "\n",
        "   - [House Sales in King County, USA](https://www.kaggle.com/harlfoxem/housesalesprediction?select=kc_house_data.csv)\n",
        "\n",
        "\n",
        "이 데이터를 사용해 다음 과제를 마크다운과 코드를 사용해 진행해 주세요.\n",
        "\n"
      ],
      "metadata": {
        "id": "7IXUfiQ2UKj6"
      }
    },
    {
      "cell_type": "code",
      "execution_count": null,
      "source": [
        "# 데이터는 캐글에서 받으셔도 되고 이 링크에서 불러와도 됩니다.\n",
        "import pandas as pd\n",
        "df = pd.read_csv('https://ds-lecture-data.s3.ap-northeast-2.amazonaws.com/kc_house_data/kc_house_data.csv')\n"
      ],
      "outputs": [],
      "metadata": {
        "id": "NTrpi0W5sPgb"
      }
    },
    {
      "cell_type": "code",
      "execution_count": null,
      "source": [
        "df.columns"
      ],
      "outputs": [
        {
          "output_type": "execute_result",
          "data": {
            "text/plain": [
              "Index(['id', 'date', 'price', 'bedrooms', 'bathrooms', 'sqft_living',\n",
              "       'sqft_lot', 'floors', 'waterfront', 'view', 'condition', 'grade',\n",
              "       'sqft_above', 'sqft_basement', 'yr_built', 'yr_renovated', 'zipcode',\n",
              "       'lat', 'long', 'sqft_living15', 'sqft_lot15'],\n",
              "      dtype='object')"
            ]
          },
          "metadata": {},
          "execution_count": 33
        }
      ],
      "metadata": {
        "colab": {
          "base_uri": "https://localhost:8080/"
        },
        "id": "tSBttHYHufmG",
        "outputId": "d4bce52a-441a-407f-c01b-f28f6cf204a3"
      }
    },
    {
      "cell_type": "markdown",
      "source": [
        "### 1) 특성들과 타겟(Price)과의 상관계수를 계산하고 가장 상관관계가 높은 특성을 찾아 타겟과의 관계를 시각화 하세요.\n",
        "- **타겟과 상관관계가 가장 높은 특성의 이름을 제출하세요.**"
      ],
      "metadata": {
        "id": "BegLKHTzsPgc"
      }
    },
    {
      "cell_type": "code",
      "execution_count": null,
      "source": [
        "# df.corr()로 타겟과 여러 변수들의 상관계수를 확인합니다. \n",
        "df.corr().sort_values(by='price', ascending=False)"
      ],
      "outputs": [
        {
          "output_type": "execute_result",
          "data": {
            "text/html": [
              "<div>\n",
              "<style scoped>\n",
              "    .dataframe tbody tr th:only-of-type {\n",
              "        vertical-align: middle;\n",
              "    }\n",
              "\n",
              "    .dataframe tbody tr th {\n",
              "        vertical-align: top;\n",
              "    }\n",
              "\n",
              "    .dataframe thead th {\n",
              "        text-align: right;\n",
              "    }\n",
              "</style>\n",
              "<table border=\"1\" class=\"dataframe\">\n",
              "  <thead>\n",
              "    <tr style=\"text-align: right;\">\n",
              "      <th></th>\n",
              "      <th>id</th>\n",
              "      <th>price</th>\n",
              "      <th>bedrooms</th>\n",
              "      <th>bathrooms</th>\n",
              "      <th>sqft_living</th>\n",
              "      <th>sqft_lot</th>\n",
              "      <th>floors</th>\n",
              "      <th>waterfront</th>\n",
              "      <th>view</th>\n",
              "      <th>condition</th>\n",
              "      <th>grade</th>\n",
              "      <th>sqft_above</th>\n",
              "      <th>sqft_basement</th>\n",
              "      <th>yr_built</th>\n",
              "      <th>yr_renovated</th>\n",
              "      <th>zipcode</th>\n",
              "      <th>lat</th>\n",
              "      <th>long</th>\n",
              "      <th>sqft_living15</th>\n",
              "      <th>sqft_lot15</th>\n",
              "    </tr>\n",
              "  </thead>\n",
              "  <tbody>\n",
              "    <tr>\n",
              "      <th>price</th>\n",
              "      <td>-0.016762</td>\n",
              "      <td>1.000000</td>\n",
              "      <td>0.308350</td>\n",
              "      <td>0.525138</td>\n",
              "      <td>0.702035</td>\n",
              "      <td>0.089661</td>\n",
              "      <td>0.256794</td>\n",
              "      <td>0.266369</td>\n",
              "      <td>0.397293</td>\n",
              "      <td>0.036362</td>\n",
              "      <td>0.667434</td>\n",
              "      <td>0.605567</td>\n",
              "      <td>0.323816</td>\n",
              "      <td>0.054012</td>\n",
              "      <td>0.126434</td>\n",
              "      <td>-0.053203</td>\n",
              "      <td>0.307003</td>\n",
              "      <td>0.021626</td>\n",
              "      <td>0.585379</td>\n",
              "      <td>0.082447</td>\n",
              "    </tr>\n",
              "    <tr>\n",
              "      <th>sqft_living</th>\n",
              "      <td>-0.012258</td>\n",
              "      <td>0.702035</td>\n",
              "      <td>0.576671</td>\n",
              "      <td>0.754665</td>\n",
              "      <td>1.000000</td>\n",
              "      <td>0.172826</td>\n",
              "      <td>0.353949</td>\n",
              "      <td>0.103818</td>\n",
              "      <td>0.284611</td>\n",
              "      <td>-0.058753</td>\n",
              "      <td>0.762704</td>\n",
              "      <td>0.876597</td>\n",
              "      <td>0.435043</td>\n",
              "      <td>0.318049</td>\n",
              "      <td>0.055363</td>\n",
              "      <td>-0.199430</td>\n",
              "      <td>0.052529</td>\n",
              "      <td>0.240223</td>\n",
              "      <td>0.756420</td>\n",
              "      <td>0.183286</td>\n",
              "    </tr>\n",
              "    <tr>\n",
              "      <th>grade</th>\n",
              "      <td>0.008130</td>\n",
              "      <td>0.667434</td>\n",
              "      <td>0.356967</td>\n",
              "      <td>0.664983</td>\n",
              "      <td>0.762704</td>\n",
              "      <td>0.113621</td>\n",
              "      <td>0.458183</td>\n",
              "      <td>0.082775</td>\n",
              "      <td>0.251321</td>\n",
              "      <td>-0.144674</td>\n",
              "      <td>1.000000</td>\n",
              "      <td>0.755923</td>\n",
              "      <td>0.168392</td>\n",
              "      <td>0.446963</td>\n",
              "      <td>0.014414</td>\n",
              "      <td>-0.184862</td>\n",
              "      <td>0.114084</td>\n",
              "      <td>0.198372</td>\n",
              "      <td>0.713202</td>\n",
              "      <td>0.119248</td>\n",
              "    </tr>\n",
              "    <tr>\n",
              "      <th>sqft_above</th>\n",
              "      <td>-0.010842</td>\n",
              "      <td>0.605567</td>\n",
              "      <td>0.477600</td>\n",
              "      <td>0.685342</td>\n",
              "      <td>0.876597</td>\n",
              "      <td>0.183512</td>\n",
              "      <td>0.523885</td>\n",
              "      <td>0.072075</td>\n",
              "      <td>0.167649</td>\n",
              "      <td>-0.158214</td>\n",
              "      <td>0.755923</td>\n",
              "      <td>1.000000</td>\n",
              "      <td>-0.051943</td>\n",
              "      <td>0.423898</td>\n",
              "      <td>0.023285</td>\n",
              "      <td>-0.261190</td>\n",
              "      <td>-0.000816</td>\n",
              "      <td>0.343803</td>\n",
              "      <td>0.731870</td>\n",
              "      <td>0.194050</td>\n",
              "    </tr>\n",
              "    <tr>\n",
              "      <th>sqft_living15</th>\n",
              "      <td>-0.002901</td>\n",
              "      <td>0.585379</td>\n",
              "      <td>0.391638</td>\n",
              "      <td>0.568634</td>\n",
              "      <td>0.756420</td>\n",
              "      <td>0.144608</td>\n",
              "      <td>0.279885</td>\n",
              "      <td>0.086463</td>\n",
              "      <td>0.280439</td>\n",
              "      <td>-0.092824</td>\n",
              "      <td>0.713202</td>\n",
              "      <td>0.731870</td>\n",
              "      <td>0.200355</td>\n",
              "      <td>0.326229</td>\n",
              "      <td>-0.002673</td>\n",
              "      <td>-0.279033</td>\n",
              "      <td>0.048858</td>\n",
              "      <td>0.334605</td>\n",
              "      <td>1.000000</td>\n",
              "      <td>0.183192</td>\n",
              "    </tr>\n",
              "    <tr>\n",
              "      <th>bathrooms</th>\n",
              "      <td>0.005160</td>\n",
              "      <td>0.525138</td>\n",
              "      <td>0.515884</td>\n",
              "      <td>1.000000</td>\n",
              "      <td>0.754665</td>\n",
              "      <td>0.087740</td>\n",
              "      <td>0.500653</td>\n",
              "      <td>0.063744</td>\n",
              "      <td>0.187737</td>\n",
              "      <td>-0.124982</td>\n",
              "      <td>0.664983</td>\n",
              "      <td>0.685342</td>\n",
              "      <td>0.283770</td>\n",
              "      <td>0.506019</td>\n",
              "      <td>0.050739</td>\n",
              "      <td>-0.203866</td>\n",
              "      <td>0.024573</td>\n",
              "      <td>0.223042</td>\n",
              "      <td>0.568634</td>\n",
              "      <td>0.087175</td>\n",
              "    </tr>\n",
              "    <tr>\n",
              "      <th>view</th>\n",
              "      <td>0.011592</td>\n",
              "      <td>0.397293</td>\n",
              "      <td>0.079532</td>\n",
              "      <td>0.187737</td>\n",
              "      <td>0.284611</td>\n",
              "      <td>0.074710</td>\n",
              "      <td>0.029444</td>\n",
              "      <td>0.401857</td>\n",
              "      <td>1.000000</td>\n",
              "      <td>0.045990</td>\n",
              "      <td>0.251321</td>\n",
              "      <td>0.167649</td>\n",
              "      <td>0.276947</td>\n",
              "      <td>-0.053440</td>\n",
              "      <td>0.103917</td>\n",
              "      <td>0.084827</td>\n",
              "      <td>0.006157</td>\n",
              "      <td>-0.078400</td>\n",
              "      <td>0.280439</td>\n",
              "      <td>0.072575</td>\n",
              "    </tr>\n",
              "    <tr>\n",
              "      <th>sqft_basement</th>\n",
              "      <td>-0.005151</td>\n",
              "      <td>0.323816</td>\n",
              "      <td>0.303093</td>\n",
              "      <td>0.283770</td>\n",
              "      <td>0.435043</td>\n",
              "      <td>0.015286</td>\n",
              "      <td>-0.245705</td>\n",
              "      <td>0.080588</td>\n",
              "      <td>0.276947</td>\n",
              "      <td>0.174105</td>\n",
              "      <td>0.168392</td>\n",
              "      <td>-0.051943</td>\n",
              "      <td>1.000000</td>\n",
              "      <td>-0.133124</td>\n",
              "      <td>0.071323</td>\n",
              "      <td>0.074845</td>\n",
              "      <td>0.110538</td>\n",
              "      <td>-0.144765</td>\n",
              "      <td>0.200355</td>\n",
              "      <td>0.017276</td>\n",
              "    </tr>\n",
              "    <tr>\n",
              "      <th>bedrooms</th>\n",
              "      <td>0.001286</td>\n",
              "      <td>0.308350</td>\n",
              "      <td>1.000000</td>\n",
              "      <td>0.515884</td>\n",
              "      <td>0.576671</td>\n",
              "      <td>0.031703</td>\n",
              "      <td>0.175429</td>\n",
              "      <td>-0.006582</td>\n",
              "      <td>0.079532</td>\n",
              "      <td>0.028472</td>\n",
              "      <td>0.356967</td>\n",
              "      <td>0.477600</td>\n",
              "      <td>0.303093</td>\n",
              "      <td>0.154178</td>\n",
              "      <td>0.018841</td>\n",
              "      <td>-0.152668</td>\n",
              "      <td>-0.008931</td>\n",
              "      <td>0.129473</td>\n",
              "      <td>0.391638</td>\n",
              "      <td>0.029244</td>\n",
              "    </tr>\n",
              "    <tr>\n",
              "      <th>lat</th>\n",
              "      <td>-0.001891</td>\n",
              "      <td>0.307003</td>\n",
              "      <td>-0.008931</td>\n",
              "      <td>0.024573</td>\n",
              "      <td>0.052529</td>\n",
              "      <td>-0.085683</td>\n",
              "      <td>0.049614</td>\n",
              "      <td>-0.014274</td>\n",
              "      <td>0.006157</td>\n",
              "      <td>-0.014941</td>\n",
              "      <td>0.114084</td>\n",
              "      <td>-0.000816</td>\n",
              "      <td>0.110538</td>\n",
              "      <td>-0.148122</td>\n",
              "      <td>0.029398</td>\n",
              "      <td>0.267048</td>\n",
              "      <td>1.000000</td>\n",
              "      <td>-0.135512</td>\n",
              "      <td>0.048858</td>\n",
              "      <td>-0.086419</td>\n",
              "    </tr>\n",
              "    <tr>\n",
              "      <th>waterfront</th>\n",
              "      <td>-0.002721</td>\n",
              "      <td>0.266369</td>\n",
              "      <td>-0.006582</td>\n",
              "      <td>0.063744</td>\n",
              "      <td>0.103818</td>\n",
              "      <td>0.021604</td>\n",
              "      <td>0.023698</td>\n",
              "      <td>1.000000</td>\n",
              "      <td>0.401857</td>\n",
              "      <td>0.016653</td>\n",
              "      <td>0.082775</td>\n",
              "      <td>0.072075</td>\n",
              "      <td>0.080588</td>\n",
              "      <td>-0.026161</td>\n",
              "      <td>0.092885</td>\n",
              "      <td>0.030285</td>\n",
              "      <td>-0.014274</td>\n",
              "      <td>-0.041910</td>\n",
              "      <td>0.086463</td>\n",
              "      <td>0.030703</td>\n",
              "    </tr>\n",
              "    <tr>\n",
              "      <th>floors</th>\n",
              "      <td>0.018525</td>\n",
              "      <td>0.256794</td>\n",
              "      <td>0.175429</td>\n",
              "      <td>0.500653</td>\n",
              "      <td>0.353949</td>\n",
              "      <td>-0.005201</td>\n",
              "      <td>1.000000</td>\n",
              "      <td>0.023698</td>\n",
              "      <td>0.029444</td>\n",
              "      <td>-0.263768</td>\n",
              "      <td>0.458183</td>\n",
              "      <td>0.523885</td>\n",
              "      <td>-0.245705</td>\n",
              "      <td>0.489319</td>\n",
              "      <td>0.006338</td>\n",
              "      <td>-0.059121</td>\n",
              "      <td>0.049614</td>\n",
              "      <td>0.125419</td>\n",
              "      <td>0.279885</td>\n",
              "      <td>-0.011269</td>\n",
              "    </tr>\n",
              "    <tr>\n",
              "      <th>yr_renovated</th>\n",
              "      <td>-0.016907</td>\n",
              "      <td>0.126434</td>\n",
              "      <td>0.018841</td>\n",
              "      <td>0.050739</td>\n",
              "      <td>0.055363</td>\n",
              "      <td>0.007644</td>\n",
              "      <td>0.006338</td>\n",
              "      <td>0.092885</td>\n",
              "      <td>0.103917</td>\n",
              "      <td>-0.060618</td>\n",
              "      <td>0.014414</td>\n",
              "      <td>0.023285</td>\n",
              "      <td>0.071323</td>\n",
              "      <td>-0.224874</td>\n",
              "      <td>1.000000</td>\n",
              "      <td>0.064357</td>\n",
              "      <td>0.029398</td>\n",
              "      <td>-0.068372</td>\n",
              "      <td>-0.002673</td>\n",
              "      <td>0.007854</td>\n",
              "    </tr>\n",
              "    <tr>\n",
              "      <th>sqft_lot</th>\n",
              "      <td>-0.132109</td>\n",
              "      <td>0.089661</td>\n",
              "      <td>0.031703</td>\n",
              "      <td>0.087740</td>\n",
              "      <td>0.172826</td>\n",
              "      <td>1.000000</td>\n",
              "      <td>-0.005201</td>\n",
              "      <td>0.021604</td>\n",
              "      <td>0.074710</td>\n",
              "      <td>-0.008958</td>\n",
              "      <td>0.113621</td>\n",
              "      <td>0.183512</td>\n",
              "      <td>0.015286</td>\n",
              "      <td>0.053080</td>\n",
              "      <td>0.007644</td>\n",
              "      <td>-0.129574</td>\n",
              "      <td>-0.085683</td>\n",
              "      <td>0.229521</td>\n",
              "      <td>0.144608</td>\n",
              "      <td>0.718557</td>\n",
              "    </tr>\n",
              "    <tr>\n",
              "      <th>sqft_lot15</th>\n",
              "      <td>-0.138798</td>\n",
              "      <td>0.082447</td>\n",
              "      <td>0.029244</td>\n",
              "      <td>0.087175</td>\n",
              "      <td>0.183286</td>\n",
              "      <td>0.718557</td>\n",
              "      <td>-0.011269</td>\n",
              "      <td>0.030703</td>\n",
              "      <td>0.072575</td>\n",
              "      <td>-0.003406</td>\n",
              "      <td>0.119248</td>\n",
              "      <td>0.194050</td>\n",
              "      <td>0.017276</td>\n",
              "      <td>0.070958</td>\n",
              "      <td>0.007854</td>\n",
              "      <td>-0.147221</td>\n",
              "      <td>-0.086419</td>\n",
              "      <td>0.254451</td>\n",
              "      <td>0.183192</td>\n",
              "      <td>1.000000</td>\n",
              "    </tr>\n",
              "    <tr>\n",
              "      <th>yr_built</th>\n",
              "      <td>0.021380</td>\n",
              "      <td>0.054012</td>\n",
              "      <td>0.154178</td>\n",
              "      <td>0.506019</td>\n",
              "      <td>0.318049</td>\n",
              "      <td>0.053080</td>\n",
              "      <td>0.489319</td>\n",
              "      <td>-0.026161</td>\n",
              "      <td>-0.053440</td>\n",
              "      <td>-0.361417</td>\n",
              "      <td>0.446963</td>\n",
              "      <td>0.423898</td>\n",
              "      <td>-0.133124</td>\n",
              "      <td>1.000000</td>\n",
              "      <td>-0.224874</td>\n",
              "      <td>-0.346869</td>\n",
              "      <td>-0.148122</td>\n",
              "      <td>0.409356</td>\n",
              "      <td>0.326229</td>\n",
              "      <td>0.070958</td>\n",
              "    </tr>\n",
              "    <tr>\n",
              "      <th>condition</th>\n",
              "      <td>-0.023783</td>\n",
              "      <td>0.036362</td>\n",
              "      <td>0.028472</td>\n",
              "      <td>-0.124982</td>\n",
              "      <td>-0.058753</td>\n",
              "      <td>-0.008958</td>\n",
              "      <td>-0.263768</td>\n",
              "      <td>0.016653</td>\n",
              "      <td>0.045990</td>\n",
              "      <td>1.000000</td>\n",
              "      <td>-0.144674</td>\n",
              "      <td>-0.158214</td>\n",
              "      <td>0.174105</td>\n",
              "      <td>-0.361417</td>\n",
              "      <td>-0.060618</td>\n",
              "      <td>0.003026</td>\n",
              "      <td>-0.014941</td>\n",
              "      <td>-0.106500</td>\n",
              "      <td>-0.092824</td>\n",
              "      <td>-0.003406</td>\n",
              "    </tr>\n",
              "    <tr>\n",
              "      <th>long</th>\n",
              "      <td>0.020799</td>\n",
              "      <td>0.021626</td>\n",
              "      <td>0.129473</td>\n",
              "      <td>0.223042</td>\n",
              "      <td>0.240223</td>\n",
              "      <td>0.229521</td>\n",
              "      <td>0.125419</td>\n",
              "      <td>-0.041910</td>\n",
              "      <td>-0.078400</td>\n",
              "      <td>-0.106500</td>\n",
              "      <td>0.198372</td>\n",
              "      <td>0.343803</td>\n",
              "      <td>-0.144765</td>\n",
              "      <td>0.409356</td>\n",
              "      <td>-0.068372</td>\n",
              "      <td>-0.564072</td>\n",
              "      <td>-0.135512</td>\n",
              "      <td>1.000000</td>\n",
              "      <td>0.334605</td>\n",
              "      <td>0.254451</td>\n",
              "    </tr>\n",
              "    <tr>\n",
              "      <th>id</th>\n",
              "      <td>1.000000</td>\n",
              "      <td>-0.016762</td>\n",
              "      <td>0.001286</td>\n",
              "      <td>0.005160</td>\n",
              "      <td>-0.012258</td>\n",
              "      <td>-0.132109</td>\n",
              "      <td>0.018525</td>\n",
              "      <td>-0.002721</td>\n",
              "      <td>0.011592</td>\n",
              "      <td>-0.023783</td>\n",
              "      <td>0.008130</td>\n",
              "      <td>-0.010842</td>\n",
              "      <td>-0.005151</td>\n",
              "      <td>0.021380</td>\n",
              "      <td>-0.016907</td>\n",
              "      <td>-0.008224</td>\n",
              "      <td>-0.001891</td>\n",
              "      <td>0.020799</td>\n",
              "      <td>-0.002901</td>\n",
              "      <td>-0.138798</td>\n",
              "    </tr>\n",
              "    <tr>\n",
              "      <th>zipcode</th>\n",
              "      <td>-0.008224</td>\n",
              "      <td>-0.053203</td>\n",
              "      <td>-0.152668</td>\n",
              "      <td>-0.203866</td>\n",
              "      <td>-0.199430</td>\n",
              "      <td>-0.129574</td>\n",
              "      <td>-0.059121</td>\n",
              "      <td>0.030285</td>\n",
              "      <td>0.084827</td>\n",
              "      <td>0.003026</td>\n",
              "      <td>-0.184862</td>\n",
              "      <td>-0.261190</td>\n",
              "      <td>0.074845</td>\n",
              "      <td>-0.346869</td>\n",
              "      <td>0.064357</td>\n",
              "      <td>1.000000</td>\n",
              "      <td>0.267048</td>\n",
              "      <td>-0.564072</td>\n",
              "      <td>-0.279033</td>\n",
              "      <td>-0.147221</td>\n",
              "    </tr>\n",
              "  </tbody>\n",
              "</table>\n",
              "</div>"
            ],
            "text/plain": [
              "                     id     price  ...  sqft_living15  sqft_lot15\n",
              "price         -0.016762  1.000000  ...       0.585379    0.082447\n",
              "sqft_living   -0.012258  0.702035  ...       0.756420    0.183286\n",
              "grade          0.008130  0.667434  ...       0.713202    0.119248\n",
              "sqft_above    -0.010842  0.605567  ...       0.731870    0.194050\n",
              "sqft_living15 -0.002901  0.585379  ...       1.000000    0.183192\n",
              "bathrooms      0.005160  0.525138  ...       0.568634    0.087175\n",
              "view           0.011592  0.397293  ...       0.280439    0.072575\n",
              "sqft_basement -0.005151  0.323816  ...       0.200355    0.017276\n",
              "bedrooms       0.001286  0.308350  ...       0.391638    0.029244\n",
              "lat           -0.001891  0.307003  ...       0.048858   -0.086419\n",
              "waterfront    -0.002721  0.266369  ...       0.086463    0.030703\n",
              "floors         0.018525  0.256794  ...       0.279885   -0.011269\n",
              "yr_renovated  -0.016907  0.126434  ...      -0.002673    0.007854\n",
              "sqft_lot      -0.132109  0.089661  ...       0.144608    0.718557\n",
              "sqft_lot15    -0.138798  0.082447  ...       0.183192    1.000000\n",
              "yr_built       0.021380  0.054012  ...       0.326229    0.070958\n",
              "condition     -0.023783  0.036362  ...      -0.092824   -0.003406\n",
              "long           0.020799  0.021626  ...       0.334605    0.254451\n",
              "id             1.000000 -0.016762  ...      -0.002901   -0.138798\n",
              "zipcode       -0.008224 -0.053203  ...      -0.279033   -0.147221\n",
              "\n",
              "[20 rows x 20 columns]"
            ]
          },
          "metadata": {},
          "execution_count": 34
        }
      ],
      "metadata": {
        "colab": {
          "base_uri": "https://localhost:8080/",
          "height": 689
        },
        "id": "LKbXfP2vhhnQ",
        "outputId": "5d709e37-0e38-4953-9bb0-46169def8b13"
      }
    },
    {
      "cell_type": "markdown",
      "source": [
        "### 2) sqft_living 와 price의 scatter plot을 그리고 기준모델을 시각화해 보세요.\n",
        "- **기준모델의 값을 제출하세요.(소수점 이하 반올림)**"
      ],
      "metadata": {
        "id": "_O3ZZV12sPgd"
      }
    },
    {
      "cell_type": "code",
      "execution_count": 91,
      "source": [
        "# sqft_living과 price의 scatter plot을 시각화합니다. \n",
        "import seaborn as sns \n",
        "import numpy as np \n",
        "\n",
        "x = df['sqft_living']\n",
        "y = df['price']\n",
        "\n",
        "predict = df['price'].mean()\n",
        "\n",
        "sns.lineplot(x = x, y = predict, color='red')\n",
        "sns.scatterplot(x=x, y=y)\n",
        "\n",
        "# 기준모델의 값을 확인합니다. 소수점 이하 반올림.\n",
        "print(\"predict\", np.around(predict))"
      ],
      "outputs": [
        {
          "output_type": "stream",
          "name": "stdout",
          "text": [
            "predict 540088.0\n"
          ]
        },
        {
          "output_type": "display_data",
          "data": {
            "image/png": "[encoded data removed]",
            "text/plain": [
              "<Figure size 576x396 with 1 Axes>"
            ]
          },
          "metadata": {}
        }
      ],
      "metadata": {
        "id": "0AFxerFEsPgd",
        "colab": {
          "base_uri": "https://localhost:8080/",
          "height": 393
        },
        "outputId": "e71e7663-456a-4e48-a126-47412c29e432"
      }
    },
    {
      "cell_type": "markdown",
      "source": [
        "### 3) Scikit-Learn 라이브러리를 사용해 특성 sqft_living에 대한 선형회귀모델을 만들어 보세요.\n",
        "- **sqft_living 값이 15000인 경우에 모델이 예측하는 주택 가격을 과제 제출폼에 제출하세요.(소수점 이하 반올림)**"
      ],
      "metadata": {
        "id": "12jwrPP3sPge"
      }
    },
    {
      "cell_type": "code",
      "execution_count": null,
      "source": [
        "# scikit-learn 의 LinearRegression 라이브러리를 불러옵니다. \n",
        "from sklearn.linear_model import LinearRegression\n",
        "\n",
        "# 예측모델 인스턴스를 만듭니다\n",
        "model = LinearRegression()"
      ],
      "outputs": [],
      "metadata": {
        "id": "Gum7280GsPgf"
      }
    },
    {
      "cell_type": "code",
      "execution_count": null,
      "source": [
        "# X특성과 y 타겟 벡터를 만듭니다\n",
        "feature = ['sqft_living']\n",
        "target = ['price']\n",
        "X_train = df[feature]\n",
        "y_train = df[target]"
      ],
      "outputs": [],
      "metadata": {
        "id": "0JpiFfaGTvat"
      }
    },
    {
      "cell_type": "code",
      "execution_count": null,
      "source": [
        "# 모델을 학습(fit)합니다\n",
        "model.fit(X_train, y_train)"
      ],
      "outputs": [
        {
          "output_type": "execute_result",
          "data": {
            "text/plain": [
              "LinearRegression(copy_X=True, fit_intercept=True, n_jobs=None, normalize=False)"
            ]
          },
          "metadata": {},
          "execution_count": 81
        }
      ],
      "metadata": {
        "colab": {
          "base_uri": "https://localhost:8080/"
        },
        "id": "lZR_QVQaUCs6",
        "outputId": "9f1a6b41-6eff-46aa-bd9e-be53e561c64b"
      }
    },
    {
      "cell_type": "code",
      "execution_count": 92,
      "source": [
        "# 새로운 데이터 한 샘플을 학습한 모델에 넣어 예측해 봅니다\n",
        "import numpy as np\n",
        "\n",
        "X_test = [[15000]]\n",
        "y_pred = np.around(model.predict(X_test))\n",
        "\n",
        "print(f'{X_test[0][0]} sqft_living를 가지는 주택의 예상 가격은 ${int(y_pred)} 입니다.')"
      ],
      "outputs": [
        {
          "output_type": "stream",
          "name": "stdout",
          "text": [
            "15000 sqft_living를 가지는 주택의 예상 가격은 $4165773 입니다.\n"
          ]
        }
      ],
      "metadata": {
        "colab": {
          "base_uri": "https://localhost:8080/"
        },
        "id": "kCF1MsnrUXq_",
        "outputId": "a83e5486-f866-496e-9338-92ffe7b0b8d5"
      }
    },
    {
      "cell_type": "markdown",
      "source": [
        "### 4) 만든 모델을 사용해 새로운 데이터에 대해 예측을 해 보고 coefficient를 사용해 설명해 보세요.\n",
        "- **sqft_living 특성에 대한 회귀계수를 제출하세요.(소수점 이하 반올림)**"
      ],
      "metadata": {
        "id": "u5gYsjhUsPgg"
      }
    },
    {
      "cell_type": "code",
      "execution_count": 93,
      "source": [
        "# 선형모델의 회귀계수(coefficient)를 구합니다. \n",
        "import numpy as np\n",
        "\n",
        "np.around(model.coef_)"
      ],
      "outputs": [
        {
          "output_type": "execute_result",
          "data": {
            "text/plain": [
              "array([[281.]])"
            ]
          },
          "metadata": {},
          "execution_count": 93
        }
      ],
      "metadata": {
        "id": "E060aic7sPgh",
        "colab": {
          "base_uri": "https://localhost:8080/"
        },
        "outputId": "e40639a8-60d9-4ae4-a4f3-1f86e0d48966"
      }
    },
    {
      "cell_type": "markdown",
      "source": [
        "### 5) bathrooms 특성을 사용하여 모델을 만들어 보고 두 모델을 비교해 보세요.\n",
        "- **bathrooms에 대한 회귀계수를 제출하세요. (소수점 이하 반올림)**"
      ],
      "metadata": {
        "id": "XJsQ3FE_sPgh"
      }
    },
    {
      "cell_type": "code",
      "execution_count": 90,
      "source": [
        "# bathrooms 특성을 사용한 모델의 회귀계수를 구합니다. \n",
        "\n",
        "from sklearn.linear_model import LinearRegression\n",
        "import numpy as np\n",
        "\n",
        "feature = ['bathrooms']\n",
        "target = ['price']\n",
        "X_train = df[feature]\n",
        "y_train = df[target]\n",
        "\n",
        "model2 = LinearRegression()\n",
        "\n",
        "model2.fit(X_train, y_train)\n",
        "\n",
        "# model2.coef_ \n",
        "\n",
        "# 반올림\n",
        "np.around(model2.coef_)\n",
        "\n"
      ],
      "outputs": [
        {
          "output_type": "execute_result",
          "data": {
            "text/plain": [
              "array([[250327.]])"
            ]
          },
          "metadata": {},
          "execution_count": 90
        }
      ],
      "metadata": {
        "id": "S_BbaDhgsPgh",
        "colab": {
          "base_uri": "https://localhost:8080/"
        },
        "outputId": "450be057-1ffd-4f41-c6fc-cc364310439a"
      }
    }
  ]
}