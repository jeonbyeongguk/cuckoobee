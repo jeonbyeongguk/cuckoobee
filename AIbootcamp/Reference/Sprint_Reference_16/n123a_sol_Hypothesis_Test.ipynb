{
  "nbformat": 4,
  "nbformat_minor": 0,
  "metadata": {
    "colab": {
      "provenance": [],
      "collapsed_sections": []
    },
    "kernelspec": {
      "name": "python3",
      "display_name": "Python 3"
    },
    "language_info": {
      "name": "python"
    }
  },
  "cells": [
    {
      "cell_type": "markdown",
      "source": [
        "<img src='https://user-images.githubusercontent.com/6457691/89746244-a6e2a200-daf3-11ea-9314-7863d544d73c.png' width = '200' align = 'right'>\n",
        "\n",
        "## *DATA SCIENCE / SECTION 1 / SPRINT 2 / NOTE 3*\n",
        "\n",
        "---\n",
        "\n",
        "# 📝 Assignment"
      ],
      "metadata": {
        "id": "t_U_6S26AuYq"
      }
    },
    {
      "cell_type": "markdown",
      "source": [
        "# **🌱 기본 과제**\n",
        "\n",
        "오늘 lecture note에서는 두 집단의 평균을 비교하는 가설 검정 과정을 부트스트래핑을 이용해 표본 평균 분포를 구현하여 통계적 유의미함을 살펴보았습니다. \n",
        "\n",
        "**T-test** 메소드에는 이러한 과정이 built-in 되어있기 때문에 우리는 동일한 계산을 **T-test** 메소드를 통해 간단히 구현해 볼 수 있습니다. "
      ],
      "metadata": {
        "id": "iuXghyPoH2oo"
      }
    },
    {
      "cell_type": "markdown",
      "source": [
        "## **Part 1. One-Sample T-test** \n",
        "한 샘플의 평균값과 특정값(모수)을 비교하는 검정 방법입니다. <br>\n",
        "이를 양측검정을 통해 시행하고자 한다면 귀무가설과 대립가설은 다음과 같이 세울 수 있습니다. \n",
        "\n",
        "$H_0$ : $\\mu_{sample} = \\mu_{population}$\n",
        "\n",
        "$H_a$ : $\\mu_{sample} ≠ \\mu_{population}$ "
      ],
      "metadata": {
        "id": "tevnGzYICcze"
      }
    },
    {
      "cell_type": "markdown",
      "source": [
        "### **1-1. 데이터셋 준비**\n",
        "- 다음 데이터셋을 불러옵니다. <br>\n",
        "  https://ds-lecture-data.s3.ap-northeast-2.amazonaws.com/seoul_tree/seoul_tree.txt\n",
        "  - 데이터는 `tap`으로 구분되어 있습니다. \n",
        "  - `skiprows=1`로 설정하여 첫 번째 row가 헤더가 되도록 지정합니다. \n",
        "- `자치구`가 `서울시`, `공원녹지사업소`, `시설관리공단`인 데이터는 제외합니다. \n",
        "- `이팝나무` column만 추출하여 `df_sub`에 저장하세요. \n",
        "  - `df_sub`은 Series 형태입니다. \n",
        "- `df_sub`의 index를 재설정 하세요. "
      ],
      "metadata": {
        "id": "W0AtIiP3__0r"
      }
    },
    {
      "cell_type": "markdown",
      "source": [
        "##### **Q1. `df_sub`의 row의 총 개수를 쓰세요.**"
      ],
      "metadata": {
        "id": "XgnucPhCjL1Q"
      }
    },
    {
      "cell_type": "code",
      "source": [
        "import pandas as pd\n",
        "import numpy as np\n",
        "from scipy import stats"
      ],
      "metadata": {
        "id": "ANaPZIbc-92j"
      },
      "execution_count": null,
      "outputs": []
    },
    {
      "cell_type": "code",
      "source": [
        "# 서울시 가로수 데이터셋 불러오기 \n",
        "df = pd.read_csv('https://ds-lecture-data.s3.ap-northeast-2.amazonaws.com/seoul_tree/seoul_tree.txt', delimiter = \"\\t\", skiprows=1)\n",
        "df.head(3)"
      ],
      "metadata": {
        "id": "dxwe48uKxbx9",
        "colab": {
          "base_uri": "https://localhost:8080/",
          "height": 173
        },
        "outputId": "c29da25a-64ee-44b9-e739-2789f6aea7d1"
      },
      "execution_count": null,
      "outputs": [
        {
          "output_type": "execute_result",
          "data": {
            "text/plain": [
              "     기간  자치구    노선수       수량     은행나무   양버즘나무    느티나무    왕벚나무 은단풍나무 메타세콰이어  \\\n",
              "0  2019  서울시  1,412  307,351  108,050  62,474  37,473  34,150   545  5,171   \n",
              "1  2019  종로구     70    7,329    4,072   1,071     619     421     -      1   \n",
              "2  2019   중구     48    8,250    3,640     162     460     289     -      -   \n",
              "\n",
              "   ... 튜울립나무    칠엽수 포플러 느릅나무 살구나무    무궁화    소나무   목련    이팝나무      기타  \n",
              "0  ...   948  1,533   7  504  234  2,374  4,539  378  20,088  20,112  \n",
              "1  ...     -     17   -    -    -      -    239    -     711      29  \n",
              "2  ...     7      -   -    -   21     46  2,162    -     470     817  \n",
              "\n",
              "[3 rows x 24 columns]"
            ],
            "text/html": [
              "\n",
              "  <div id=\"df-ae706f10-c0b8-401b-ae35-007fecc5cd67\">\n",
              "    <div class=\"colab-df-container\">\n",
              "      <div>\n",
              "<style scoped>\n",
              "    .dataframe tbody tr th:only-of-type {\n",
              "        vertical-align: middle;\n",
              "    }\n",
              "\n",
              "    .dataframe tbody tr th {\n",
              "        vertical-align: top;\n",
              "    }\n",
              "\n",
              "    .dataframe thead th {\n",
              "        text-align: right;\n",
              "    }\n",
              "</style>\n",
              "<table border=\"1\" class=\"dataframe\">\n",
              "  <thead>\n",
              "    <tr style=\"text-align: right;\">\n",
              "      <th></th>\n",
              "      <th>기간</th>\n",
              "      <th>자치구</th>\n",
              "      <th>노선수</th>\n",
              "      <th>수량</th>\n",
              "      <th>은행나무</th>\n",
              "      <th>양버즘나무</th>\n",
              "      <th>느티나무</th>\n",
              "      <th>왕벚나무</th>\n",
              "      <th>은단풍나무</th>\n",
              "      <th>메타세콰이어</th>\n",
              "      <th>...</th>\n",
              "      <th>튜울립나무</th>\n",
              "      <th>칠엽수</th>\n",
              "      <th>포플러</th>\n",
              "      <th>느릅나무</th>\n",
              "      <th>살구나무</th>\n",
              "      <th>무궁화</th>\n",
              "      <th>소나무</th>\n",
              "      <th>목련</th>\n",
              "      <th>이팝나무</th>\n",
              "      <th>기타</th>\n",
              "    </tr>\n",
              "  </thead>\n",
              "  <tbody>\n",
              "    <tr>\n",
              "      <th>0</th>\n",
              "      <td>2019</td>\n",
              "      <td>서울시</td>\n",
              "      <td>1,412</td>\n",
              "      <td>307,351</td>\n",
              "      <td>108,050</td>\n",
              "      <td>62,474</td>\n",
              "      <td>37,473</td>\n",
              "      <td>34,150</td>\n",
              "      <td>545</td>\n",
              "      <td>5,171</td>\n",
              "      <td>...</td>\n",
              "      <td>948</td>\n",
              "      <td>1,533</td>\n",
              "      <td>7</td>\n",
              "      <td>504</td>\n",
              "      <td>234</td>\n",
              "      <td>2,374</td>\n",
              "      <td>4,539</td>\n",
              "      <td>378</td>\n",
              "      <td>20,088</td>\n",
              "      <td>20,112</td>\n",
              "    </tr>\n",
              "    <tr>\n",
              "      <th>1</th>\n",
              "      <td>2019</td>\n",
              "      <td>종로구</td>\n",
              "      <td>70</td>\n",
              "      <td>7,329</td>\n",
              "      <td>4,072</td>\n",
              "      <td>1,071</td>\n",
              "      <td>619</td>\n",
              "      <td>421</td>\n",
              "      <td>-</td>\n",
              "      <td>1</td>\n",
              "      <td>...</td>\n",
              "      <td>-</td>\n",
              "      <td>17</td>\n",
              "      <td>-</td>\n",
              "      <td>-</td>\n",
              "      <td>-</td>\n",
              "      <td>-</td>\n",
              "      <td>239</td>\n",
              "      <td>-</td>\n",
              "      <td>711</td>\n",
              "      <td>29</td>\n",
              "    </tr>\n",
              "    <tr>\n",
              "      <th>2</th>\n",
              "      <td>2019</td>\n",
              "      <td>중구</td>\n",
              "      <td>48</td>\n",
              "      <td>8,250</td>\n",
              "      <td>3,640</td>\n",
              "      <td>162</td>\n",
              "      <td>460</td>\n",
              "      <td>289</td>\n",
              "      <td>-</td>\n",
              "      <td>-</td>\n",
              "      <td>...</td>\n",
              "      <td>7</td>\n",
              "      <td>-</td>\n",
              "      <td>-</td>\n",
              "      <td>-</td>\n",
              "      <td>21</td>\n",
              "      <td>46</td>\n",
              "      <td>2,162</td>\n",
              "      <td>-</td>\n",
              "      <td>470</td>\n",
              "      <td>817</td>\n",
              "    </tr>\n",
              "  </tbody>\n",
              "</table>\n",
              "<p>3 rows × 24 columns</p>\n",
              "</div>\n",
              "      <button class=\"colab-df-convert\" onclick=\"convertToInteractive('df-ae706f10-c0b8-401b-ae35-007fecc5cd67')\"\n",
              "              title=\"Convert this dataframe to an interactive table.\"\n",
              "              style=\"display:none;\">\n",
              "        \n",
              "  <svg xmlns=\"http://www.w3.org/2000/svg\" height=\"24px\"viewBox=\"0 0 24 24\"\n",
              "       width=\"24px\">\n",
              "    <path d=\"M0 0h24v24H0V0z\" fill=\"none\"/>\n",
              "    <path d=\"M18.56 5.44l.94 2.06.94-2.06 2.06-.94-2.06-.94-.94-2.06-.94 2.06-2.06.94zm-11 1L8.5 8.5l.94-2.06 2.06-.94-2.06-.94L8.5 2.5l-.94 2.06-2.06.94zm10 10l.94 2.06.94-2.06 2.06-.94-2.06-.94-.94-2.06-.94 2.06-2.06.94z\"/><path d=\"M17.41 7.96l-1.37-1.37c-.4-.4-.92-.59-1.43-.59-.52 0-1.04.2-1.43.59L10.3 9.45l-7.72 7.72c-.78.78-.78 2.05 0 2.83L4 21.41c.39.39.9.59 1.41.59.51 0 1.02-.2 1.41-.59l7.78-7.78 2.81-2.81c.8-.78.8-2.07 0-2.86zM5.41 20L4 18.59l7.72-7.72 1.47 1.35L5.41 20z\"/>\n",
              "  </svg>\n",
              "      </button>\n",
              "      \n",
              "  <style>\n",
              "    .colab-df-container {\n",
              "      display:flex;\n",
              "      flex-wrap:wrap;\n",
              "      gap: 12px;\n",
              "    }\n",
              "\n",
              "    .colab-df-convert {\n",
              "      background-color: #E8F0FE;\n",
              "      border: none;\n",
              "      border-radius: 50%;\n",
              "      cursor: pointer;\n",
              "      display: none;\n",
              "      fill: #1967D2;\n",
              "      height: 32px;\n",
              "      padding: 0 0 0 0;\n",
              "      width: 32px;\n",
              "    }\n",
              "\n",
              "    .colab-df-convert:hover {\n",
              "      background-color: #E2EBFA;\n",
              "      box-shadow: 0px 1px 2px rgba(60, 64, 67, 0.3), 0px 1px 3px 1px rgba(60, 64, 67, 0.15);\n",
              "      fill: #174EA6;\n",
              "    }\n",
              "\n",
              "    [theme=dark] .colab-df-convert {\n",
              "      background-color: #3B4455;\n",
              "      fill: #D2E3FC;\n",
              "    }\n",
              "\n",
              "    [theme=dark] .colab-df-convert:hover {\n",
              "      background-color: #434B5C;\n",
              "      box-shadow: 0px 1px 3px 1px rgba(0, 0, 0, 0.15);\n",
              "      filter: drop-shadow(0px 1px 2px rgba(0, 0, 0, 0.3));\n",
              "      fill: #FFFFFF;\n",
              "    }\n",
              "  </style>\n",
              "\n",
              "      <script>\n",
              "        const buttonEl =\n",
              "          document.querySelector('#df-ae706f10-c0b8-401b-ae35-007fecc5cd67 button.colab-df-convert');\n",
              "        buttonEl.style.display =\n",
              "          google.colab.kernel.accessAllowed ? 'block' : 'none';\n",
              "\n",
              "        async function convertToInteractive(key) {\n",
              "          const element = document.querySelector('#df-ae706f10-c0b8-401b-ae35-007fecc5cd67');\n",
              "          const dataTable =\n",
              "            await google.colab.kernel.invokeFunction('convertToInteractive',\n",
              "                                                     [key], {});\n",
              "          if (!dataTable) return;\n",
              "\n",
              "          const docLinkHtml = 'Like what you see? Visit the ' +\n",
              "            '<a target=\"_blank\" href=https://colab.research.google.com/notebooks/data_table.ipynb>data table notebook</a>'\n",
              "            + ' to learn more about interactive tables.';\n",
              "          element.innerHTML = '';\n",
              "          dataTable['output_type'] = 'display_data';\n",
              "          await google.colab.output.renderOutput(dataTable, element);\n",
              "          const docLink = document.createElement('div');\n",
              "          docLink.innerHTML = docLinkHtml;\n",
              "          element.appendChild(docLink);\n",
              "        }\n",
              "      </script>\n",
              "    </div>\n",
              "  </div>\n",
              "  "
            ]
          },
          "metadata": {},
          "execution_count": 22
        }
      ]
    },
    {
      "cell_type": "code",
      "source": [
        "# 서울시, 공원녹지사업소, 시설관리공단 데이터 제외\n",
        "df_sub = df['이팝나무'][~df['자치구'].isin(['서울시', '공원녹지사업소', '시설관리공단'])]\n",
        "df_sub.reset_index(drop=True, inplace=True)\n",
        "df_sub"
      ],
      "metadata": {
        "colab": {
          "base_uri": "https://localhost:8080/"
        },
        "id": "LCDuf-DPt9_V",
        "outputId": "35f15587-a51b-42d9-e620-875e57098ceb"
      },
      "execution_count": null,
      "outputs": [
        {
          "output_type": "execute_result",
          "data": {
            "text/plain": [
              "0       711\n",
              "1       470\n",
              "2       198\n",
              "3       709\n",
              "4       760\n",
              "5     1,176\n",
              "6       449\n",
              "7       853\n",
              "8       575\n",
              "9        47\n",
              "10      142\n",
              "11      443\n",
              "12      493\n",
              "13    1,280\n",
              "14      784\n",
              "15    1,426\n",
              "16    1,082\n",
              "17      184\n",
              "18    1,281\n",
              "19      397\n",
              "20      249\n",
              "21      446\n",
              "22      768\n",
              "23    1,651\n",
              "24      642\n",
              "Name: 이팝나무, dtype: object"
            ]
          },
          "metadata": {},
          "execution_count": 24
        }
      ]
    },
    {
      "cell_type": "code",
      "source": [
        "df_sub.shape"
      ],
      "metadata": {
        "colab": {
          "base_uri": "https://localhost:8080/"
        },
        "id": "3V4vPnZT5fHT",
        "outputId": "62f4d24e-a934-4814-fafa-b2fd46cf5a42"
      },
      "execution_count": null,
      "outputs": [
        {
          "output_type": "execute_result",
          "data": {
            "text/plain": [
              "(25,)"
            ]
          },
          "metadata": {},
          "execution_count": 25
        }
      ]
    },
    {
      "cell_type": "markdown",
      "source": [
        "### **1-2. 데이터 타입 변환**\n",
        "- `이팝나무` column의 데이터 타입을 확인한 후, 적절한 데이터 타입으로 변환하세요.\n",
        "  - 적절한 데이터 타입으로 변환하기 위해 `.replace()` 함수를 활용해보세요."
      ],
      "metadata": {
        "id": "bnl8iMeCeafC"
      }
    },
    {
      "cell_type": "markdown",
      "source": [
        "##### **Q2. `이팝나무` column의 데이터 타입으로 적절한 것은 무엇인가요?**"
      ],
      "metadata": {
        "id": "IRWR7xTSjpt4"
      }
    },
    {
      "cell_type": "code",
      "source": [
        "# 데이터 타입 확인 \n",
        "df_sub.dtypes"
      ],
      "metadata": {
        "colab": {
          "base_uri": "https://localhost:8080/"
        },
        "id": "Yv_RR5QsvGaT",
        "outputId": "0e8247df-34be-4e10-e3a1-f45eed13f6af"
      },
      "execution_count": null,
      "outputs": [
        {
          "output_type": "execute_result",
          "data": {
            "text/plain": [
              "dtype('O')"
            ]
          },
          "metadata": {},
          "execution_count": 26
        }
      ]
    },
    {
      "cell_type": "code",
      "source": [
        "# 이팝나무 데이터 타입 변환 \n",
        "df_sub = pd.to_numeric(df_sub.str.replace(',',''))\n",
        "df_sub.dtypes"
      ],
      "metadata": {
        "colab": {
          "base_uri": "https://localhost:8080/"
        },
        "id": "Kx55IakivUiS",
        "outputId": "2741aa3e-6fa1-4e16-9035-0b65ce67b887"
      },
      "execution_count": null,
      "outputs": [
        {
          "output_type": "execute_result",
          "data": {
            "text/plain": [
              "dtype('int64')"
            ]
          },
          "metadata": {},
          "execution_count": 28
        }
      ]
    },
    {
      "cell_type": "markdown",
      "source": [
        "### **1-3. 표본 생성 및 가설 검정**\n",
        "- [`np.random.choice()`](https://numpy.org/doc/stable/reference/random/generated/numpy.random.choice.html)를 사용해 10개의 구의 `이팝나무` 데이터를 중복을 허용하여 추출합니다. \n",
        "    - `np.random.seed(123)`으로 설정하세요.\n",
        "- 서울시 구별 `이팝나무` 데이터를 모집단으로 가정하였을 때, 10개의 구를 추출한 `이팝나무` 수의 평균과 모집단의 평균을 비교하는 가설검정을 One-Sample T-test를 통해 시행하세요.      \n",
        "  - scipy 라이브러리의 [`.ttest_1samp()`](https://docs.scipy.org/doc/scipy/reference/generated/scipy.stats.ttest_1samp.html)을 사용합니다.\n",
        "- `.pvalue`를 사용하여 가설검정 결과의 P-value를 `pv1`에 저장하세요."
      ],
      "metadata": {
        "id": "V9hRAB-QBPrw"
      }
    },
    {
      "cell_type": "markdown",
      "source": [
        "##### **Q3. 모집단(서울시 구별 이팝나무 데이터)의 평균은 얼마인지 소수점 둘째 자리까지 구하세요.**"
      ],
      "metadata": {
        "id": "IzBWyg8kr0gu"
      }
    },
    {
      "cell_type": "code",
      "source": [
        "# 10개의 구 샘플링 \n",
        "np.random.seed(123)\n",
        "\n",
        "chosen = np.random.choice(df_sub, size=10)"
      ],
      "metadata": {
        "id": "yWiC-xArDog-"
      },
      "execution_count": null,
      "outputs": []
    },
    {
      "cell_type": "code",
      "source": [
        "# 서울시 구별 이팝나무의 평균 \n",
        "df_sub_mean = np.mean(df_sub)\n",
        "\n",
        "df_sub_mean"
      ],
      "metadata": {
        "colab": {
          "base_uri": "https://localhost:8080/"
        },
        "id": "OiHwCPSTw7QP",
        "outputId": "2477e37a-5277-442d-9e1d-0edb3c3f3508"
      },
      "execution_count": null,
      "outputs": [
        {
          "output_type": "execute_result",
          "data": {
            "text/plain": [
              "688.64"
            ]
          },
          "metadata": {},
          "execution_count": 30
        }
      ]
    },
    {
      "cell_type": "markdown",
      "source": [
        "##### **Q4. 표본(10개의 구를 추출한 이팝나무 데이터)의 평균은 얼마인지 소수점 첫째 자리까지 구하세요.**"
      ],
      "metadata": {
        "id": "bGMDsEsKr5Uc"
      }
    },
    {
      "cell_type": "code",
      "source": [
        "# 표본 데이터 평균 \n",
        "chosen_mean = np.mean(chosen)\n",
        "\n",
        "chosen_mean"
      ],
      "metadata": {
        "colab": {
          "base_uri": "https://localhost:8080/"
        },
        "id": "o1RCX1YXDwhZ",
        "outputId": "f0d29792-3496-459a-ad3c-b91800d2a1d2"
      },
      "execution_count": null,
      "outputs": [
        {
          "output_type": "execute_result",
          "data": {
            "text/plain": [
              "479.7"
            ]
          },
          "metadata": {},
          "execution_count": 31
        }
      ]
    },
    {
      "cell_type": "markdown",
      "source": [
        "##### **Q5. 가설 검정 결과 P-value를 해석한 것으로 알맞은 것은 무엇인가요?**\n",
        "- 서울시 구별 이팝나무 수의 평균과 10개의 구를 샘플링한 이팝나무 수의 평균은 다르다고 볼 수 없다. \n",
        "- 서울시 구별 이팝나무 수의 평균과 10개의 구를 샘플링한 이팝나무 수의 평균은 같다고 볼 수 없다. \n",
        "- 서울시 구별 이팝나무 수의 평균은 10개의 구를 샘플링한 이팝나무 수의 평균보다 크다. \n",
        "- 서울시 구별 이팝나무 수의 평균은 10개의 구를 샘플링한 이팝나무 수의 평균보다 작다. "
      ],
      "metadata": {
        "id": "C0iPS_imseYW"
      }
    },
    {
      "cell_type": "code",
      "source": [
        "# t-test 시행\n",
        "from scipy import stats\n",
        "\n",
        "pv1 = stats.ttest_1samp(chosen, df_sub_mean).pvalue\n",
        "pv1 # pvalue > 0.05이므로 귀무가설 기각 실패 "
      ],
      "metadata": {
        "colab": {
          "base_uri": "https://localhost:8080/"
        },
        "id": "SVg9VC_cDzE2",
        "outputId": "d2470d10-d5fe-467f-eb6e-7619c2b11323"
      },
      "execution_count": null,
      "outputs": [
        {
          "output_type": "execute_result",
          "data": {
            "text/plain": [
              "0.09699658599768855"
            ]
          },
          "metadata": {},
          "execution_count": 32
        }
      ]
    },
    {
      "cell_type": "markdown",
      "source": [
        "# **🥇 도전 과제**"
      ],
      "metadata": {
        "id": "zSVm5CcdNnEe"
      }
    },
    {
      "cell_type": "markdown",
      "source": [
        "## **Part 2. Two-Sample T-test**\n",
        "\n",
        "\n",
        "두 샘플의 평균값을 비교하는 검정 방법입니다. <br>\n",
        "이를 양측검정을 통해 시행하고자 한다면 귀무가설과 대립가설은 다음과 같이 세울 수 있습니다. \n",
        "\n",
        "$H_0$ : $\\mu_{sample1} = \\mu_{sample2}$\n",
        "\n",
        "$H_a$ : $\\mu_{sample1} ≠ \\mu_{sample2}$"
      ],
      "metadata": {
        "id": "cB3xOGTv2Q8d"
      }
    },
    {
      "cell_type": "code",
      "source": [
        "# 아래의 코드를 실행해 주세요. 업그레이드 완료 후에는 런타임을 재시작해야 합니다. \n",
        "!pip install scipy --upgrade"
      ],
      "metadata": {
        "id": "nxI0EC-X2fXp",
        "colab": {
          "base_uri": "https://localhost:8080/"
        },
        "outputId": "fb3db0a2-ee68-4c26-fdc3-6e04a122fa60"
      },
      "execution_count": null,
      "outputs": [
        {
          "output_type": "stream",
          "name": "stdout",
          "text": [
            "Looking in indexes: https://pypi.org/simple, https://us-python.pkg.dev/colab-wheels/public/simple/\n",
            "Requirement already satisfied: scipy in /usr/local/lib/python3.7/dist-packages (1.7.3)\n",
            "Requirement already satisfied: numpy<1.23.0,>=1.16.5 in /usr/local/lib/python3.7/dist-packages (from scipy) (1.21.6)\n"
          ]
        }
      ]
    },
    {
      "cell_type": "code",
      "source": [
        "# 버전 확인 \n",
        "import scipy\n",
        "\n",
        "scipy.__version__"
      ],
      "metadata": {
        "id": "2QLRviTlNmR7",
        "colab": {
          "base_uri": "https://localhost:8080/",
          "height": 36
        },
        "outputId": "9e273f79-d759-4f3e-8f43-7cfe9b9e1fd7"
      },
      "execution_count": null,
      "outputs": [
        {
          "output_type": "execute_result",
          "data": {
            "text/plain": [
              "'1.7.3'"
            ],
            "application/vnd.google.colaboratory.intrinsic+json": {
              "type": "string"
            }
          },
          "metadata": {},
          "execution_count": 34
        }
      ]
    },
    {
      "cell_type": "markdown",
      "source": [
        "### **2-1. 데이터셋 준비**\n",
        "- **`서울시`, `공원녹지사업소`, `시설관리공단` 데이터는 제외하세요.** \n",
        "- **`느티나무`, `왕벚나무` column만 추출하여 각각 `zelkova`과 `cherry`에 저장하세요.** "
      ],
      "metadata": {
        "id": "Pc84U5GgzFKH"
      }
    },
    {
      "cell_type": "code",
      "source": [
        "zelkova = df['느티나무'][~df['자치구'].isin(['서울시','공원녹지사업소','시설관리공단'])]\n",
        "cherry = df['왕벚나무'][~df['자치구'].isin(['서울시','공원녹지사업소','시설관리공단'])]"
      ],
      "metadata": {
        "id": "qg5ZcWVONpBC"
      },
      "execution_count": null,
      "outputs": []
    },
    {
      "cell_type": "markdown",
      "source": [
        "### **2-2. 데이터 타입 변환**\n",
        "**`느티나무`, `왕벚나무` column의 데이터 타입을 `int`로 변환하세요.**"
      ],
      "metadata": {
        "id": "fS7qviyEzQ7p"
      }
    },
    {
      "cell_type": "code",
      "source": [
        "zelkova = pd.to_numeric(zelkova.str.replace(','or' ', ''))\n",
        "cherry = pd.to_numeric(cherry.str.replace(',', ''))"
      ],
      "metadata": {
        "id": "Jdtr2Fo6zqSg"
      },
      "execution_count": null,
      "outputs": []
    },
    {
      "cell_type": "markdown",
      "source": [
        "### **2-3. 가설 검정**\n",
        "단측 검정(One-tailed test)을 사용하여 평균 `느티나무` 수와 평균 `왕벚나무` 수를 비교하는 가설검정을 시행하세요. (단, 서울시 구별 `느티나무` 및 `왕벚나무` 데이터는 표본입니다.) \n",
        "- **scipy 라이브러리의 [`.ttest_ind()`](https://docs.scipy.org/doc/scipy/reference/generated/scipy.stats.ttest_ind.html)를 사용합니다.**\n",
        "  - One-tailed test를 진행하기 위해서는 `alternative` 파라미터를 설정해야 합니다. \n",
        "- **'평균 느티나무 수가 왕벚나무 수보다 통계적으로 유의미하게 크다'는 가설검정 결과의 P-value를 `pv2`에 저장하세요.**\n",
        "   - 이에 알맞은 귀무가설과 대립가설을 설정합니다. \n",
        "- **'평균 왕벚나무 수가 느티나무 수보다 통계적으로 유의미하게 크다'는 가설검정 결과의 P-value를 `pv3`에 저장하세요.** \n",
        "  - 이에 알맞은 귀무가설과 대립가설을 설정합니다. \n",
        "- **평균 `느티나무` 수와 평균 `왕벚나무` 수를 비교하는 가설검정 결과를 `ans`에 저장하세요. 이때 `ans`는 다음 세 가지 중 하나입니다.** \n",
        "  - 느티나무 (평균 느티나무 수가 왕벚나무 수보다 통계적으로 유의하게 큰 경우)\n",
        "  - 왕벚나무 (평균 왕벚나무 수가 느티나무 수보다 통계적으로 유의하게 큰 경우)\n",
        "  - 같다. (통계적으로 유의미한 차이가 없다.) "
      ],
      "metadata": {
        "id": "L87xLozjfMX6"
      }
    },
    {
      "cell_type": "code",
      "source": [
        "# 평균 느티나무 수가 왕벚나무 수보다 크다는 가설 검정\n",
        "\n",
        "'''\n",
        "귀무가설 : 느티나무 수의 평균은 왕벚나무 수의 평균보다 작거나 같다. \n",
        "대립가설 : 느티나무 수의 평균은 왕벚나무 수의 평균보다 크다. \n",
        "'''\n",
        "\n",
        "pv2 = stats.ttest_ind(zelkova, cherry, alternative='greater').pvalue\n",
        "pv2 # pvalue > 0.05이므로 귀무가설 기각 실패"
      ],
      "metadata": {
        "colab": {
          "base_uri": "https://localhost:8080/"
        },
        "id": "T3MQAiiAOa0J",
        "outputId": "b1254e86-4edc-4f8c-d23f-9f9a42c17948"
      },
      "execution_count": null,
      "outputs": [
        {
          "output_type": "execute_result",
          "data": {
            "text/plain": [
              "0.32275484400428517"
            ]
          },
          "metadata": {},
          "execution_count": 37
        }
      ]
    },
    {
      "cell_type": "code",
      "source": [
        "# 평균 왕벚나무 수가 느티나무 수보다 크다는 가설 검정 \n",
        "\n",
        "'''\n",
        "귀무가설 : 왕벚나무 수의 평균은 느티나무 수의 평균보다 작거나 같다. \n",
        "대립가설 : 왕벚나무 수의 평균은 느티나무 수의 평균보다 크다. \n",
        "'''\n",
        "\n",
        "pv3 = stats.ttest_ind(cherry, zelkova, alternative='greater').pvalue\n",
        "pv3 # pvalue > 0.05이므로 귀무가설 기각 실패 "
      ],
      "metadata": {
        "colab": {
          "base_uri": "https://localhost:8080/"
        },
        "id": "E2duWXW2Oa4g",
        "outputId": "761c2400-7766-48be-937f-d33fb40d7065"
      },
      "execution_count": null,
      "outputs": [
        {
          "output_type": "execute_result",
          "data": {
            "text/plain": [
              "0.6772451559957149"
            ]
          },
          "metadata": {},
          "execution_count": 38
        }
      ]
    },
    {
      "cell_type": "code",
      "source": [
        "alpha = 0.05\n",
        "\n",
        "if pv2 < alpha :\n",
        "    ans = '느티나무'\n",
        "elif pv3 < alpha :\n",
        "    ans = '왕벚나무'\n",
        "else :\n",
        "    ans = '같다.' # 평균 느티나무 수가 왕벚나무 수보다 작거나 같고, 크거나 같다는 것이 모두 성립하려면 두 평균은 같아야 한다. "
      ],
      "metadata": {
        "id": "D-W1qZFeIgy0"
      },
      "execution_count": null,
      "outputs": []
    },
    {
      "cell_type": "code",
      "source": [
        "ans"
      ],
      "metadata": {
        "id": "OT1js2cz0PvL",
        "colab": {
          "base_uri": "https://localhost:8080/",
          "height": 36
        },
        "outputId": "43dd60c4-4a4b-447e-84df-6e9690b588a9"
      },
      "execution_count": null,
      "outputs": [
        {
          "output_type": "execute_result",
          "data": {
            "text/plain": [
              "'같다.'"
            ],
            "application/vnd.google.colaboratory.intrinsic+json": {
              "type": "string"
            }
          },
          "metadata": {},
          "execution_count": 40
        }
      ]
    }
  ]
}