{
  "nbformat": 4,
  "nbformat_minor": 0,
  "metadata": {
    "colab": {
      "provenance": [],
      "collapsed_sections": []
    },
    "kernelspec": {
      "name": "python3",
      "display_name": "Python 3"
    },
    "language_info": {
      "name": "python"
    }
  },
  "cells": [
    {
      "cell_type": "markdown",
      "source": [
        "<img src='https://i.imgur.com/RDAD11M.png' width = '200' align = 'right'>\n",
        "\n",
        "# **SC12x**\n",
        "\n",
        "# **Statistics**"
      ],
      "metadata": {
        "id": "Lh5QGrdw-mKP"
      }
    },
    {
      "cell_type": "markdown",
      "source": [
        "## **Part 1. Bayes Theorem**\n",
        "\n",
        "Bayes Thoerem은 사전확률에서 정보가 업데이트됨에 따라 사후확률이 어떻게 변화하는지를 나타냅니다. \n",
        "\n",
        "다음의 문제에 대해 Bayes Thoerem을 활용하여 사후확률을 구해보세요.\n",
        "\n",
        "> 여러분은 가게에서 2개의 사탕팩(A, B)을 구매하였습니다. A팩에는 7개의 딸기맛, 3개의 사과맛 사탕이 들어있고, B팩에는 5개의 딸기맛, 5개의 사과맛 사탕이 들어있었습니다. 해당 사탕들을 모두 섞은 후 1개를 뽑았더니 딸기맛이었을 때, 해당 사탕이 A팩에 있었던 사탕이었을 확률은 얼마일까요?\n",
        "\n",
        "\n",
        "\n"
      ],
      "metadata": {
        "id": "r7D6lw5IUwc2"
      }
    },
    {
      "cell_type": "markdown",
      "source": [
        "##### **Q1. 사후확률을 반올림하여 소수점 둘째 자리까지 구한 후, 사전확률과 사후확률 결과를 (사전확률, 사후확률)의 형태로 쓰세요.**"
      ],
      "metadata": {
        "id": "r0MUSUO6A2kj"
      }
    },
    {
      "cell_type": "code",
      "source": [
        "# 사전확률\n",
        "A = 1/2\n",
        "not_A = 1/2\n",
        "\n",
        "strawberry_for_A = 7/10\n",
        "strawberry_for_B = 5/10\n",
        "\n",
        "# 사후확률\n",
        "posterior = (strawberry_for_A * A) / ((strawberry_for_A * A) + (strawberry_for_B * not_A))\n",
        "\n",
        "A, round(posterior, 2)"
      ],
      "metadata": {
        "colab": {
          "base_uri": "https://localhost:8080/"
        },
        "id": "WYtRszlg7S-T",
        "outputId": "724e1cb1-b8f8-481f-f444-1b85f5239c0e"
      },
      "execution_count": null,
      "outputs": [
        {
          "output_type": "execute_result",
          "data": {
            "text/plain": [
              "(0.5, 0.58)"
            ]
          },
          "metadata": {},
          "execution_count": 5
        }
      ]
    },
    {
      "cell_type": "markdown",
      "source": [
        "---"
      ],
      "metadata": {
        "id": "uxyyD7S2BG3S"
      }
    },
    {
      "cell_type": "markdown",
      "source": [
        "## **Part 2. 큰 수의 법칙 & 신뢰 구간**\n",
        "\n",
        "> **Part 2, Part 3에서 여러분은 가상의 마케팅 데이터를 활용할 것입니다.**"
      ],
      "metadata": {
        "id": "RD-eh22GVjx7"
      }
    },
    {
      "cell_type": "markdown",
      "source": [
        "#### 데이터셋 정보 :   \n",
        "이 데이터셋은 알뜰 구매를 도와주는 XYZ사의 마케팅 정보를 다루고 있으며, 개인 정보는 보호를 위해 제거 되어 있습니다.\n",
        "\n",
        "**Attribute Information:**\n",
        "\n",
        "- ID - 고객의 고유값\n",
        "- Year_Birth - 고객의 출생연도\n",
        "- Education - 고객의 최종학력\n",
        "- Marital_Status - 고객의 혼인여부\n",
        "- Country - 고객의 국적\n",
        "- Income - 고객의 연간 수입\n",
        "- Kidhome - 자녀가 미취학아동인지 여부 (1 - yes, 0 - no)\n",
        "- Teenhome - 자녀가 10대 청소년인지 여부 (1 - yes, 0 - no)\n",
        "- Dt_Customer - 서비스 가입 시기\n",
        "- Recency - 마지막 구매 시기 (일)\n",
        "- MntWines - 최근 2년간 구매한 와인 구매 총액\n",
        "- MntFruits- 최근 2년간 구매한 과일 구매 총액\n",
        "- MntMeatProducts - 최근 2년간 구매한 정육 구매 총액\n",
        "- MntFishProducts - 최근 2년간 구매한 어류 구매 총액\n",
        "- MntSweetProducts - 최근 2년간 구매한 과자 구매 총액\n",
        "- MntGoldProds - 최근 2년간 구매한 황금 구매 총액\n",
        "- NumDealsPurchases - 할인을 통해 제품을 구매한 횟수\n",
        "- NumWebPurchases - 회사의 웹사이트를 통해 구매한 횟수\n",
        "- NumStorePurchases - 가게에서 직접 구매한 횟수\n",
        "- NumWebVisitsMonth - 회사의 웹사이트를 방문한 횟수\n",
        "- Complain - 고객의 최근 2년간 회사에 대한 클레임 여부 (1 - yes, 0 - no)"
      ],
      "metadata": {
        "id": "64C3XkoL-lZB"
      }
    },
    {
      "cell_type": "markdown",
      "source": [
        "### **2-1. 데이터셋 살펴보기**\n",
        "\n",
        "- 데이터셋을 데이터프레임 형태로 불러오세요.\n",
        "- `Income` column 이름 앞뒤의 공백을 제거하세요.\n",
        "- 데이터셋의 결측치를 살펴보고, 있다면 제거하고 인덱스를 재설정하세요.\n",
        "- `Income`의 데이터타입을 `int`로 변경하세요.\n",
        "  - 필요시 다음의 코드를 활용해보세요.\n",
        "  \n",
        "\n",
        "  ```python\n",
        "  import re\n",
        "\n",
        "  def cleaning(df):\n",
        "    li = []\n",
        "    for row in df['Income']:\n",
        "      splited = row.split('.') # .을 기준으로 문자열을 분리합니다.\n",
        "      result = re.sub('[^0-9]','', splited[0]) # .기준 앞 부분만 활용하여 숫자가 아닌 문자는 공백으로 치환합니다.\n",
        "      li.append(int(result))\n",
        "  \n",
        "    df['Income'] = li\n",
        "  ```\n",
        "\n",
        "- `Income`의 이상치를 제거하세요.\n",
        "  - 다음의 코드를 통해 `Income`의 분포를 비교해보세요.\n",
        "\n",
        "  ```python\n",
        "  plt.hist(df['Income']);\n",
        "\n",
        "  plt.hist(df.loc[df['Income'] < 120000, 'Income']);\n",
        "  ```\n",
        "\n",
        "  - `Income`이 120000 이상이 되는 값은 이상치로 간주하여 해당 row를 삭제하고 인덱스를 재설정하세요.\n",
        "\n",
        "- 위의 전처리 과정을 완료한 데이터프레임을 `df_final` 변수로 저장하세요."
      ],
      "metadata": {
        "id": "kZGgXCglUznv"
      }
    },
    {
      "cell_type": "markdown",
      "source": [
        "##### **Q2. `df_final`의 행의 개수를 쓰세요.**"
      ],
      "metadata": {
        "id": "U9teUfVZBMpK"
      }
    },
    {
      "cell_type": "code",
      "source": [
        "# 아래의 코드를 실행해 주세요. 업그레이드 완료 후에는 런타임을 재시작해야 합니다. \n",
        "!pip install scipy --upgrade"
      ],
      "metadata": {
        "colab": {
          "base_uri": "https://localhost:8080/"
        },
        "id": "jR7CP6nFSQKw",
        "outputId": "984a6428-0c5a-40b9-b201-293930995e44"
      },
      "execution_count": null,
      "outputs": [
        {
          "output_type": "stream",
          "name": "stdout",
          "text": [
            "Looking in indexes: https://pypi.org/simple, https://us-python.pkg.dev/colab-wheels/public/simple/\n",
            "Requirement already satisfied: scipy in /usr/local/lib/python3.7/dist-packages (1.7.3)\n",
            "Requirement already satisfied: numpy<1.23.0,>=1.16.5 in /usr/local/lib/python3.7/dist-packages (from scipy) (1.21.6)\n"
          ]
        }
      ]
    },
    {
      "cell_type": "code",
      "source": [
        "import pandas as pd\n",
        "import numpy as np\n",
        "import random\n",
        "import matplotlib.pyplot as plt\n",
        "import seaborn as sns"
      ],
      "metadata": {
        "id": "S5UKcvIF7SMG"
      },
      "execution_count": null,
      "outputs": []
    },
    {
      "cell_type": "code",
      "source": [
        "url = '/content/sc12_data.csv'\n",
        "\n",
        "data = pd.read_csv(url)\n",
        "\n",
        "data.head()"
      ],
      "metadata": {
        "colab": {
          "base_uri": "https://localhost:8080/",
          "height": 299
        },
        "id": "Ml7RnaYBRUFY",
        "outputId": "560deaa5-96c4-4be5-ad96-5c46a93025b7"
      },
      "execution_count": null,
      "outputs": [
        {
          "output_type": "execute_result",
          "data": {
            "text/plain": [
              "      ID  Year_Birth Country   Education Marital_Status      Income   Kidhome  \\\n",
              "0   1826        1970      SP  Graduation       Divorced  $84,835.00         0   \n",
              "1      1        1961      CA  Graduation         Single  $57,091.00         0   \n",
              "2  10476        1958      US  Graduation        Married  $67,267.00         0   \n",
              "3   1386        1967     AUS  Graduation       Together  $32,474.00         1   \n",
              "4   5371        1989      SP  Graduation         Single  $21,474.00         1   \n",
              "\n",
              "   Teenhome Dt_Customer  Recency  ...  MntFruits  MntMeatProducts  \\\n",
              "0         0     6/16/14        0  ...        104              379   \n",
              "1         0     6/15/14        0  ...          5               64   \n",
              "2         1     5/13/14        0  ...         11               59   \n",
              "3         1     5/11/14        0  ...          0                1   \n",
              "4         0      4/8/14        0  ...         16               24   \n",
              "\n",
              "   MntFishProducts  MntSweetProducts  MntGoldProds  NumDealsPurchases  \\\n",
              "0              111               189           218                  1   \n",
              "1                7                 0            37                  1   \n",
              "2               15                 2            30                  1   \n",
              "3                0                 0             0                  1   \n",
              "4               11                 0            34                  2   \n",
              "\n",
              "   NumWebPurchases  NumStorePurchases  NumWebVisitsMonth  Complain  \n",
              "0                4                  6                  1         0  \n",
              "1                7                  7                  5         0  \n",
              "2                3                  5                  2         0  \n",
              "3                1                  2                  7         0  \n",
              "4                3                  2                  7         0  \n",
              "\n",
              "[5 rows x 21 columns]"
            ],
            "text/html": [
              "\n",
              "  <div id=\"df-54869022-89b5-402d-be8f-a566a2f92166\">\n",
              "    <div class=\"colab-df-container\">\n",
              "      <div>\n",
              "<style scoped>\n",
              "    .dataframe tbody tr th:only-of-type {\n",
              "        vertical-align: middle;\n",
              "    }\n",
              "\n",
              "    .dataframe tbody tr th {\n",
              "        vertical-align: top;\n",
              "    }\n",
              "\n",
              "    .dataframe thead th {\n",
              "        text-align: right;\n",
              "    }\n",
              "</style>\n",
              "<table border=\"1\" class=\"dataframe\">\n",
              "  <thead>\n",
              "    <tr style=\"text-align: right;\">\n",
              "      <th></th>\n",
              "      <th>ID</th>\n",
              "      <th>Year_Birth</th>\n",
              "      <th>Country</th>\n",
              "      <th>Education</th>\n",
              "      <th>Marital_Status</th>\n",
              "      <th>Income</th>\n",
              "      <th>Kidhome</th>\n",
              "      <th>Teenhome</th>\n",
              "      <th>Dt_Customer</th>\n",
              "      <th>Recency</th>\n",
              "      <th>...</th>\n",
              "      <th>MntFruits</th>\n",
              "      <th>MntMeatProducts</th>\n",
              "      <th>MntFishProducts</th>\n",
              "      <th>MntSweetProducts</th>\n",
              "      <th>MntGoldProds</th>\n",
              "      <th>NumDealsPurchases</th>\n",
              "      <th>NumWebPurchases</th>\n",
              "      <th>NumStorePurchases</th>\n",
              "      <th>NumWebVisitsMonth</th>\n",
              "      <th>Complain</th>\n",
              "    </tr>\n",
              "  </thead>\n",
              "  <tbody>\n",
              "    <tr>\n",
              "      <th>0</th>\n",
              "      <td>1826</td>\n",
              "      <td>1970</td>\n",
              "      <td>SP</td>\n",
              "      <td>Graduation</td>\n",
              "      <td>Divorced</td>\n",
              "      <td>$84,835.00</td>\n",
              "      <td>0</td>\n",
              "      <td>0</td>\n",
              "      <td>6/16/14</td>\n",
              "      <td>0</td>\n",
              "      <td>...</td>\n",
              "      <td>104</td>\n",
              "      <td>379</td>\n",
              "      <td>111</td>\n",
              "      <td>189</td>\n",
              "      <td>218</td>\n",
              "      <td>1</td>\n",
              "      <td>4</td>\n",
              "      <td>6</td>\n",
              "      <td>1</td>\n",
              "      <td>0</td>\n",
              "    </tr>\n",
              "    <tr>\n",
              "      <th>1</th>\n",
              "      <td>1</td>\n",
              "      <td>1961</td>\n",
              "      <td>CA</td>\n",
              "      <td>Graduation</td>\n",
              "      <td>Single</td>\n",
              "      <td>$57,091.00</td>\n",
              "      <td>0</td>\n",
              "      <td>0</td>\n",
              "      <td>6/15/14</td>\n",
              "      <td>0</td>\n",
              "      <td>...</td>\n",
              "      <td>5</td>\n",
              "      <td>64</td>\n",
              "      <td>7</td>\n",
              "      <td>0</td>\n",
              "      <td>37</td>\n",
              "      <td>1</td>\n",
              "      <td>7</td>\n",
              "      <td>7</td>\n",
              "      <td>5</td>\n",
              "      <td>0</td>\n",
              "    </tr>\n",
              "    <tr>\n",
              "      <th>2</th>\n",
              "      <td>10476</td>\n",
              "      <td>1958</td>\n",
              "      <td>US</td>\n",
              "      <td>Graduation</td>\n",
              "      <td>Married</td>\n",
              "      <td>$67,267.00</td>\n",
              "      <td>0</td>\n",
              "      <td>1</td>\n",
              "      <td>5/13/14</td>\n",
              "      <td>0</td>\n",
              "      <td>...</td>\n",
              "      <td>11</td>\n",
              "      <td>59</td>\n",
              "      <td>15</td>\n",
              "      <td>2</td>\n",
              "      <td>30</td>\n",
              "      <td>1</td>\n",
              "      <td>3</td>\n",
              "      <td>5</td>\n",
              "      <td>2</td>\n",
              "      <td>0</td>\n",
              "    </tr>\n",
              "    <tr>\n",
              "      <th>3</th>\n",
              "      <td>1386</td>\n",
              "      <td>1967</td>\n",
              "      <td>AUS</td>\n",
              "      <td>Graduation</td>\n",
              "      <td>Together</td>\n",
              "      <td>$32,474.00</td>\n",
              "      <td>1</td>\n",
              "      <td>1</td>\n",
              "      <td>5/11/14</td>\n",
              "      <td>0</td>\n",
              "      <td>...</td>\n",
              "      <td>0</td>\n",
              "      <td>1</td>\n",
              "      <td>0</td>\n",
              "      <td>0</td>\n",
              "      <td>0</td>\n",
              "      <td>1</td>\n",
              "      <td>1</td>\n",
              "      <td>2</td>\n",
              "      <td>7</td>\n",
              "      <td>0</td>\n",
              "    </tr>\n",
              "    <tr>\n",
              "      <th>4</th>\n",
              "      <td>5371</td>\n",
              "      <td>1989</td>\n",
              "      <td>SP</td>\n",
              "      <td>Graduation</td>\n",
              "      <td>Single</td>\n",
              "      <td>$21,474.00</td>\n",
              "      <td>1</td>\n",
              "      <td>0</td>\n",
              "      <td>4/8/14</td>\n",
              "      <td>0</td>\n",
              "      <td>...</td>\n",
              "      <td>16</td>\n",
              "      <td>24</td>\n",
              "      <td>11</td>\n",
              "      <td>0</td>\n",
              "      <td>34</td>\n",
              "      <td>2</td>\n",
              "      <td>3</td>\n",
              "      <td>2</td>\n",
              "      <td>7</td>\n",
              "      <td>0</td>\n",
              "    </tr>\n",
              "  </tbody>\n",
              "</table>\n",
              "<p>5 rows × 21 columns</p>\n",
              "</div>\n",
              "      <button class=\"colab-df-convert\" onclick=\"convertToInteractive('df-54869022-89b5-402d-be8f-a566a2f92166')\"\n",
              "              title=\"Convert this dataframe to an interactive table.\"\n",
              "              style=\"display:none;\">\n",
              "        \n",
              "  <svg xmlns=\"http://www.w3.org/2000/svg\" height=\"24px\"viewBox=\"0 0 24 24\"\n",
              "       width=\"24px\">\n",
              "    <path d=\"M0 0h24v24H0V0z\" fill=\"none\"/>\n",
              "    <path d=\"M18.56 5.44l.94 2.06.94-2.06 2.06-.94-2.06-.94-.94-2.06-.94 2.06-2.06.94zm-11 1L8.5 8.5l.94-2.06 2.06-.94-2.06-.94L8.5 2.5l-.94 2.06-2.06.94zm10 10l.94 2.06.94-2.06 2.06-.94-2.06-.94-.94-2.06-.94 2.06-2.06.94z\"/><path d=\"M17.41 7.96l-1.37-1.37c-.4-.4-.92-.59-1.43-.59-.52 0-1.04.2-1.43.59L10.3 9.45l-7.72 7.72c-.78.78-.78 2.05 0 2.83L4 21.41c.39.39.9.59 1.41.59.51 0 1.02-.2 1.41-.59l7.78-7.78 2.81-2.81c.8-.78.8-2.07 0-2.86zM5.41 20L4 18.59l7.72-7.72 1.47 1.35L5.41 20z\"/>\n",
              "  </svg>\n",
              "      </button>\n",
              "      \n",
              "  <style>\n",
              "    .colab-df-container {\n",
              "      display:flex;\n",
              "      flex-wrap:wrap;\n",
              "      gap: 12px;\n",
              "    }\n",
              "\n",
              "    .colab-df-convert {\n",
              "      background-color: #E8F0FE;\n",
              "      border: none;\n",
              "      border-radius: 50%;\n",
              "      cursor: pointer;\n",
              "      display: none;\n",
              "      fill: #1967D2;\n",
              "      height: 32px;\n",
              "      padding: 0 0 0 0;\n",
              "      width: 32px;\n",
              "    }\n",
              "\n",
              "    .colab-df-convert:hover {\n",
              "      background-color: #E2EBFA;\n",
              "      box-shadow: 0px 1px 2px rgba(60, 64, 67, 0.3), 0px 1px 3px 1px rgba(60, 64, 67, 0.15);\n",
              "      fill: #174EA6;\n",
              "    }\n",
              "\n",
              "    [theme=dark] .colab-df-convert {\n",
              "      background-color: #3B4455;\n",
              "      fill: #D2E3FC;\n",
              "    }\n",
              "\n",
              "    [theme=dark] .colab-df-convert:hover {\n",
              "      background-color: #434B5C;\n",
              "      box-shadow: 0px 1px 3px 1px rgba(0, 0, 0, 0.15);\n",
              "      filter: drop-shadow(0px 1px 2px rgba(0, 0, 0, 0.3));\n",
              "      fill: #FFFFFF;\n",
              "    }\n",
              "  </style>\n",
              "\n",
              "      <script>\n",
              "        const buttonEl =\n",
              "          document.querySelector('#df-54869022-89b5-402d-be8f-a566a2f92166 button.colab-df-convert');\n",
              "        buttonEl.style.display =\n",
              "          google.colab.kernel.accessAllowed ? 'block' : 'none';\n",
              "\n",
              "        async function convertToInteractive(key) {\n",
              "          const element = document.querySelector('#df-54869022-89b5-402d-be8f-a566a2f92166');\n",
              "          const dataTable =\n",
              "            await google.colab.kernel.invokeFunction('convertToInteractive',\n",
              "                                                     [key], {});\n",
              "          if (!dataTable) return;\n",
              "\n",
              "          const docLinkHtml = 'Like what you see? Visit the ' +\n",
              "            '<a target=\"_blank\" href=https://colab.research.google.com/notebooks/data_table.ipynb>data table notebook</a>'\n",
              "            + ' to learn more about interactive tables.';\n",
              "          element.innerHTML = '';\n",
              "          dataTable['output_type'] = 'display_data';\n",
              "          await google.colab.output.renderOutput(dataTable, element);\n",
              "          const docLink = document.createElement('div');\n",
              "          docLink.innerHTML = docLinkHtml;\n",
              "          element.appendChild(docLink);\n",
              "        }\n",
              "      </script>\n",
              "    </div>\n",
              "  </div>\n",
              "  "
            ]
          },
          "metadata": {},
          "execution_count": 8
        }
      ]
    },
    {
      "cell_type": "code",
      "source": [
        "# Income 컬럼 이름 앞 뒤에 띄어쓰기 포함되어 있음을 확인\n",
        "data.columns"
      ],
      "metadata": {
        "id": "6QTQW8hvwAT-",
        "colab": {
          "base_uri": "https://localhost:8080/"
        },
        "outputId": "7507fbef-b10d-482e-a73e-910b17e93982"
      },
      "execution_count": null,
      "outputs": [
        {
          "output_type": "execute_result",
          "data": {
            "text/plain": [
              "Index(['ID', 'Year_Birth', 'Country', 'Education', 'Marital_Status',\n",
              "       ' Income ', 'Kidhome', 'Teenhome', 'Dt_Customer', 'Recency', 'MntWines',\n",
              "       'MntFruits', 'MntMeatProducts', 'MntFishProducts', 'MntSweetProducts',\n",
              "       'MntGoldProds', 'NumDealsPurchases', 'NumWebPurchases',\n",
              "       'NumStorePurchases', 'NumWebVisitsMonth', 'Complain'],\n",
              "      dtype='object')"
            ]
          },
          "metadata": {},
          "execution_count": 9
        }
      ]
    },
    {
      "cell_type": "code",
      "source": [
        "# Income 이름 타 column과 형식 동일화\n",
        "data.rename(columns={' Income ': 'Income'}, inplace=True)\n",
        "data.info()"
      ],
      "metadata": {
        "id": "_31UKhDhCfGr",
        "colab": {
          "base_uri": "https://localhost:8080/"
        },
        "outputId": "85316784-e20f-46df-aafc-6fc962c2a6f1"
      },
      "execution_count": null,
      "outputs": [
        {
          "output_type": "stream",
          "name": "stdout",
          "text": [
            "<class 'pandas.core.frame.DataFrame'>\n",
            "RangeIndex: 2188 entries, 0 to 2187\n",
            "Data columns (total 21 columns):\n",
            " #   Column             Non-Null Count  Dtype \n",
            "---  ------             --------------  ----- \n",
            " 0   ID                 2188 non-null   int64 \n",
            " 1   Year_Birth         2188 non-null   int64 \n",
            " 2   Country            2188 non-null   object\n",
            " 3   Education          2188 non-null   object\n",
            " 4   Marital_Status     2188 non-null   object\n",
            " 5   Income             2165 non-null   object\n",
            " 6   Kidhome            2188 non-null   int64 \n",
            " 7   Teenhome           2188 non-null   int64 \n",
            " 8   Dt_Customer        2188 non-null   object\n",
            " 9   Recency            2188 non-null   int64 \n",
            " 10  MntWines           2188 non-null   int64 \n",
            " 11  MntFruits          2188 non-null   int64 \n",
            " 12  MntMeatProducts    2188 non-null   int64 \n",
            " 13  MntFishProducts    2188 non-null   int64 \n",
            " 14  MntSweetProducts   2188 non-null   int64 \n",
            " 15  MntGoldProds       2188 non-null   int64 \n",
            " 16  NumDealsPurchases  2188 non-null   int64 \n",
            " 17  NumWebPurchases    2188 non-null   int64 \n",
            " 18  NumStorePurchases  2188 non-null   int64 \n",
            " 19  NumWebVisitsMonth  2188 non-null   int64 \n",
            " 20  Complain           2188 non-null   int64 \n",
            "dtypes: int64(16), object(5)\n",
            "memory usage: 359.1+ KB\n"
          ]
        }
      ]
    },
    {
      "cell_type": "code",
      "source": [
        "# 결측치 확인\n",
        "data.isnull().sum()"
      ],
      "metadata": {
        "id": "QtQebDaPZq12",
        "colab": {
          "base_uri": "https://localhost:8080/"
        },
        "outputId": "cd171d4f-1c24-42e3-a6cd-9caf35bf2d94"
      },
      "execution_count": null,
      "outputs": [
        {
          "output_type": "execute_result",
          "data": {
            "text/plain": [
              "ID                    0\n",
              "Year_Birth            0\n",
              "Country               0\n",
              "Education             0\n",
              "Marital_Status        0\n",
              "Income               23\n",
              "Kidhome               0\n",
              "Teenhome              0\n",
              "Dt_Customer           0\n",
              "Recency               0\n",
              "MntWines              0\n",
              "MntFruits             0\n",
              "MntMeatProducts       0\n",
              "MntFishProducts       0\n",
              "MntSweetProducts      0\n",
              "MntGoldProds          0\n",
              "NumDealsPurchases     0\n",
              "NumWebPurchases       0\n",
              "NumStorePurchases     0\n",
              "NumWebVisitsMonth     0\n",
              "Complain              0\n",
              "dtype: int64"
            ]
          },
          "metadata": {},
          "execution_count": 11
        }
      ]
    },
    {
      "cell_type": "code",
      "source": [
        "# 결측치 제거 및 인덱스 재정렬\n",
        "data = data.dropna().reset_index(drop=True)\n",
        "\n",
        "# 결측치 제거 후 확인\n",
        "data.isnull().sum()"
      ],
      "metadata": {
        "id": "1qTE8nRnZ52a",
        "colab": {
          "base_uri": "https://localhost:8080/"
        },
        "outputId": "7a7b8f48-3085-448f-edc2-47d6217064d1"
      },
      "execution_count": null,
      "outputs": [
        {
          "output_type": "execute_result",
          "data": {
            "text/plain": [
              "ID                   0\n",
              "Year_Birth           0\n",
              "Country              0\n",
              "Education            0\n",
              "Marital_Status       0\n",
              "Income               0\n",
              "Kidhome              0\n",
              "Teenhome             0\n",
              "Dt_Customer          0\n",
              "Recency              0\n",
              "MntWines             0\n",
              "MntFruits            0\n",
              "MntMeatProducts      0\n",
              "MntFishProducts      0\n",
              "MntSweetProducts     0\n",
              "MntGoldProds         0\n",
              "NumDealsPurchases    0\n",
              "NumWebPurchases      0\n",
              "NumStorePurchases    0\n",
              "NumWebVisitsMonth    0\n",
              "Complain             0\n",
              "dtype: int64"
            ]
          },
          "metadata": {},
          "execution_count": 12
        }
      ]
    },
    {
      "cell_type": "code",
      "source": [
        "# Income - int 형태로 변경\n",
        "import re\n",
        "\n",
        "def cleaning(df):\n",
        "  li = []\n",
        "  for row in df['Income']:\n",
        "    splited = row.split('.')\n",
        "    result = re.sub('[^0-9]','', splited[0])\n",
        "    li.append(int(result))\n",
        "  \n",
        "  df['Income'] = li"
      ],
      "metadata": {
        "id": "sHwyqqXDDX4_"
      },
      "execution_count": null,
      "outputs": []
    },
    {
      "cell_type": "code",
      "source": [
        "cleaned_data = data.copy()\n",
        "\n",
        "cleaning(cleaned_data)"
      ],
      "metadata": {
        "id": "ksyjL02_fc-5"
      },
      "execution_count": null,
      "outputs": []
    },
    {
      "cell_type": "code",
      "source": [
        "cleaned_data.info()"
      ],
      "metadata": {
        "id": "NIpYLQWqGTbO",
        "colab": {
          "base_uri": "https://localhost:8080/"
        },
        "outputId": "aad05195-0fe2-4577-cf42-da6746a12b3d"
      },
      "execution_count": null,
      "outputs": [
        {
          "output_type": "stream",
          "name": "stdout",
          "text": [
            "<class 'pandas.core.frame.DataFrame'>\n",
            "RangeIndex: 2165 entries, 0 to 2164\n",
            "Data columns (total 21 columns):\n",
            " #   Column             Non-Null Count  Dtype \n",
            "---  ------             --------------  ----- \n",
            " 0   ID                 2165 non-null   int64 \n",
            " 1   Year_Birth         2165 non-null   int64 \n",
            " 2   Country            2165 non-null   object\n",
            " 3   Education          2165 non-null   object\n",
            " 4   Marital_Status     2165 non-null   object\n",
            " 5   Income             2165 non-null   int64 \n",
            " 6   Kidhome            2165 non-null   int64 \n",
            " 7   Teenhome           2165 non-null   int64 \n",
            " 8   Dt_Customer        2165 non-null   object\n",
            " 9   Recency            2165 non-null   int64 \n",
            " 10  MntWines           2165 non-null   int64 \n",
            " 11  MntFruits          2165 non-null   int64 \n",
            " 12  MntMeatProducts    2165 non-null   int64 \n",
            " 13  MntFishProducts    2165 non-null   int64 \n",
            " 14  MntSweetProducts   2165 non-null   int64 \n",
            " 15  MntGoldProds       2165 non-null   int64 \n",
            " 16  NumDealsPurchases  2165 non-null   int64 \n",
            " 17  NumWebPurchases    2165 non-null   int64 \n",
            " 18  NumStorePurchases  2165 non-null   int64 \n",
            " 19  NumWebVisitsMonth  2165 non-null   int64 \n",
            " 20  Complain           2165 non-null   int64 \n",
            "dtypes: int64(17), object(4)\n",
            "memory usage: 355.3+ KB\n"
          ]
        }
      ]
    },
    {
      "cell_type": "code",
      "source": [
        "cleaned_data.head()"
      ],
      "metadata": {
        "id": "3s7o9GFWGWH5",
        "colab": {
          "base_uri": "https://localhost:8080/",
          "height": 299
        },
        "outputId": "ef5d0b32-ab69-481a-dbb4-7153759a6961"
      },
      "execution_count": null,
      "outputs": [
        {
          "output_type": "execute_result",
          "data": {
            "text/plain": [
              "      ID  Year_Birth Country   Education Marital_Status  Income  Kidhome  \\\n",
              "0   1826        1970      SP  Graduation       Divorced   84835        0   \n",
              "1      1        1961      CA  Graduation         Single   57091        0   \n",
              "2  10476        1958      US  Graduation        Married   67267        0   \n",
              "3   1386        1967     AUS  Graduation       Together   32474        1   \n",
              "4   5371        1989      SP  Graduation         Single   21474        1   \n",
              "\n",
              "   Teenhome Dt_Customer  Recency  ...  MntFruits  MntMeatProducts  \\\n",
              "0         0     6/16/14        0  ...        104              379   \n",
              "1         0     6/15/14        0  ...          5               64   \n",
              "2         1     5/13/14        0  ...         11               59   \n",
              "3         1     5/11/14        0  ...          0                1   \n",
              "4         0      4/8/14        0  ...         16               24   \n",
              "\n",
              "   MntFishProducts  MntSweetProducts  MntGoldProds  NumDealsPurchases  \\\n",
              "0              111               189           218                  1   \n",
              "1                7                 0            37                  1   \n",
              "2               15                 2            30                  1   \n",
              "3                0                 0             0                  1   \n",
              "4               11                 0            34                  2   \n",
              "\n",
              "   NumWebPurchases  NumStorePurchases  NumWebVisitsMonth  Complain  \n",
              "0                4                  6                  1         0  \n",
              "1                7                  7                  5         0  \n",
              "2                3                  5                  2         0  \n",
              "3                1                  2                  7         0  \n",
              "4                3                  2                  7         0  \n",
              "\n",
              "[5 rows x 21 columns]"
            ],
            "text/html": [
              "\n",
              "  <div id=\"df-da9bf591-18d9-4ea7-b64c-70a0a74d2452\">\n",
              "    <div class=\"colab-df-container\">\n",
              "      <div>\n",
              "<style scoped>\n",
              "    .dataframe tbody tr th:only-of-type {\n",
              "        vertical-align: middle;\n",
              "    }\n",
              "\n",
              "    .dataframe tbody tr th {\n",
              "        vertical-align: top;\n",
              "    }\n",
              "\n",
              "    .dataframe thead th {\n",
              "        text-align: right;\n",
              "    }\n",
              "</style>\n",
              "<table border=\"1\" class=\"dataframe\">\n",
              "  <thead>\n",
              "    <tr style=\"text-align: right;\">\n",
              "      <th></th>\n",
              "      <th>ID</th>\n",
              "      <th>Year_Birth</th>\n",
              "      <th>Country</th>\n",
              "      <th>Education</th>\n",
              "      <th>Marital_Status</th>\n",
              "      <th>Income</th>\n",
              "      <th>Kidhome</th>\n",
              "      <th>Teenhome</th>\n",
              "      <th>Dt_Customer</th>\n",
              "      <th>Recency</th>\n",
              "      <th>...</th>\n",
              "      <th>MntFruits</th>\n",
              "      <th>MntMeatProducts</th>\n",
              "      <th>MntFishProducts</th>\n",
              "      <th>MntSweetProducts</th>\n",
              "      <th>MntGoldProds</th>\n",
              "      <th>NumDealsPurchases</th>\n",
              "      <th>NumWebPurchases</th>\n",
              "      <th>NumStorePurchases</th>\n",
              "      <th>NumWebVisitsMonth</th>\n",
              "      <th>Complain</th>\n",
              "    </tr>\n",
              "  </thead>\n",
              "  <tbody>\n",
              "    <tr>\n",
              "      <th>0</th>\n",
              "      <td>1826</td>\n",
              "      <td>1970</td>\n",
              "      <td>SP</td>\n",
              "      <td>Graduation</td>\n",
              "      <td>Divorced</td>\n",
              "      <td>84835</td>\n",
              "      <td>0</td>\n",
              "      <td>0</td>\n",
              "      <td>6/16/14</td>\n",
              "      <td>0</td>\n",
              "      <td>...</td>\n",
              "      <td>104</td>\n",
              "      <td>379</td>\n",
              "      <td>111</td>\n",
              "      <td>189</td>\n",
              "      <td>218</td>\n",
              "      <td>1</td>\n",
              "      <td>4</td>\n",
              "      <td>6</td>\n",
              "      <td>1</td>\n",
              "      <td>0</td>\n",
              "    </tr>\n",
              "    <tr>\n",
              "      <th>1</th>\n",
              "      <td>1</td>\n",
              "      <td>1961</td>\n",
              "      <td>CA</td>\n",
              "      <td>Graduation</td>\n",
              "      <td>Single</td>\n",
              "      <td>57091</td>\n",
              "      <td>0</td>\n",
              "      <td>0</td>\n",
              "      <td>6/15/14</td>\n",
              "      <td>0</td>\n",
              "      <td>...</td>\n",
              "      <td>5</td>\n",
              "      <td>64</td>\n",
              "      <td>7</td>\n",
              "      <td>0</td>\n",
              "      <td>37</td>\n",
              "      <td>1</td>\n",
              "      <td>7</td>\n",
              "      <td>7</td>\n",
              "      <td>5</td>\n",
              "      <td>0</td>\n",
              "    </tr>\n",
              "    <tr>\n",
              "      <th>2</th>\n",
              "      <td>10476</td>\n",
              "      <td>1958</td>\n",
              "      <td>US</td>\n",
              "      <td>Graduation</td>\n",
              "      <td>Married</td>\n",
              "      <td>67267</td>\n",
              "      <td>0</td>\n",
              "      <td>1</td>\n",
              "      <td>5/13/14</td>\n",
              "      <td>0</td>\n",
              "      <td>...</td>\n",
              "      <td>11</td>\n",
              "      <td>59</td>\n",
              "      <td>15</td>\n",
              "      <td>2</td>\n",
              "      <td>30</td>\n",
              "      <td>1</td>\n",
              "      <td>3</td>\n",
              "      <td>5</td>\n",
              "      <td>2</td>\n",
              "      <td>0</td>\n",
              "    </tr>\n",
              "    <tr>\n",
              "      <th>3</th>\n",
              "      <td>1386</td>\n",
              "      <td>1967</td>\n",
              "      <td>AUS</td>\n",
              "      <td>Graduation</td>\n",
              "      <td>Together</td>\n",
              "      <td>32474</td>\n",
              "      <td>1</td>\n",
              "      <td>1</td>\n",
              "      <td>5/11/14</td>\n",
              "      <td>0</td>\n",
              "      <td>...</td>\n",
              "      <td>0</td>\n",
              "      <td>1</td>\n",
              "      <td>0</td>\n",
              "      <td>0</td>\n",
              "      <td>0</td>\n",
              "      <td>1</td>\n",
              "      <td>1</td>\n",
              "      <td>2</td>\n",
              "      <td>7</td>\n",
              "      <td>0</td>\n",
              "    </tr>\n",
              "    <tr>\n",
              "      <th>4</th>\n",
              "      <td>5371</td>\n",
              "      <td>1989</td>\n",
              "      <td>SP</td>\n",
              "      <td>Graduation</td>\n",
              "      <td>Single</td>\n",
              "      <td>21474</td>\n",
              "      <td>1</td>\n",
              "      <td>0</td>\n",
              "      <td>4/8/14</td>\n",
              "      <td>0</td>\n",
              "      <td>...</td>\n",
              "      <td>16</td>\n",
              "      <td>24</td>\n",
              "      <td>11</td>\n",
              "      <td>0</td>\n",
              "      <td>34</td>\n",
              "      <td>2</td>\n",
              "      <td>3</td>\n",
              "      <td>2</td>\n",
              "      <td>7</td>\n",
              "      <td>0</td>\n",
              "    </tr>\n",
              "  </tbody>\n",
              "</table>\n",
              "<p>5 rows × 21 columns</p>\n",
              "</div>\n",
              "      <button class=\"colab-df-convert\" onclick=\"convertToInteractive('df-da9bf591-18d9-4ea7-b64c-70a0a74d2452')\"\n",
              "              title=\"Convert this dataframe to an interactive table.\"\n",
              "              style=\"display:none;\">\n",
              "        \n",
              "  <svg xmlns=\"http://www.w3.org/2000/svg\" height=\"24px\"viewBox=\"0 0 24 24\"\n",
              "       width=\"24px\">\n",
              "    <path d=\"M0 0h24v24H0V0z\" fill=\"none\"/>\n",
              "    <path d=\"M18.56 5.44l.94 2.06.94-2.06 2.06-.94-2.06-.94-.94-2.06-.94 2.06-2.06.94zm-11 1L8.5 8.5l.94-2.06 2.06-.94-2.06-.94L8.5 2.5l-.94 2.06-2.06.94zm10 10l.94 2.06.94-2.06 2.06-.94-2.06-.94-.94-2.06-.94 2.06-2.06.94z\"/><path d=\"M17.41 7.96l-1.37-1.37c-.4-.4-.92-.59-1.43-.59-.52 0-1.04.2-1.43.59L10.3 9.45l-7.72 7.72c-.78.78-.78 2.05 0 2.83L4 21.41c.39.39.9.59 1.41.59.51 0 1.02-.2 1.41-.59l7.78-7.78 2.81-2.81c.8-.78.8-2.07 0-2.86zM5.41 20L4 18.59l7.72-7.72 1.47 1.35L5.41 20z\"/>\n",
              "  </svg>\n",
              "      </button>\n",
              "      \n",
              "  <style>\n",
              "    .colab-df-container {\n",
              "      display:flex;\n",
              "      flex-wrap:wrap;\n",
              "      gap: 12px;\n",
              "    }\n",
              "\n",
              "    .colab-df-convert {\n",
              "      background-color: #E8F0FE;\n",
              "      border: none;\n",
              "      border-radius: 50%;\n",
              "      cursor: pointer;\n",
              "      display: none;\n",
              "      fill: #1967D2;\n",
              "      height: 32px;\n",
              "      padding: 0 0 0 0;\n",
              "      width: 32px;\n",
              "    }\n",
              "\n",
              "    .colab-df-convert:hover {\n",
              "      background-color: #E2EBFA;\n",
              "      box-shadow: 0px 1px 2px rgba(60, 64, 67, 0.3), 0px 1px 3px 1px rgba(60, 64, 67, 0.15);\n",
              "      fill: #174EA6;\n",
              "    }\n",
              "\n",
              "    [theme=dark] .colab-df-convert {\n",
              "      background-color: #3B4455;\n",
              "      fill: #D2E3FC;\n",
              "    }\n",
              "\n",
              "    [theme=dark] .colab-df-convert:hover {\n",
              "      background-color: #434B5C;\n",
              "      box-shadow: 0px 1px 3px 1px rgba(0, 0, 0, 0.15);\n",
              "      filter: drop-shadow(0px 1px 2px rgba(0, 0, 0, 0.3));\n",
              "      fill: #FFFFFF;\n",
              "    }\n",
              "  </style>\n",
              "\n",
              "      <script>\n",
              "        const buttonEl =\n",
              "          document.querySelector('#df-da9bf591-18d9-4ea7-b64c-70a0a74d2452 button.colab-df-convert');\n",
              "        buttonEl.style.display =\n",
              "          google.colab.kernel.accessAllowed ? 'block' : 'none';\n",
              "\n",
              "        async function convertToInteractive(key) {\n",
              "          const element = document.querySelector('#df-da9bf591-18d9-4ea7-b64c-70a0a74d2452');\n",
              "          const dataTable =\n",
              "            await google.colab.kernel.invokeFunction('convertToInteractive',\n",
              "                                                     [key], {});\n",
              "          if (!dataTable) return;\n",
              "\n",
              "          const docLinkHtml = 'Like what you see? Visit the ' +\n",
              "            '<a target=\"_blank\" href=https://colab.research.google.com/notebooks/data_table.ipynb>data table notebook</a>'\n",
              "            + ' to learn more about interactive tables.';\n",
              "          element.innerHTML = '';\n",
              "          dataTable['output_type'] = 'display_data';\n",
              "          await google.colab.output.renderOutput(dataTable, element);\n",
              "          const docLink = document.createElement('div');\n",
              "          docLink.innerHTML = docLinkHtml;\n",
              "          element.appendChild(docLink);\n",
              "        }\n",
              "      </script>\n",
              "    </div>\n",
              "  </div>\n",
              "  "
            ]
          },
          "metadata": {},
          "execution_count": 16
        }
      ]
    },
    {
      "cell_type": "code",
      "source": [
        "data.head()"
      ],
      "metadata": {
        "id": "utmn0P4PGaXi",
        "colab": {
          "base_uri": "https://localhost:8080/",
          "height": 299
        },
        "outputId": "cfd4057d-4318-4cbf-a863-8ba60067c122"
      },
      "execution_count": null,
      "outputs": [
        {
          "output_type": "execute_result",
          "data": {
            "text/plain": [
              "      ID  Year_Birth Country   Education Marital_Status       Income  Kidhome  \\\n",
              "0   1826        1970      SP  Graduation       Divorced  $84,835.00         0   \n",
              "1      1        1961      CA  Graduation         Single  $57,091.00         0   \n",
              "2  10476        1958      US  Graduation        Married  $67,267.00         0   \n",
              "3   1386        1967     AUS  Graduation       Together  $32,474.00         1   \n",
              "4   5371        1989      SP  Graduation         Single  $21,474.00         1   \n",
              "\n",
              "   Teenhome Dt_Customer  Recency  ...  MntFruits  MntMeatProducts  \\\n",
              "0         0     6/16/14        0  ...        104              379   \n",
              "1         0     6/15/14        0  ...          5               64   \n",
              "2         1     5/13/14        0  ...         11               59   \n",
              "3         1     5/11/14        0  ...          0                1   \n",
              "4         0      4/8/14        0  ...         16               24   \n",
              "\n",
              "   MntFishProducts  MntSweetProducts  MntGoldProds  NumDealsPurchases  \\\n",
              "0              111               189           218                  1   \n",
              "1                7                 0            37                  1   \n",
              "2               15                 2            30                  1   \n",
              "3                0                 0             0                  1   \n",
              "4               11                 0            34                  2   \n",
              "\n",
              "   NumWebPurchases  NumStorePurchases  NumWebVisitsMonth  Complain  \n",
              "0                4                  6                  1         0  \n",
              "1                7                  7                  5         0  \n",
              "2                3                  5                  2         0  \n",
              "3                1                  2                  7         0  \n",
              "4                3                  2                  7         0  \n",
              "\n",
              "[5 rows x 21 columns]"
            ],
            "text/html": [
              "\n",
              "  <div id=\"df-bc041f20-d6a1-43f1-b7be-846140268af0\">\n",
              "    <div class=\"colab-df-container\">\n",
              "      <div>\n",
              "<style scoped>\n",
              "    .dataframe tbody tr th:only-of-type {\n",
              "        vertical-align: middle;\n",
              "    }\n",
              "\n",
              "    .dataframe tbody tr th {\n",
              "        vertical-align: top;\n",
              "    }\n",
              "\n",
              "    .dataframe thead th {\n",
              "        text-align: right;\n",
              "    }\n",
              "</style>\n",
              "<table border=\"1\" class=\"dataframe\">\n",
              "  <thead>\n",
              "    <tr style=\"text-align: right;\">\n",
              "      <th></th>\n",
              "      <th>ID</th>\n",
              "      <th>Year_Birth</th>\n",
              "      <th>Country</th>\n",
              "      <th>Education</th>\n",
              "      <th>Marital_Status</th>\n",
              "      <th>Income</th>\n",
              "      <th>Kidhome</th>\n",
              "      <th>Teenhome</th>\n",
              "      <th>Dt_Customer</th>\n",
              "      <th>Recency</th>\n",
              "      <th>...</th>\n",
              "      <th>MntFruits</th>\n",
              "      <th>MntMeatProducts</th>\n",
              "      <th>MntFishProducts</th>\n",
              "      <th>MntSweetProducts</th>\n",
              "      <th>MntGoldProds</th>\n",
              "      <th>NumDealsPurchases</th>\n",
              "      <th>NumWebPurchases</th>\n",
              "      <th>NumStorePurchases</th>\n",
              "      <th>NumWebVisitsMonth</th>\n",
              "      <th>Complain</th>\n",
              "    </tr>\n",
              "  </thead>\n",
              "  <tbody>\n",
              "    <tr>\n",
              "      <th>0</th>\n",
              "      <td>1826</td>\n",
              "      <td>1970</td>\n",
              "      <td>SP</td>\n",
              "      <td>Graduation</td>\n",
              "      <td>Divorced</td>\n",
              "      <td>$84,835.00</td>\n",
              "      <td>0</td>\n",
              "      <td>0</td>\n",
              "      <td>6/16/14</td>\n",
              "      <td>0</td>\n",
              "      <td>...</td>\n",
              "      <td>104</td>\n",
              "      <td>379</td>\n",
              "      <td>111</td>\n",
              "      <td>189</td>\n",
              "      <td>218</td>\n",
              "      <td>1</td>\n",
              "      <td>4</td>\n",
              "      <td>6</td>\n",
              "      <td>1</td>\n",
              "      <td>0</td>\n",
              "    </tr>\n",
              "    <tr>\n",
              "      <th>1</th>\n",
              "      <td>1</td>\n",
              "      <td>1961</td>\n",
              "      <td>CA</td>\n",
              "      <td>Graduation</td>\n",
              "      <td>Single</td>\n",
              "      <td>$57,091.00</td>\n",
              "      <td>0</td>\n",
              "      <td>0</td>\n",
              "      <td>6/15/14</td>\n",
              "      <td>0</td>\n",
              "      <td>...</td>\n",
              "      <td>5</td>\n",
              "      <td>64</td>\n",
              "      <td>7</td>\n",
              "      <td>0</td>\n",
              "      <td>37</td>\n",
              "      <td>1</td>\n",
              "      <td>7</td>\n",
              "      <td>7</td>\n",
              "      <td>5</td>\n",
              "      <td>0</td>\n",
              "    </tr>\n",
              "    <tr>\n",
              "      <th>2</th>\n",
              "      <td>10476</td>\n",
              "      <td>1958</td>\n",
              "      <td>US</td>\n",
              "      <td>Graduation</td>\n",
              "      <td>Married</td>\n",
              "      <td>$67,267.00</td>\n",
              "      <td>0</td>\n",
              "      <td>1</td>\n",
              "      <td>5/13/14</td>\n",
              "      <td>0</td>\n",
              "      <td>...</td>\n",
              "      <td>11</td>\n",
              "      <td>59</td>\n",
              "      <td>15</td>\n",
              "      <td>2</td>\n",
              "      <td>30</td>\n",
              "      <td>1</td>\n",
              "      <td>3</td>\n",
              "      <td>5</td>\n",
              "      <td>2</td>\n",
              "      <td>0</td>\n",
              "    </tr>\n",
              "    <tr>\n",
              "      <th>3</th>\n",
              "      <td>1386</td>\n",
              "      <td>1967</td>\n",
              "      <td>AUS</td>\n",
              "      <td>Graduation</td>\n",
              "      <td>Together</td>\n",
              "      <td>$32,474.00</td>\n",
              "      <td>1</td>\n",
              "      <td>1</td>\n",
              "      <td>5/11/14</td>\n",
              "      <td>0</td>\n",
              "      <td>...</td>\n",
              "      <td>0</td>\n",
              "      <td>1</td>\n",
              "      <td>0</td>\n",
              "      <td>0</td>\n",
              "      <td>0</td>\n",
              "      <td>1</td>\n",
              "      <td>1</td>\n",
              "      <td>2</td>\n",
              "      <td>7</td>\n",
              "      <td>0</td>\n",
              "    </tr>\n",
              "    <tr>\n",
              "      <th>4</th>\n",
              "      <td>5371</td>\n",
              "      <td>1989</td>\n",
              "      <td>SP</td>\n",
              "      <td>Graduation</td>\n",
              "      <td>Single</td>\n",
              "      <td>$21,474.00</td>\n",
              "      <td>1</td>\n",
              "      <td>0</td>\n",
              "      <td>4/8/14</td>\n",
              "      <td>0</td>\n",
              "      <td>...</td>\n",
              "      <td>16</td>\n",
              "      <td>24</td>\n",
              "      <td>11</td>\n",
              "      <td>0</td>\n",
              "      <td>34</td>\n",
              "      <td>2</td>\n",
              "      <td>3</td>\n",
              "      <td>2</td>\n",
              "      <td>7</td>\n",
              "      <td>0</td>\n",
              "    </tr>\n",
              "  </tbody>\n",
              "</table>\n",
              "<p>5 rows × 21 columns</p>\n",
              "</div>\n",
              "      <button class=\"colab-df-convert\" onclick=\"convertToInteractive('df-bc041f20-d6a1-43f1-b7be-846140268af0')\"\n",
              "              title=\"Convert this dataframe to an interactive table.\"\n",
              "              style=\"display:none;\">\n",
              "        \n",
              "  <svg xmlns=\"http://www.w3.org/2000/svg\" height=\"24px\"viewBox=\"0 0 24 24\"\n",
              "       width=\"24px\">\n",
              "    <path d=\"M0 0h24v24H0V0z\" fill=\"none\"/>\n",
              "    <path d=\"M18.56 5.44l.94 2.06.94-2.06 2.06-.94-2.06-.94-.94-2.06-.94 2.06-2.06.94zm-11 1L8.5 8.5l.94-2.06 2.06-.94-2.06-.94L8.5 2.5l-.94 2.06-2.06.94zm10 10l.94 2.06.94-2.06 2.06-.94-2.06-.94-.94-2.06-.94 2.06-2.06.94z\"/><path d=\"M17.41 7.96l-1.37-1.37c-.4-.4-.92-.59-1.43-.59-.52 0-1.04.2-1.43.59L10.3 9.45l-7.72 7.72c-.78.78-.78 2.05 0 2.83L4 21.41c.39.39.9.59 1.41.59.51 0 1.02-.2 1.41-.59l7.78-7.78 2.81-2.81c.8-.78.8-2.07 0-2.86zM5.41 20L4 18.59l7.72-7.72 1.47 1.35L5.41 20z\"/>\n",
              "  </svg>\n",
              "      </button>\n",
              "      \n",
              "  <style>\n",
              "    .colab-df-container {\n",
              "      display:flex;\n",
              "      flex-wrap:wrap;\n",
              "      gap: 12px;\n",
              "    }\n",
              "\n",
              "    .colab-df-convert {\n",
              "      background-color: #E8F0FE;\n",
              "      border: none;\n",
              "      border-radius: 50%;\n",
              "      cursor: pointer;\n",
              "      display: none;\n",
              "      fill: #1967D2;\n",
              "      height: 32px;\n",
              "      padding: 0 0 0 0;\n",
              "      width: 32px;\n",
              "    }\n",
              "\n",
              "    .colab-df-convert:hover {\n",
              "      background-color: #E2EBFA;\n",
              "      box-shadow: 0px 1px 2px rgba(60, 64, 67, 0.3), 0px 1px 3px 1px rgba(60, 64, 67, 0.15);\n",
              "      fill: #174EA6;\n",
              "    }\n",
              "\n",
              "    [theme=dark] .colab-df-convert {\n",
              "      background-color: #3B4455;\n",
              "      fill: #D2E3FC;\n",
              "    }\n",
              "\n",
              "    [theme=dark] .colab-df-convert:hover {\n",
              "      background-color: #434B5C;\n",
              "      box-shadow: 0px 1px 3px 1px rgba(0, 0, 0, 0.15);\n",
              "      filter: drop-shadow(0px 1px 2px rgba(0, 0, 0, 0.3));\n",
              "      fill: #FFFFFF;\n",
              "    }\n",
              "  </style>\n",
              "\n",
              "      <script>\n",
              "        const buttonEl =\n",
              "          document.querySelector('#df-bc041f20-d6a1-43f1-b7be-846140268af0 button.colab-df-convert');\n",
              "        buttonEl.style.display =\n",
              "          google.colab.kernel.accessAllowed ? 'block' : 'none';\n",
              "\n",
              "        async function convertToInteractive(key) {\n",
              "          const element = document.querySelector('#df-bc041f20-d6a1-43f1-b7be-846140268af0');\n",
              "          const dataTable =\n",
              "            await google.colab.kernel.invokeFunction('convertToInteractive',\n",
              "                                                     [key], {});\n",
              "          if (!dataTable) return;\n",
              "\n",
              "          const docLinkHtml = 'Like what you see? Visit the ' +\n",
              "            '<a target=\"_blank\" href=https://colab.research.google.com/notebooks/data_table.ipynb>data table notebook</a>'\n",
              "            + ' to learn more about interactive tables.';\n",
              "          element.innerHTML = '';\n",
              "          dataTable['output_type'] = 'display_data';\n",
              "          await google.colab.output.renderOutput(dataTable, element);\n",
              "          const docLink = document.createElement('div');\n",
              "          docLink.innerHTML = docLinkHtml;\n",
              "          element.appendChild(docLink);\n",
              "        }\n",
              "      </script>\n",
              "    </div>\n",
              "  </div>\n",
              "  "
            ]
          },
          "metadata": {},
          "execution_count": 17
        }
      ]
    },
    {
      "cell_type": "code",
      "source": [
        "# Income 통계치 확인\n",
        "cleaned_data.describe()"
      ],
      "metadata": {
        "id": "DSxa_KbeKTMq",
        "colab": {
          "base_uri": "https://localhost:8080/",
          "height": 364
        },
        "outputId": "f1abb7b0-1291-4d64-a563-920d5065635d"
      },
      "execution_count": null,
      "outputs": [
        {
          "output_type": "execute_result",
          "data": {
            "text/plain": [
              "                 ID   Year_Birth         Income      Kidhome     Teenhome  \\\n",
              "count   2165.000000  2165.000000    2165.000000  2165.000000  2165.000000   \n",
              "mean    5589.044804  1968.982910   52169.246651     0.442494     0.470208   \n",
              "std     3251.385114    12.005205   25351.619382     0.537886     0.499227   \n",
              "min        0.000000  1893.000000    1730.000000     0.000000     0.000000   \n",
              "25%     2815.000000  1959.000000   34935.000000     0.000000     0.000000   \n",
              "50%     5474.000000  1970.000000   51315.000000     0.000000     0.000000   \n",
              "75%     8418.000000  1978.000000   68682.000000     1.000000     1.000000   \n",
              "max    11191.000000  1996.000000  666666.000000     2.000000     1.000000   \n",
              "\n",
              "           Recency     MntWines    MntFruits  MntMeatProducts  \\\n",
              "count  2165.000000  2165.000000  2165.000000      2165.000000   \n",
              "mean     48.797229   303.926097    26.565358       168.012471   \n",
              "std      28.904809   337.527790    40.070006       225.702287   \n",
              "min       0.000000     0.000000     0.000000         0.000000   \n",
              "25%      24.000000    23.000000     2.000000        16.000000   \n",
              "50%      49.000000   173.000000     8.000000        67.000000   \n",
              "75%      74.000000   505.000000    33.000000       237.000000   \n",
              "max      99.000000  1493.000000   199.000000      1725.000000   \n",
              "\n",
              "       MntFishProducts  MntSweetProducts  MntGoldProds  NumDealsPurchases  \\\n",
              "count      2165.000000       2165.000000   2165.000000        2165.000000   \n",
              "mean         37.974134         27.302540     43.930716           2.296998   \n",
              "std          54.864564         41.332143     51.602372           1.901701   \n",
              "min           0.000000          0.000000      0.000000           0.000000   \n",
              "25%           3.000000          1.000000      9.000000           1.000000   \n",
              "50%          12.000000          8.000000     25.000000           2.000000   \n",
              "75%          50.000000         34.000000     56.000000           3.000000   \n",
              "max         259.000000        262.000000    321.000000          15.000000   \n",
              "\n",
              "       NumWebPurchases  NumStorePurchases  NumWebVisitsMonth     Complain  \n",
              "count      2165.000000        2165.000000        2165.000000  2165.000000  \n",
              "mean          4.067436           5.792148           5.315012     0.009238  \n",
              "std           2.714559           3.253497           2.440528     0.095691  \n",
              "min           0.000000           0.000000           0.000000     0.000000  \n",
              "25%           2.000000           3.000000           3.000000     0.000000  \n",
              "50%           4.000000           5.000000           6.000000     0.000000  \n",
              "75%           6.000000           8.000000           7.000000     0.000000  \n",
              "max          27.000000          13.000000          20.000000     1.000000  "
            ],
            "text/html": [
              "\n",
              "  <div id=\"df-66acc60f-0a5b-410d-95f4-c6c64646560d\">\n",
              "    <div class=\"colab-df-container\">\n",
              "      <div>\n",
              "<style scoped>\n",
              "    .dataframe tbody tr th:only-of-type {\n",
              "        vertical-align: middle;\n",
              "    }\n",
              "\n",
              "    .dataframe tbody tr th {\n",
              "        vertical-align: top;\n",
              "    }\n",
              "\n",
              "    .dataframe thead th {\n",
              "        text-align: right;\n",
              "    }\n",
              "</style>\n",
              "<table border=\"1\" class=\"dataframe\">\n",
              "  <thead>\n",
              "    <tr style=\"text-align: right;\">\n",
              "      <th></th>\n",
              "      <th>ID</th>\n",
              "      <th>Year_Birth</th>\n",
              "      <th>Income</th>\n",
              "      <th>Kidhome</th>\n",
              "      <th>Teenhome</th>\n",
              "      <th>Recency</th>\n",
              "      <th>MntWines</th>\n",
              "      <th>MntFruits</th>\n",
              "      <th>MntMeatProducts</th>\n",
              "      <th>MntFishProducts</th>\n",
              "      <th>MntSweetProducts</th>\n",
              "      <th>MntGoldProds</th>\n",
              "      <th>NumDealsPurchases</th>\n",
              "      <th>NumWebPurchases</th>\n",
              "      <th>NumStorePurchases</th>\n",
              "      <th>NumWebVisitsMonth</th>\n",
              "      <th>Complain</th>\n",
              "    </tr>\n",
              "  </thead>\n",
              "  <tbody>\n",
              "    <tr>\n",
              "      <th>count</th>\n",
              "      <td>2165.000000</td>\n",
              "      <td>2165.000000</td>\n",
              "      <td>2165.000000</td>\n",
              "      <td>2165.000000</td>\n",
              "      <td>2165.000000</td>\n",
              "      <td>2165.000000</td>\n",
              "      <td>2165.000000</td>\n",
              "      <td>2165.000000</td>\n",
              "      <td>2165.000000</td>\n",
              "      <td>2165.000000</td>\n",
              "      <td>2165.000000</td>\n",
              "      <td>2165.000000</td>\n",
              "      <td>2165.000000</td>\n",
              "      <td>2165.000000</td>\n",
              "      <td>2165.000000</td>\n",
              "      <td>2165.000000</td>\n",
              "      <td>2165.000000</td>\n",
              "    </tr>\n",
              "    <tr>\n",
              "      <th>mean</th>\n",
              "      <td>5589.044804</td>\n",
              "      <td>1968.982910</td>\n",
              "      <td>52169.246651</td>\n",
              "      <td>0.442494</td>\n",
              "      <td>0.470208</td>\n",
              "      <td>48.797229</td>\n",
              "      <td>303.926097</td>\n",
              "      <td>26.565358</td>\n",
              "      <td>168.012471</td>\n",
              "      <td>37.974134</td>\n",
              "      <td>27.302540</td>\n",
              "      <td>43.930716</td>\n",
              "      <td>2.296998</td>\n",
              "      <td>4.067436</td>\n",
              "      <td>5.792148</td>\n",
              "      <td>5.315012</td>\n",
              "      <td>0.009238</td>\n",
              "    </tr>\n",
              "    <tr>\n",
              "      <th>std</th>\n",
              "      <td>3251.385114</td>\n",
              "      <td>12.005205</td>\n",
              "      <td>25351.619382</td>\n",
              "      <td>0.537886</td>\n",
              "      <td>0.499227</td>\n",
              "      <td>28.904809</td>\n",
              "      <td>337.527790</td>\n",
              "      <td>40.070006</td>\n",
              "      <td>225.702287</td>\n",
              "      <td>54.864564</td>\n",
              "      <td>41.332143</td>\n",
              "      <td>51.602372</td>\n",
              "      <td>1.901701</td>\n",
              "      <td>2.714559</td>\n",
              "      <td>3.253497</td>\n",
              "      <td>2.440528</td>\n",
              "      <td>0.095691</td>\n",
              "    </tr>\n",
              "    <tr>\n",
              "      <th>min</th>\n",
              "      <td>0.000000</td>\n",
              "      <td>1893.000000</td>\n",
              "      <td>1730.000000</td>\n",
              "      <td>0.000000</td>\n",
              "      <td>0.000000</td>\n",
              "      <td>0.000000</td>\n",
              "      <td>0.000000</td>\n",
              "      <td>0.000000</td>\n",
              "      <td>0.000000</td>\n",
              "      <td>0.000000</td>\n",
              "      <td>0.000000</td>\n",
              "      <td>0.000000</td>\n",
              "      <td>0.000000</td>\n",
              "      <td>0.000000</td>\n",
              "      <td>0.000000</td>\n",
              "      <td>0.000000</td>\n",
              "      <td>0.000000</td>\n",
              "    </tr>\n",
              "    <tr>\n",
              "      <th>25%</th>\n",
              "      <td>2815.000000</td>\n",
              "      <td>1959.000000</td>\n",
              "      <td>34935.000000</td>\n",
              "      <td>0.000000</td>\n",
              "      <td>0.000000</td>\n",
              "      <td>24.000000</td>\n",
              "      <td>23.000000</td>\n",
              "      <td>2.000000</td>\n",
              "      <td>16.000000</td>\n",
              "      <td>3.000000</td>\n",
              "      <td>1.000000</td>\n",
              "      <td>9.000000</td>\n",
              "      <td>1.000000</td>\n",
              "      <td>2.000000</td>\n",
              "      <td>3.000000</td>\n",
              "      <td>3.000000</td>\n",
              "      <td>0.000000</td>\n",
              "    </tr>\n",
              "    <tr>\n",
              "      <th>50%</th>\n",
              "      <td>5474.000000</td>\n",
              "      <td>1970.000000</td>\n",
              "      <td>51315.000000</td>\n",
              "      <td>0.000000</td>\n",
              "      <td>0.000000</td>\n",
              "      <td>49.000000</td>\n",
              "      <td>173.000000</td>\n",
              "      <td>8.000000</td>\n",
              "      <td>67.000000</td>\n",
              "      <td>12.000000</td>\n",
              "      <td>8.000000</td>\n",
              "      <td>25.000000</td>\n",
              "      <td>2.000000</td>\n",
              "      <td>4.000000</td>\n",
              "      <td>5.000000</td>\n",
              "      <td>6.000000</td>\n",
              "      <td>0.000000</td>\n",
              "    </tr>\n",
              "    <tr>\n",
              "      <th>75%</th>\n",
              "      <td>8418.000000</td>\n",
              "      <td>1978.000000</td>\n",
              "      <td>68682.000000</td>\n",
              "      <td>1.000000</td>\n",
              "      <td>1.000000</td>\n",
              "      <td>74.000000</td>\n",
              "      <td>505.000000</td>\n",
              "      <td>33.000000</td>\n",
              "      <td>237.000000</td>\n",
              "      <td>50.000000</td>\n",
              "      <td>34.000000</td>\n",
              "      <td>56.000000</td>\n",
              "      <td>3.000000</td>\n",
              "      <td>6.000000</td>\n",
              "      <td>8.000000</td>\n",
              "      <td>7.000000</td>\n",
              "      <td>0.000000</td>\n",
              "    </tr>\n",
              "    <tr>\n",
              "      <th>max</th>\n",
              "      <td>11191.000000</td>\n",
              "      <td>1996.000000</td>\n",
              "      <td>666666.000000</td>\n",
              "      <td>2.000000</td>\n",
              "      <td>1.000000</td>\n",
              "      <td>99.000000</td>\n",
              "      <td>1493.000000</td>\n",
              "      <td>199.000000</td>\n",
              "      <td>1725.000000</td>\n",
              "      <td>259.000000</td>\n",
              "      <td>262.000000</td>\n",
              "      <td>321.000000</td>\n",
              "      <td>15.000000</td>\n",
              "      <td>27.000000</td>\n",
              "      <td>13.000000</td>\n",
              "      <td>20.000000</td>\n",
              "      <td>1.000000</td>\n",
              "    </tr>\n",
              "  </tbody>\n",
              "</table>\n",
              "</div>\n",
              "      <button class=\"colab-df-convert\" onclick=\"convertToInteractive('df-66acc60f-0a5b-410d-95f4-c6c64646560d')\"\n",
              "              title=\"Convert this dataframe to an interactive table.\"\n",
              "              style=\"display:none;\">\n",
              "        \n",
              "  <svg xmlns=\"http://www.w3.org/2000/svg\" height=\"24px\"viewBox=\"0 0 24 24\"\n",
              "       width=\"24px\">\n",
              "    <path d=\"M0 0h24v24H0V0z\" fill=\"none\"/>\n",
              "    <path d=\"M18.56 5.44l.94 2.06.94-2.06 2.06-.94-2.06-.94-.94-2.06-.94 2.06-2.06.94zm-11 1L8.5 8.5l.94-2.06 2.06-.94-2.06-.94L8.5 2.5l-.94 2.06-2.06.94zm10 10l.94 2.06.94-2.06 2.06-.94-2.06-.94-.94-2.06-.94 2.06-2.06.94z\"/><path d=\"M17.41 7.96l-1.37-1.37c-.4-.4-.92-.59-1.43-.59-.52 0-1.04.2-1.43.59L10.3 9.45l-7.72 7.72c-.78.78-.78 2.05 0 2.83L4 21.41c.39.39.9.59 1.41.59.51 0 1.02-.2 1.41-.59l7.78-7.78 2.81-2.81c.8-.78.8-2.07 0-2.86zM5.41 20L4 18.59l7.72-7.72 1.47 1.35L5.41 20z\"/>\n",
              "  </svg>\n",
              "      </button>\n",
              "      \n",
              "  <style>\n",
              "    .colab-df-container {\n",
              "      display:flex;\n",
              "      flex-wrap:wrap;\n",
              "      gap: 12px;\n",
              "    }\n",
              "\n",
              "    .colab-df-convert {\n",
              "      background-color: #E8F0FE;\n",
              "      border: none;\n",
              "      border-radius: 50%;\n",
              "      cursor: pointer;\n",
              "      display: none;\n",
              "      fill: #1967D2;\n",
              "      height: 32px;\n",
              "      padding: 0 0 0 0;\n",
              "      width: 32px;\n",
              "    }\n",
              "\n",
              "    .colab-df-convert:hover {\n",
              "      background-color: #E2EBFA;\n",
              "      box-shadow: 0px 1px 2px rgba(60, 64, 67, 0.3), 0px 1px 3px 1px rgba(60, 64, 67, 0.15);\n",
              "      fill: #174EA6;\n",
              "    }\n",
              "\n",
              "    [theme=dark] .colab-df-convert {\n",
              "      background-color: #3B4455;\n",
              "      fill: #D2E3FC;\n",
              "    }\n",
              "\n",
              "    [theme=dark] .colab-df-convert:hover {\n",
              "      background-color: #434B5C;\n",
              "      box-shadow: 0px 1px 3px 1px rgba(0, 0, 0, 0.15);\n",
              "      filter: drop-shadow(0px 1px 2px rgba(0, 0, 0, 0.3));\n",
              "      fill: #FFFFFF;\n",
              "    }\n",
              "  </style>\n",
              "\n",
              "      <script>\n",
              "        const buttonEl =\n",
              "          document.querySelector('#df-66acc60f-0a5b-410d-95f4-c6c64646560d button.colab-df-convert');\n",
              "        buttonEl.style.display =\n",
              "          google.colab.kernel.accessAllowed ? 'block' : 'none';\n",
              "\n",
              "        async function convertToInteractive(key) {\n",
              "          const element = document.querySelector('#df-66acc60f-0a5b-410d-95f4-c6c64646560d');\n",
              "          const dataTable =\n",
              "            await google.colab.kernel.invokeFunction('convertToInteractive',\n",
              "                                                     [key], {});\n",
              "          if (!dataTable) return;\n",
              "\n",
              "          const docLinkHtml = 'Like what you see? Visit the ' +\n",
              "            '<a target=\"_blank\" href=https://colab.research.google.com/notebooks/data_table.ipynb>data table notebook</a>'\n",
              "            + ' to learn more about interactive tables.';\n",
              "          element.innerHTML = '';\n",
              "          dataTable['output_type'] = 'display_data';\n",
              "          await google.colab.output.renderOutput(dataTable, element);\n",
              "          const docLink = document.createElement('div');\n",
              "          docLink.innerHTML = docLinkHtml;\n",
              "          element.appendChild(docLink);\n",
              "        }\n",
              "      </script>\n",
              "    </div>\n",
              "  </div>\n",
              "  "
            ]
          },
          "metadata": {},
          "execution_count": 18
        }
      ]
    },
    {
      "cell_type": "code",
      "source": [
        "# Histogram 통해 Income 분포 확인\n",
        "plt.hist(cleaned_data['Income']);"
      ],
      "metadata": {
        "id": "-aAhnAGhZBy2",
        "colab": {
          "base_uri": "https://localhost:8080/",
          "height": 265
        },
        "outputId": "8d10f8d9-2261-487d-adc3-282633e17477"
      },
      "execution_count": null,
      "outputs": [
        {
          "output_type": "display_data",
          "data": {
            "text/plain": [
              "<Figure size 432x288 with 1 Axes>"
            ],
            "image/png": "[encoded data removed]"
          },
          "metadata": {
            "needs_background": "light"
          }
        }
      ]
    },
    {
      "cell_type": "code",
      "source": [
        "# 200000 기준으로 다시 확인\n",
        "plt.hist(cleaned_data.loc[cleaned_data['Income'] < 200000, 'Income']);"
      ],
      "metadata": {
        "id": "ABrFN4jwZKjh",
        "colab": {
          "base_uri": "https://localhost:8080/",
          "height": 265
        },
        "outputId": "951b6ec2-471d-4f33-e866-af0ae3e72c29"
      },
      "execution_count": null,
      "outputs": [
        {
          "output_type": "display_data",
          "data": {
            "text/plain": [
              "<Figure size 432x288 with 1 Axes>"
            ],
            "image/png": "[encoded data removed]"
          },
          "metadata": {
            "needs_background": "light"
          }
        }
      ]
    },
    {
      "cell_type": "code",
      "source": [
        "# 120000 기준으로 다시 확인\n",
        "plt.hist(cleaned_data.loc[cleaned_data['Income'] < 120000, 'Income']);"
      ],
      "metadata": {
        "id": "6di6_AH4KX0h",
        "colab": {
          "base_uri": "https://localhost:8080/",
          "height": 265
        },
        "outputId": "829e8caf-2434-4e22-a347-7b946549e1fd"
      },
      "execution_count": null,
      "outputs": [
        {
          "output_type": "display_data",
          "data": {
            "text/plain": [
              "<Figure size 432x288 with 1 Axes>"
            ],
            "image/png": "[encoded data removed]"
          },
          "metadata": {
            "needs_background": "light"
          }
        }
      ]
    },
    {
      "cell_type": "code",
      "source": [
        "cleaned_data.loc[cleaned_data['Income'] < 120000, 'Income'].shape[0] / len(cleaned_data)"
      ],
      "metadata": {
        "id": "WmPaMl5SKs87",
        "colab": {
          "base_uri": "https://localhost:8080/"
        },
        "outputId": "ca7b627d-9aeb-4d46-889f-61e9197d55a0"
      },
      "execution_count": null,
      "outputs": [
        {
          "output_type": "execute_result",
          "data": {
            "text/plain": [
              "0.9963048498845266"
            ]
          },
          "metadata": {},
          "execution_count": 22
        }
      ]
    },
    {
      "cell_type": "code",
      "source": [
        "# 이상치 제거\n",
        "outlier = cleaned_data.loc[cleaned_data['Income'] >= 120000, 'Income'].index\n",
        "\n",
        "final = cleaned_data.copy()\n",
        "\n",
        "final = final.drop(labels=outlier, axis=0).reset_index(drop=True)\n",
        "\n",
        "final.shape"
      ],
      "metadata": {
        "id": "Qp3N7EOoK5CJ",
        "colab": {
          "base_uri": "https://localhost:8080/"
        },
        "outputId": "0be78047-6d07-46b0-8956-7ab7b1e490b6"
      },
      "execution_count": null,
      "outputs": [
        {
          "output_type": "execute_result",
          "data": {
            "text/plain": [
              "(2157, 21)"
            ]
          },
          "metadata": {},
          "execution_count": 23
        }
      ]
    },
    {
      "cell_type": "code",
      "source": [
        "plt.hist(final['Income']);"
      ],
      "metadata": {
        "id": "iGTGkhdDLDTe",
        "colab": {
          "base_uri": "https://localhost:8080/",
          "height": 265
        },
        "outputId": "47a04c0a-5a9d-47d1-b8d7-fdd1f844f41f"
      },
      "execution_count": null,
      "outputs": [
        {
          "output_type": "display_data",
          "data": {
            "text/plain": [
              "<Figure size 432x288 with 1 Axes>"
            ],
            "image/png": "[encoded data removed]"
          },
          "metadata": {
            "needs_background": "light"
          }
        }
      ]
    },
    {
      "cell_type": "code",
      "source": [
        "final.shape[0]"
      ],
      "metadata": {
        "id": "QWrus1vNW3n4",
        "colab": {
          "base_uri": "https://localhost:8080/"
        },
        "outputId": "fac3329a-c6b4-4feb-bf4a-7cf3726fb871"
      },
      "execution_count": null,
      "outputs": [
        {
          "output_type": "execute_result",
          "data": {
            "text/plain": [
              "2157"
            ]
          },
          "metadata": {},
          "execution_count": 26
        }
      ]
    },
    {
      "cell_type": "markdown",
      "source": [
        "### **2-2. sample의 평균값과 모집단의 평균값을 비교해봅니다.**\n",
        "\n",
        "- `seed`는 2로 지정하세요.\n",
        "  - 동일한 결과값을 도출하기 위해, seed 지정 코드 하단에 이 문제에 대한 코드를 작성해주세요.\n",
        "- `df_final`을 모집단으로 가정한 후, `Income` column의 평균을 구해 `mean_pop` 변수에 저장하세요.\n",
        "- sample size가 5일 때, 해당 데이터셋의 `Income` 데이터를 10,000번 중복 추출한 표본 평균들을 `sample_5` 라는 이름의 array에 저장하세요.\n",
        "  - `mean_pop`에서 `sample_5`의 평균을 뺀 값을 `diff_5`에 저장하세요.\n",
        "- sample size가 200일 때, 해당 데이터셋의 `Income` 데이터를 10,000번 중복 추출한 표본 평균들을 `sample_200` 라는 이름의 array에 저장하세요.\n",
        "  - `mean_pop`에서 `sample_200`의 평균을 뺀 값을 `diff_200`에 저장하세요.\n",
        "\n"
      ],
      "metadata": {
        "id": "3iICO7ltZe_Y"
      }
    },
    {
      "cell_type": "markdown",
      "source": [
        "##### **Q3. `diff_5`, `diff_200`의 결과를 각각 반올림하여 소수점 둘째 자리까지 (`diff_5`, `diff_200`)의 형태로 쓰세요.**\n",
        "\n",
        "- 동일한 결과값을 도출하기 위해, seed 지정 코드를 반드시 실행 해야 합니다.\n",
        "- 2-2 문제를 푸는데 필요한 모든 내용이 seed 지정 코드가 있는 셀에 들어가도록 코드를 작성해주세요.\n",
        "\n"
      ],
      "metadata": {
        "id": "1xyWbCuNBbRq"
      }
    },
    {
      "cell_type": "code",
      "source": [
        "np.random.seed(2)\n",
        "\n",
        "# mean_pop 지정\n",
        "mean_pop = final['Income'].mean()\n",
        "\n",
        "# 5 samples bootstrapping\n",
        "sample_5 = []\n",
        "\n",
        "for _ in range(10000):\n",
        "  sample5 = np.random.choice(final['Income'], 5, replace=True)\n",
        "  sample_5.append(sample5.mean())\n",
        "\n",
        "# 200 samples bootstrapping\n",
        "sample_200 = []\n",
        "\n",
        "for _ in range(10000):\n",
        "  sample200 = np.random.choice(final['Income'], 200, replace=True)\n",
        "  sample_200.append(sample200.mean())\n",
        "\n",
        "# list to array\n",
        "sample_5 = np.array(sample_5)\n",
        "sample_200 = np.array(sample_200)\n",
        "\n",
        "# mean pop 과의 차이 비교\n",
        "diff_5 = mean_pop - sample_5.mean()\n",
        "diff_200 = mean_pop - sample_200.mean()\n",
        "\n",
        "round(diff_5, 2), round(diff_200, 2)"
      ],
      "metadata": {
        "id": "n6-6MtFqdMH8",
        "colab": {
          "base_uri": "https://localhost:8080/"
        },
        "outputId": "49bd68f6-c84b-4859-c3d6-36fa92ae9c25"
      },
      "execution_count": null,
      "outputs": [
        {
          "output_type": "execute_result",
          "data": {
            "text/plain": [
              "(-58.6, 12.72)"
            ]
          },
          "metadata": {},
          "execution_count": 27
        }
      ]
    },
    {
      "cell_type": "code",
      "source": [
        "plt.hist(sample_5, alpha=0.5, color='#53BF9D')\n",
        "plt.hist(sample_200, alpha=0.7, color='#FFC54D')\n",
        "plt.axvline(mean_pop, color='#F94C66');"
      ],
      "metadata": {
        "id": "HMgVlkZFJHs1",
        "colab": {
          "base_uri": "https://localhost:8080/",
          "height": 267
        },
        "outputId": "4b0fc806-6e3f-4d6c-f31c-3762876fd8d2"
      },
      "execution_count": null,
      "outputs": [
        {
          "output_type": "display_data",
          "data": {
            "text/plain": [
              "<Figure size 432x288 with 1 Axes>"
            ],
            "image/png": "[encoded data removed]"
          },
          "metadata": {
            "needs_background": "light"
          }
        }
      ]
    },
    {
      "cell_type": "markdown",
      "source": [
        "### **2-3. sample의 분포를 통해 신뢰구간을 확인합니다.**\n",
        "**2-2**에서 구현한 `sample_200` 표본 분포를 활용하여 모집단의 모수를 포함할 확률이 95%가 되는 구간을 찾아봅니다.\n",
        "\n"
      ],
      "metadata": {
        "id": "mlPTnYPCZosQ"
      }
    },
    {
      "cell_type": "markdown",
      "source": [
        "##### **Q4. 95% 신뢰구간의 lower limit과 upper limit을 각각 반올림하여 소수점 둘째 자리까지 (lower limit, upper limit)의 형태로 쓰세요.**"
      ],
      "metadata": {
        "id": "VvDR30q5Bvk_"
      }
    },
    {
      "cell_type": "code",
      "source": [
        "lower, upper = np.percentile(sample_200, 2.5), np.percentile(sample_200, 97.5)\n",
        "\n",
        "round(lower, 2), round(upper, 2)"
      ],
      "metadata": {
        "id": "qdrcTSqvJ9gi",
        "colab": {
          "base_uri": "https://localhost:8080/"
        },
        "outputId": "18d2001a-2ea7-4da5-fc7d-6d71e2bf6343"
      },
      "execution_count": null,
      "outputs": [
        {
          "output_type": "execute_result",
          "data": {
            "text/plain": [
              "(48668.47, 54390.69)"
            ]
          },
          "metadata": {},
          "execution_count": 30
        }
      ]
    },
    {
      "cell_type": "markdown",
      "source": [
        "## **Part 3. Hypothesis Test**\n",
        "\n",
        "데이터에서 다양한 시나리오를 파악하고 옳은 가설을 세우는 것은 매우 중요합니다. 위에 우리에게 주어진 데이터셋에 대해서도 다양한 시나리오에 대해 생각해볼 수 있습니다.\n",
        "\n",
        "주어진 데이터셋에는 자녀가 청소년인지 여부를 나타내는 `Teenhome`과 연간 수입을 나타내는 `Income` 정보가 존재하는데, 청소년 자녀가 있는 경우 자녀의 연령에 따라 증가하는 지출, 고객의 회사 내 지위 등을 고려하여 수입이 증가할 것이라는 가설을 생각해 볼 수 있습니다. \n",
        "\n",
        "따라서 **고객의 자녀가 청소년인지 여부에 따라 연간 수입 평균값의 차이가 있는지** 가설검정을 통해 확인해보도록 하겠습니다."
      ],
      "metadata": {
        "id": "DcPtz22vU_Uw"
      }
    },
    {
      "cell_type": "markdown",
      "source": [
        "### **3-1. One-tailed Test**\n",
        "\n",
        "> 고객의 자녀가 청소년인 경우의 연간 수입 평균값이 그렇지 않은 경우보다 더 많은지 가설 검증을 시행하고자 합니다. ($\\alpha$ = 0.05)\n",
        "- 자녀가 청소년인 경우 고객의 연간 수입 평균값: $μ_{yes}$\n",
        "- 자녀가 청소년이 아닌 경우 고객의 연간 수입 평균값: $μ_{no}$\n",
        "\n",
        "\n",
        "\n"
      ],
      "metadata": {
        "id": "Zi8GxxoqHW78"
      }
    },
    {
      "cell_type": "markdown",
      "source": [
        "- 이번 문제에서는 scipy 라이브러리의 [`.ttest_ind()`](https://docs.scipy.org/doc/scipy/reference/generated/scipy.stats.ttest_ind.html)를 사용하여 가설검정을 진행하세요.\n",
        "  - `equal_val` 파라미터를 False로 지정합니다.\n"
      ],
      "metadata": {
        "id": "vuLH6E51GCVP"
      }
    },
    {
      "cell_type": "markdown",
      "source": [
        "##### **Q5. 이 경우에는 귀무가설과 대립가설을 어떻게 세워야 할까요?**\n",
        "\n",
        "**a.** $H_0$: $μ_{no} ≥ μ_{yes}\\;$, $\\;H_a$: $μ_{no} < μ_{yes}$\n",
        "\n",
        "b. $H_0$: $μ_{no} < μ_{yes}\\;$, $\\;H_a$: $μ_{no} ≥ μ_{yes}$\n",
        "\n",
        "c. $H_0$: $μ_{no} > μ_{yes}\\;$, $\\;H_a$: $μ_{no} ≤ μ_{yes}$\n",
        "\n",
        "d. $H_0$: $μ_{no} ≤ μ_{yes}\\;$, $\\;H_a$: $μ_{no} > μ_{yes}$\n",
        "\n",
        "\n",
        "\n"
      ],
      "metadata": {
        "id": "aTPhPeTmCF6g"
      }
    },
    {
      "cell_type": "code",
      "source": [
        "from scipy import stats"
      ],
      "metadata": {
        "id": "KegiEigRR2SJ"
      },
      "execution_count": null,
      "outputs": []
    },
    {
      "cell_type": "code",
      "source": [
        "yes = final.loc[final['Teenhome'] == 1, 'Income']\n",
        "no = final.loc[final['Teenhome'] == 0, 'Income']\n",
        "\n",
        "pval1 = stats.ttest_ind(yes, no, equal_var = False, alternative='greater').pvalue\n",
        "\n",
        "round(pval1, 2)"
      ],
      "metadata": {
        "colab": {
          "base_uri": "https://localhost:8080/"
        },
        "id": "r1ML_3jRiNqV",
        "outputId": "0e852695-71a8-4571-f7c8-2fb1ee6c3f83"
      },
      "execution_count": null,
      "outputs": [
        {
          "output_type": "execute_result",
          "data": {
            "text/plain": [
              "0.06"
            ]
          },
          "metadata": {},
          "execution_count": 32
        }
      ]
    },
    {
      "cell_type": "markdown",
      "source": [
        "##### **Q6. 다음 중 위의 가설검정 결과로 나온 p-value를 통해 도출한 결론을 고르세요.** \n",
        "\n",
        "a. p-value가 0.05보다 작으므로 귀무가설을 기각하고 대립가설을 채택한다.\n",
        "\n",
        "**b. p-value가 0.05보다 크므로 귀무가설을 기각하지 못한다.**\n",
        "\n",
        "c. p-value가 0.05보다 작으므로 귀무가설을 기각하지 못한다.\n",
        "\n",
        "d. p-value가 0.05보다 크므로 귀무가설을 기각하고 대립가설을 채택한다.\n",
        "\n",
        "e. p-value가 0.05보다 크므로 귀무가설과 대립가설 모두를 채택한다."
      ],
      "metadata": {
        "id": "wxR02lXtCMjE"
      }
    },
    {
      "cell_type": "markdown",
      "source": [
        "### **3-2. Two-tailed Test**\n",
        "\n",
        "> 고객의 자녀가 청소년인 경우의 연간 수입 평균값이 그렇지 않은 경우와 차이가 있는지 가설검정을 시행하고자 합니다. ($\\alpha$ = 0.05)\n",
        "- 자녀가 청소년인 경우 고객의 연간 수입 평균값: $μ_{yes}$\n",
        "- 자녀가 청소년이 아닌 경우 고객의 연간 수입 평균값: $μ_{no}$\n",
        "\n",
        "- 이번 문제에서는 scipy 라이브러리의 [`.ttest_ind()`](https://docs.scipy.org/doc/scipy/reference/generated/scipy.stats.ttest_ind.html)를 사용하여 가설검정을 진행하세요.\n",
        "  - `equal_val` 파라미터를 False로 지정합니다.\n",
        "\n",
        "\n",
        "\n",
        "\n"
      ],
      "metadata": {
        "id": "CXIay0_nQfqC"
      }
    },
    {
      "cell_type": "markdown",
      "source": [
        "##### **Q7. 이 경우에는 귀무가설과 대립가설을 어떻게 세워야 할까요?** \n",
        "\n",
        "a. $H_0$: $μ_{no} \\neq\\; μ_{yes}\\;$, $\\;H_a$: $μ_{no} = \\;μ_{yes}$\n",
        "\n",
        "b. $H_0$: $μ_{no} < μ_{yes}\\;$, $\\;H_a$: $μ_{no} ≥ μ_{yes}$\n",
        "\n",
        "**c.** $H_0$: $μ_{no} =\\; μ_{yes}\\;$, $\\;H_a$: $μ_{no} \\neq \\;μ_{yes}$ \n",
        "\n",
        "d. $H_0$: $μ_{no} ≤ μ_{yes}\\;$, $\\;H_a$: $μ_{no} > μ_{yes}$\n",
        "\n",
        "</br>\n",
        "\n",
        "\n",
        "\n",
        "\n",
        "\n"
      ],
      "metadata": {
        "id": "2o_fsRGMSvPM"
      }
    },
    {
      "cell_type": "markdown",
      "source": [
        "##### **Q8. 위의 가설 검정 결과로 나온 p-value를 반올림하여 소수점 둘째 자리까지 쓰세요.**"
      ],
      "metadata": {
        "id": "lpIx4YjvCZRe"
      }
    },
    {
      "cell_type": "code",
      "source": [
        "pval2 = stats.ttest_ind(yes, no, equal_var = False).pvalue\n",
        "\n",
        "round(pval2, 2)"
      ],
      "metadata": {
        "id": "fYmuFcL4IRaN",
        "colab": {
          "base_uri": "https://localhost:8080/"
        },
        "outputId": "f2b4a85c-533c-46a1-cfdd-ef62b5a9b1f0"
      },
      "execution_count": null,
      "outputs": [
        {
          "output_type": "execute_result",
          "data": {
            "text/plain": [
              "0.11"
            ]
          },
          "metadata": {},
          "execution_count": 33
        }
      ]
    },
    {
      "cell_type": "markdown",
      "source": [
        "## **Part 4. 도전 과제**\n",
        "\n",
        "위에서 요구된 사항들을 모두 정확하게 만족하였으며, 아래 내용 또한 만족하는 경우 3점을 얻을 수 있습니다. \n",
        "\n",
        "아래 요구사항은 **optional** 임을 다시 한 번 강조합니다. (필수 요구사항이 아닙니다.)\n",
        "\n",
        "---\n",
        "\n",
        "#### **$\\chi^2$ 가설 검정을 시행합니다**\n",
        "\n",
        "우리가 사용할 $\\chi^2$ - test는 어떤 경우에 사용하는 가설 검정 방법인지 알아봅시다.\n",
        "\n",
        "\n",
        "- one sample $\\chi^2$ - test (적합도 검정)\n",
        "  > **주어진 하나의 범주형 변수의 분포가 특정 예상되는 분포와 동일한 분포를 나타내는지** 에 대한 가설 검정 방법\n",
        "\n",
        "  - 귀무가설($H_0$): 주어진 변수 X의 관측분포와 특정 예상 분포가 동일하다.\n",
        "  - 대립가설($H_a$): 주어진 변수 X의 관측분포와 특정 예상 분포가 다르다.\n",
        "\n",
        "- two sample $\\chi^2$ - test (독립성 검정)\n",
        "  > **두 개의 범주형 변수가 서로 연관되어 있는지 여부**에 대한 가설 검정 방법\n",
        "\n",
        "  - 귀무가설($H_0$): 변수 X와 Y는 서로 독립이다. (연관 없음)\n",
        "  - 대립가설($H_a$): 변수 X와 Y는 서로 독립이 아니다. (연관 있음)\n",
        "\n",
        "</br>\n",
        "\n",
        "위의 가설검정 방법에 대한 설명을 참고하여 진행해봅니다.\n"
      ],
      "metadata": {
        "id": "YzB1I36NgOkw"
      }
    },
    {
      "cell_type": "markdown",
      "source": [
        "### **4-1. one sample $\\chi^2$ - test**\n",
        "\n",
        "> XYZ사는 다국적 기업으로 다양한 나라에 고객층을 확보하고 있으며, 5월을 맞아 **기혼자를 대상으로 한 이벤트를 기획**하려고 합니다. 이때, 우리는 모든 국가를 대상으로 이벤트를 진행하는 것이 효율적인지 $\\chi^2$ - test를 통해 확인해보려 합니다. 만약 국적별 기혼자의 빈도가 비슷하다면, XYZ사는 모든 국가를 대상으로 이벤트를 진행하는 것을 고려할 것이고, 그렇지 않다면, 어떤 국적의 고객이 더 많은지 파악하는 추가 분석이 필요할 것입니다.\n"
      ],
      "metadata": {
        "id": "PqOZQRk2kbkd"
      }
    },
    {
      "cell_type": "markdown",
      "source": [
        "#### **기혼자의 빈도가 모든 나라에 대해 균일한지 가설 검정을 해보세요.**\n",
        "\n",
        "---\n",
        "\n",
        "[공식문서](https://docs.scipy.org/doc/scipy/reference/generated/scipy.stats.chisquare.html)를 참고하여 아래에 명시된 가설을 검정해봅시다. ($\\alpha$ = 0.05)\n",
        "- 귀무가설($H_0$): 고객의 국적(Country)별 기혼자(Married)의 빈도가 균일하게 분포되어 있다.\n",
        "- 대립가설($H_a$): 고객의 국적(Country)별 기혼자(Married)의 빈도가 균일하게 분포되어 있지 않다.\n",
        "\n",
        "> **Hint:** categorical feature 간의 \"cross tab\"을 생성하여 탐색해 보세요 (aka [contingency tables](https://en.wikipedia.org/wiki/Contingency_table)). 그리고 $\\chi^2 test$를 적용해 보세요. [pandas.crosstab](http://pandas.pydata.org/pandas-docs/stable/reference/api/pandas.crosstab.html)을 사용하면 contingency table 을 생성할 수 있습니다."
      ],
      "metadata": {
        "id": "pHHK1iOiE1qV"
      }
    },
    {
      "cell_type": "code",
      "source": [
        "from scipy.stats import chisquare\n",
        "\n",
        "# 국적 - 결혼상태 crosstab 생성\n",
        "country_marital = pd.crosstab(final['Country'], final['Marital_Status'])\n",
        "country_marital"
      ],
      "metadata": {
        "id": "a0CVAha2j9DO",
        "colab": {
          "base_uri": "https://localhost:8080/",
          "height": 332
        },
        "outputId": "d59a4dbb-9460-40fc-92c5-26ca753d6f83"
      },
      "execution_count": null,
      "outputs": [
        {
          "output_type": "execute_result",
          "data": {
            "text/plain": [
              "Marital_Status  Absurd  Alone  Divorced  Married  Single  Together  Widow  \\\n",
              "Country                                                                     \n",
              "AUS                  1      0        18       65      17        37      5   \n",
              "CA                   1      3        26       97      57        64      6   \n",
              "GER                  0      0         6       56      18        31      4   \n",
              "IND                  0      0        10       55      36        38      4   \n",
              "ME                   0      0         0        0       2         1      0   \n",
              "SA                   0      0        45      104      70        97     12   \n",
              "SP                   0      0       104      422     233       265     42   \n",
              "US                   0      0        16       33      29        23      2   \n",
              "\n",
              "Marital_Status  YOLO  \n",
              "Country               \n",
              "AUS                0  \n",
              "CA                 1  \n",
              "GER                0  \n",
              "IND                1  \n",
              "ME                 0  \n",
              "SA                 0  \n",
              "SP                 0  \n",
              "US                 0  "
            ],
            "text/html": [
              "\n",
              "  <div id=\"df-89f13a29-9e29-4730-bc7c-b3bf8de206e7\">\n",
              "    <div class=\"colab-df-container\">\n",
              "      <div>\n",
              "<style scoped>\n",
              "    .dataframe tbody tr th:only-of-type {\n",
              "        vertical-align: middle;\n",
              "    }\n",
              "\n",
              "    .dataframe tbody tr th {\n",
              "        vertical-align: top;\n",
              "    }\n",
              "\n",
              "    .dataframe thead th {\n",
              "        text-align: right;\n",
              "    }\n",
              "</style>\n",
              "<table border=\"1\" class=\"dataframe\">\n",
              "  <thead>\n",
              "    <tr style=\"text-align: right;\">\n",
              "      <th>Marital_Status</th>\n",
              "      <th>Absurd</th>\n",
              "      <th>Alone</th>\n",
              "      <th>Divorced</th>\n",
              "      <th>Married</th>\n",
              "      <th>Single</th>\n",
              "      <th>Together</th>\n",
              "      <th>Widow</th>\n",
              "      <th>YOLO</th>\n",
              "    </tr>\n",
              "    <tr>\n",
              "      <th>Country</th>\n",
              "      <th></th>\n",
              "      <th></th>\n",
              "      <th></th>\n",
              "      <th></th>\n",
              "      <th></th>\n",
              "      <th></th>\n",
              "      <th></th>\n",
              "      <th></th>\n",
              "    </tr>\n",
              "  </thead>\n",
              "  <tbody>\n",
              "    <tr>\n",
              "      <th>AUS</th>\n",
              "      <td>1</td>\n",
              "      <td>0</td>\n",
              "      <td>18</td>\n",
              "      <td>65</td>\n",
              "      <td>17</td>\n",
              "      <td>37</td>\n",
              "      <td>5</td>\n",
              "      <td>0</td>\n",
              "    </tr>\n",
              "    <tr>\n",
              "      <th>CA</th>\n",
              "      <td>1</td>\n",
              "      <td>3</td>\n",
              "      <td>26</td>\n",
              "      <td>97</td>\n",
              "      <td>57</td>\n",
              "      <td>64</td>\n",
              "      <td>6</td>\n",
              "      <td>1</td>\n",
              "    </tr>\n",
              "    <tr>\n",
              "      <th>GER</th>\n",
              "      <td>0</td>\n",
              "      <td>0</td>\n",
              "      <td>6</td>\n",
              "      <td>56</td>\n",
              "      <td>18</td>\n",
              "      <td>31</td>\n",
              "      <td>4</td>\n",
              "      <td>0</td>\n",
              "    </tr>\n",
              "    <tr>\n",
              "      <th>IND</th>\n",
              "      <td>0</td>\n",
              "      <td>0</td>\n",
              "      <td>10</td>\n",
              "      <td>55</td>\n",
              "      <td>36</td>\n",
              "      <td>38</td>\n",
              "      <td>4</td>\n",
              "      <td>1</td>\n",
              "    </tr>\n",
              "    <tr>\n",
              "      <th>ME</th>\n",
              "      <td>0</td>\n",
              "      <td>0</td>\n",
              "      <td>0</td>\n",
              "      <td>0</td>\n",
              "      <td>2</td>\n",
              "      <td>1</td>\n",
              "      <td>0</td>\n",
              "      <td>0</td>\n",
              "    </tr>\n",
              "    <tr>\n",
              "      <th>SA</th>\n",
              "      <td>0</td>\n",
              "      <td>0</td>\n",
              "      <td>45</td>\n",
              "      <td>104</td>\n",
              "      <td>70</td>\n",
              "      <td>97</td>\n",
              "      <td>12</td>\n",
              "      <td>0</td>\n",
              "    </tr>\n",
              "    <tr>\n",
              "      <th>SP</th>\n",
              "      <td>0</td>\n",
              "      <td>0</td>\n",
              "      <td>104</td>\n",
              "      <td>422</td>\n",
              "      <td>233</td>\n",
              "      <td>265</td>\n",
              "      <td>42</td>\n",
              "      <td>0</td>\n",
              "    </tr>\n",
              "    <tr>\n",
              "      <th>US</th>\n",
              "      <td>0</td>\n",
              "      <td>0</td>\n",
              "      <td>16</td>\n",
              "      <td>33</td>\n",
              "      <td>29</td>\n",
              "      <td>23</td>\n",
              "      <td>2</td>\n",
              "      <td>0</td>\n",
              "    </tr>\n",
              "  </tbody>\n",
              "</table>\n",
              "</div>\n",
              "      <button class=\"colab-df-convert\" onclick=\"convertToInteractive('df-89f13a29-9e29-4730-bc7c-b3bf8de206e7')\"\n",
              "              title=\"Convert this dataframe to an interactive table.\"\n",
              "              style=\"display:none;\">\n",
              "        \n",
              "  <svg xmlns=\"http://www.w3.org/2000/svg\" height=\"24px\"viewBox=\"0 0 24 24\"\n",
              "       width=\"24px\">\n",
              "    <path d=\"M0 0h24v24H0V0z\" fill=\"none\"/>\n",
              "    <path d=\"M18.56 5.44l.94 2.06.94-2.06 2.06-.94-2.06-.94-.94-2.06-.94 2.06-2.06.94zm-11 1L8.5 8.5l.94-2.06 2.06-.94-2.06-.94L8.5 2.5l-.94 2.06-2.06.94zm10 10l.94 2.06.94-2.06 2.06-.94-2.06-.94-.94-2.06-.94 2.06-2.06.94z\"/><path d=\"M17.41 7.96l-1.37-1.37c-.4-.4-.92-.59-1.43-.59-.52 0-1.04.2-1.43.59L10.3 9.45l-7.72 7.72c-.78.78-.78 2.05 0 2.83L4 21.41c.39.39.9.59 1.41.59.51 0 1.02-.2 1.41-.59l7.78-7.78 2.81-2.81c.8-.78.8-2.07 0-2.86zM5.41 20L4 18.59l7.72-7.72 1.47 1.35L5.41 20z\"/>\n",
              "  </svg>\n",
              "      </button>\n",
              "      \n",
              "  <style>\n",
              "    .colab-df-container {\n",
              "      display:flex;\n",
              "      flex-wrap:wrap;\n",
              "      gap: 12px;\n",
              "    }\n",
              "\n",
              "    .colab-df-convert {\n",
              "      background-color: #E8F0FE;\n",
              "      border: none;\n",
              "      border-radius: 50%;\n",
              "      cursor: pointer;\n",
              "      display: none;\n",
              "      fill: #1967D2;\n",
              "      height: 32px;\n",
              "      padding: 0 0 0 0;\n",
              "      width: 32px;\n",
              "    }\n",
              "\n",
              "    .colab-df-convert:hover {\n",
              "      background-color: #E2EBFA;\n",
              "      box-shadow: 0px 1px 2px rgba(60, 64, 67, 0.3), 0px 1px 3px 1px rgba(60, 64, 67, 0.15);\n",
              "      fill: #174EA6;\n",
              "    }\n",
              "\n",
              "    [theme=dark] .colab-df-convert {\n",
              "      background-color: #3B4455;\n",
              "      fill: #D2E3FC;\n",
              "    }\n",
              "\n",
              "    [theme=dark] .colab-df-convert:hover {\n",
              "      background-color: #434B5C;\n",
              "      box-shadow: 0px 1px 3px 1px rgba(0, 0, 0, 0.15);\n",
              "      filter: drop-shadow(0px 1px 2px rgba(0, 0, 0, 0.3));\n",
              "      fill: #FFFFFF;\n",
              "    }\n",
              "  </style>\n",
              "\n",
              "      <script>\n",
              "        const buttonEl =\n",
              "          document.querySelector('#df-89f13a29-9e29-4730-bc7c-b3bf8de206e7 button.colab-df-convert');\n",
              "        buttonEl.style.display =\n",
              "          google.colab.kernel.accessAllowed ? 'block' : 'none';\n",
              "\n",
              "        async function convertToInteractive(key) {\n",
              "          const element = document.querySelector('#df-89f13a29-9e29-4730-bc7c-b3bf8de206e7');\n",
              "          const dataTable =\n",
              "            await google.colab.kernel.invokeFunction('convertToInteractive',\n",
              "                                                     [key], {});\n",
              "          if (!dataTable) return;\n",
              "\n",
              "          const docLinkHtml = 'Like what you see? Visit the ' +\n",
              "            '<a target=\"_blank\" href=https://colab.research.google.com/notebooks/data_table.ipynb>data table notebook</a>'\n",
              "            + ' to learn more about interactive tables.';\n",
              "          element.innerHTML = '';\n",
              "          dataTable['output_type'] = 'display_data';\n",
              "          await google.colab.output.renderOutput(dataTable, element);\n",
              "          const docLink = document.createElement('div');\n",
              "          docLink.innerHTML = docLinkHtml;\n",
              "          element.appendChild(docLink);\n",
              "        }\n",
              "      </script>\n",
              "    </div>\n",
              "  </div>\n",
              "  "
            ]
          },
          "metadata": {},
          "execution_count": 34
        }
      ]
    },
    {
      "cell_type": "code",
      "source": [
        "# 기혼('Married') 상태에 해당하는 데이터만 추출\n",
        "married = country_marital.loc[:,'Married']\n",
        "married"
      ],
      "metadata": {
        "id": "CvfTgiz6_HgO",
        "colab": {
          "base_uri": "https://localhost:8080/"
        },
        "outputId": "f09e7032-e3f1-4635-a234-606caddad2f9"
      },
      "execution_count": null,
      "outputs": [
        {
          "output_type": "execute_result",
          "data": {
            "text/plain": [
              "Country\n",
              "AUS     65\n",
              "CA      97\n",
              "GER     56\n",
              "IND     55\n",
              "ME       0\n",
              "SA     104\n",
              "SP     422\n",
              "US      33\n",
              "Name: Married, dtype: int64"
            ]
          },
          "metadata": {},
          "execution_count": 35
        }
      ]
    },
    {
      "cell_type": "code",
      "source": [
        "# 기혼자 명수 총합\n",
        "married_ppl = sum(married)\n",
        "married_ppl"
      ],
      "metadata": {
        "id": "7wY443gr_Fre",
        "colab": {
          "base_uri": "https://localhost:8080/"
        },
        "outputId": "ced433b7-f15e-45cf-a596-16f7d361b45f"
      },
      "execution_count": null,
      "outputs": [
        {
          "output_type": "execute_result",
          "data": {
            "text/plain": [
              "832"
            ]
          },
          "metadata": {},
          "execution_count": 36
        }
      ]
    },
    {
      "cell_type": "code",
      "source": [
        "# 국적 수\n",
        "len(final['Country'].unique())"
      ],
      "metadata": {
        "id": "MjwmYJIhYszJ",
        "colab": {
          "base_uri": "https://localhost:8080/"
        },
        "outputId": "24a70da8-ac9f-47e5-c3c4-71f9dce105ee"
      },
      "execution_count": null,
      "outputs": [
        {
          "output_type": "execute_result",
          "data": {
            "text/plain": [
              "8"
            ]
          },
          "metadata": {},
          "execution_count": 37
        }
      ]
    },
    {
      "cell_type": "code",
      "source": [
        "# 기혼('Married')에 해당하는 전체 데이터 수를 국적 수(8)으로 나눈 빈도 = 우리의 기대 분포 (국적별 빈도가 균일함)\n",
        "exp = [married_ppl / 8]\n",
        "exp_f = exp * 8\n",
        "exp_f"
      ],
      "metadata": {
        "id": "1XzQRiMURZcH",
        "colab": {
          "base_uri": "https://localhost:8080/"
        },
        "outputId": "2682ce4e-6027-491c-f638-c2578c40cf86"
      },
      "execution_count": null,
      "outputs": [
        {
          "output_type": "execute_result",
          "data": {
            "text/plain": [
              "[104.0, 104.0, 104.0, 104.0, 104.0, 104.0, 104.0, 104.0]"
            ]
          },
          "metadata": {},
          "execution_count": 38
        }
      ]
    },
    {
      "cell_type": "code",
      "source": [
        "# option 1) chisquare f_exp 파라미터 지정 X\n",
        "stats, pvalue = chisquare(married)\n",
        "pvalue"
      ],
      "metadata": {
        "id": "bAYmO1aK_vrH",
        "colab": {
          "base_uri": "https://localhost:8080/"
        },
        "outputId": "c7c39fd4-c585-45ae-e388-7c347797c934"
      },
      "execution_count": null,
      "outputs": [
        {
          "output_type": "execute_result",
          "data": {
            "text/plain": [
              "1.1461219475051596e-251"
            ]
          },
          "metadata": {},
          "execution_count": 39
        }
      ]
    },
    {
      "cell_type": "code",
      "source": [
        "# option 2) 실제 분포와 기대 분포 직접 비교\n",
        "stats2, pvalue2 = chisquare(married, exp_f)\n",
        "pvalue2"
      ],
      "metadata": {
        "id": "l21iPS5-SRAh",
        "colab": {
          "base_uri": "https://localhost:8080/"
        },
        "outputId": "fb874689-e8f2-43bb-c79b-709071ed94e5"
      },
      "execution_count": null,
      "outputs": [
        {
          "output_type": "execute_result",
          "data": {
            "text/plain": [
              "1.1461219475051596e-251"
            ]
          },
          "metadata": {},
          "execution_count": 40
        }
      ]
    },
    {
      "cell_type": "markdown",
      "source": [
        "### **4-2. P-value 해석**\n",
        "\n"
      ],
      "metadata": {
        "id": "JGov3kLCobnX"
      }
    },
    {
      "cell_type": "markdown",
      "source": [
        "#### **가설검정 결과로 나온 p-value를 바탕으로 결론을 제시하세요.**"
      ],
      "metadata": {
        "id": "Em0Pj-5PCxeH"
      }
    },
    {
      "cell_type": "markdown",
      "source": [
        "##### **Q9. p-value와 귀무가설 기각 여부를 (`p-value`, `귀무가설 기각 여부`) 형태로 쓰세요.**\n",
        "\n",
        "- p-value는 소수점 둘째 자리까지 표시합니다.\n",
        "- 귀무가설 기각 여부는 `O`, `X` 로 표시합니다.\n",
        "  - `O` : 귀무가설 기각\n",
        "  - `X` : 귀무가설 기각 실패"
      ],
      "metadata": {
        "id": "LjJuB8r2lo_Z"
      }
    },
    {
      "cell_type": "markdown",
      "source": [
        "귀무가설을 바탕으로 시행한 가설 검정 결과 P-value가 0.05보다 작으므로 귀무가설을 기각하고 대립가설을 채택한다.\n",
        "\n",
        "\n",
        "> 즉, 국적별로 기혼자의 분포는 다르다고 결론지을 수 있다. 따라서 XYZ 사에서는 어떤 국적의 기혼자가 많은지 확인하는 추가 분석을 시행할 필요성이 있다. "
      ],
      "metadata": {
        "id": "Z4ti-wI263tL"
      }
    }
  ]
}