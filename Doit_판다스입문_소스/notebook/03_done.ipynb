{
  "cells": [
    {
      "cell_type": "markdown",
      "metadata": {
        "id": "8GNUxm-ueKAo"
      },
      "source": [
        "# 직접 해보세요!\n",
        "## 시리즈와 데이터프레임 직접 만들기(51쪽)\n",
        "### 1. 시리즈 만들기"
      ]
    },
    {
      "cell_type": "code",
      "execution_count": 1,
      "metadata": {
        "id": "ejVxoxnFeKAu",
        "outputId": "8286844d-d71e-4a18-c392-2c62b38792d8",
        "colab": {
          "base_uri": "https://localhost:8080/"
        }
      },
      "outputs": [
        {
          "output_type": "stream",
          "name": "stdout",
          "text": [
            "0    banana\n",
            "1        42\n",
            "dtype: object\n"
          ]
        }
      ],
      "source": [
        "import pandas as pd\n",
        "s = pd.Series(['banana', 42])\n",
        "print(s)"
      ]
    },
    {
      "cell_type": "code",
      "execution_count": 2,
      "metadata": {
        "id": "KjLEybukeKAw",
        "outputId": "d60639db-21dc-4706-dffd-b6a906b249f0",
        "colab": {
          "base_uri": "https://localhost:8080/"
        }
      },
      "outputs": [
        {
          "output_type": "stream",
          "name": "stdout",
          "text": [
            "0         Wes McKinney\n",
            "1    Creator of Pandas\n",
            "dtype: object\n"
          ]
        }
      ],
      "source": [
        "s = pd.Series(['Wes McKinney', 'Creator of Pandas'])\n",
        "print(s)"
      ]
    },
    {
      "cell_type": "code",
      "execution_count": 3,
      "metadata": {
        "id": "hbDuuPmUeKAw",
        "outputId": "376fcafe-d511-4fbd-b364-39b27b1ab838",
        "colab": {
          "base_uri": "https://localhost:8080/"
        }
      },
      "outputs": [
        {
          "output_type": "stream",
          "name": "stdout",
          "text": [
            "Person         Wes McKinney\n",
            "Who       Creator of Pandas\n",
            "dtype: object\n"
          ]
        }
      ],
      "source": [
        "s = pd.Series(['Wes McKinney', 'Creator of Pandas'], index=['Person', 'Who'])\n",
        "print(s)"
      ]
    },
    {
      "cell_type": "markdown",
      "metadata": {
        "id": "HNWj0xV2eKAx"
      },
      "source": [
        "### 3. 데이터프레임 만들기"
      ]
    },
    {
      "cell_type": "code",
      "execution_count": 4,
      "metadata": {
        "id": "CU_NMuPceKAx",
        "outputId": "ccacbbe0-ac6f-4970-b724-edd439ac9869",
        "colab": {
          "base_uri": "https://localhost:8080/"
        }
      },
      "outputs": [
        {
          "output_type": "stream",
          "name": "stdout",
          "text": [
            "                Name    Occupation        Born        Died  Age\n",
            "0  Rosaline Franklin       Chemist  1920-07-25  1958-04-16   37\n",
            "1     William Gosset  Statistician  1876-06-13  1937-10-16   61\n"
          ]
        }
      ],
      "source": [
        "scientists = pd.DataFrame({ \n",
        "    'Name': ['Rosaline Franklin', 'William Gosset'], \n",
        "    'Occupation': ['Chemist', 'Statistician'], \n",
        "    'Born': ['1920-07-25', '1876-06-13'], \n",
        "    'Died': ['1958-04-16', '1937-10-16'], \n",
        "    'Age': [37, 61]}) \n",
        "print(scientists)"
      ]
    },
    {
      "cell_type": "code",
      "execution_count": null,
      "metadata": {
        "id": "9pElHpBAeKAy",
        "outputId": "8dee96e1-8c54-40c3-d70c-e24042118e64"
      },
      "outputs": [
        {
          "name": "stdout",
          "output_type": "stream",
          "text": [
            "                     Occupation        Born  Age        Died\n",
            "Rosaline Franklin       Chemist  1920-07-25   37  1958-04-16\n",
            "William Gosset     Statistician  1876-06-13   61  1937-10-16\n"
          ]
        }
      ],
      "source": [
        "scientists = pd.DataFrame( \n",
        "    data={'Occupation': ['Chemist', 'Statistician'], \n",
        "          'Born': ['1920-07-25', '1876-06-13'], \n",
        "          'Died': ['1958-04-16', '1937-10-16'],\n",
        "          'Age': [37, 61]},\n",
        "    index=['Rosaline Franklin', 'William Gosset'],\n",
        "    columns=['Occupation', 'Born', 'Age', 'Died']) \n",
        "print(scientists)"
      ]
    },
    {
      "cell_type": "code",
      "execution_count": null,
      "metadata": {
        "id": "GzPmztcxeKAy",
        "outputId": "b9b252ef-9a01-4c89-c0c0-988b29005ae6"
      },
      "outputs": [
        {
          "name": "stdout",
          "output_type": "stream",
          "text": [
            "                Name    Occupation        Born        Died  Age\n",
            "0  Rosaline Franklin       Chemist  1920-07-25  1958-04-16   37\n",
            "1     William Gosset  Statistician  1876-06-13  1937-10-16   61\n"
          ]
        }
      ],
      "source": [
        "from collections import OrderedDict\n",
        "\n",
        "scientists = pd.DataFrame(OrderedDict([ \n",
        "    ('Name', ['Rosaline Franklin', 'William Gosset']),\n",
        "    ('Occupation', ['Chemist', 'Statistician']), \n",
        "    ('Born', ['1920-07-25', '1876-06-13']), \n",
        "    ('Died', ['1958-04-16', '1937-10-16']), \n",
        "    ('Age', [37, 61])\n",
        "])\n",
        ") \n",
        "print(scientists)"
      ]
    },
    {
      "cell_type": "markdown",
      "metadata": {
        "id": "xBx5i_4AeKAz"
      },
      "source": [
        "# 직접 해보세요!\n",
        "## 데이터프레임에서 시리즈 선택하기(54쪽)"
      ]
    },
    {
      "cell_type": "code",
      "execution_count": 5,
      "metadata": {
        "id": "HcjMbxPzeKA0"
      },
      "outputs": [],
      "source": [
        "scientists = pd.DataFrame(\n",
        "    data={'Occupation': ['Chemist', 'Statistician'], \n",
        "          'Born': ['1920-07-25', '1876-06-13'], \n",
        "          'Died': ['1958-04-16', '1937-10-16'],\n",
        "          'Age': [37, 61]},\n",
        "    index=['Rosaline Franklin', 'William Gosset'],\n",
        "    columns=['Occupation', 'Born', 'Died', 'Age']) "
      ]
    },
    {
      "cell_type": "code",
      "execution_count": 6,
      "metadata": {
        "id": "kfqCL7p4eKA0",
        "outputId": "c79b3c56-1068-46bf-f596-740418865df3",
        "colab": {
          "base_uri": "https://localhost:8080/"
        }
      },
      "outputs": [
        {
          "output_type": "stream",
          "name": "stdout",
          "text": [
            "<class 'pandas.core.series.Series'>\n"
          ]
        }
      ],
      "source": [
        "first_row = scientists.loc['William Gosset'] \n",
        "print(type(first_row))"
      ]
    },
    {
      "cell_type": "code",
      "execution_count": 7,
      "metadata": {
        "id": "x0T1BAlJeKA1",
        "outputId": "176c6f2d-2eb2-46fe-9b12-0952603f94ed",
        "colab": {
          "base_uri": "https://localhost:8080/"
        }
      },
      "outputs": [
        {
          "output_type": "stream",
          "name": "stdout",
          "text": [
            "Occupation    Statistician\n",
            "Born            1876-06-13\n",
            "Died            1937-10-16\n",
            "Age                     61\n",
            "Name: William Gosset, dtype: object\n"
          ]
        }
      ],
      "source": [
        "print(first_row)"
      ]
    },
    {
      "cell_type": "markdown",
      "metadata": {
        "id": "iG_vUXEeeKA1"
      },
      "source": [
        "# 직접 해보세요!\n",
        "## index, values 속성과 keys 메서드 사용하기(55쪽)"
      ]
    },
    {
      "cell_type": "markdown",
      "metadata": {
        "id": "1n2Z_T2xeKA1"
      },
      "source": [
        "### 1. index 속성 사용하기"
      ]
    },
    {
      "cell_type": "code",
      "execution_count": 8,
      "metadata": {
        "scrolled": true,
        "id": "p0g9PJ6WeKA2",
        "outputId": "091689c1-8cb0-4e81-9b90-b4ca674b90fa",
        "colab": {
          "base_uri": "https://localhost:8080/"
        }
      },
      "outputs": [
        {
          "output_type": "stream",
          "name": "stdout",
          "text": [
            "Index(['Occupation', 'Born', 'Died', 'Age'], dtype='object')\n"
          ]
        }
      ],
      "source": [
        "print(first_row.index)"
      ]
    },
    {
      "cell_type": "markdown",
      "metadata": {
        "id": "tsFk8SbreKA2"
      },
      "source": [
        "### 2. values 속성 사용하기"
      ]
    },
    {
      "cell_type": "code",
      "execution_count": 9,
      "metadata": {
        "scrolled": true,
        "id": "bh3v1NWbeKA2",
        "outputId": "60048f48-b8ec-478d-c7e8-fc46d947b571",
        "colab": {
          "base_uri": "https://localhost:8080/"
        }
      },
      "outputs": [
        {
          "output_type": "stream",
          "name": "stdout",
          "text": [
            "['Statistician' '1876-06-13' '1937-10-16' 61]\n"
          ]
        }
      ],
      "source": [
        "print(first_row.values)"
      ]
    },
    {
      "cell_type": "markdown",
      "metadata": {
        "id": "qffUhQuOeKA2"
      },
      "source": [
        "### 3. keys 메서드 사용하기"
      ]
    },
    {
      "cell_type": "code",
      "execution_count": null,
      "metadata": {
        "id": "e_jN_8MieKA3",
        "outputId": "2f533253-6e59-4360-b6e3-2cec3b8e2213"
      },
      "outputs": [
        {
          "name": "stdout",
          "output_type": "stream",
          "text": [
            "Index(['Occupation', 'Born', 'Died', 'Age'], dtype='object')\n"
          ]
        }
      ],
      "source": [
        "print(first_row.keys())"
      ]
    },
    {
      "cell_type": "markdown",
      "metadata": {
        "id": "S8BN4AKHeKA3"
      },
      "source": [
        "### 4. index 속성 응용하기"
      ]
    },
    {
      "cell_type": "code",
      "execution_count": 10,
      "metadata": {
        "id": "falkLcfpeKA4",
        "outputId": "8360ff9c-e098-4a78-cb2e-cd1de7513df2",
        "colab": {
          "base_uri": "https://localhost:8080/"
        }
      },
      "outputs": [
        {
          "output_type": "stream",
          "name": "stdout",
          "text": [
            "Occupation\n"
          ]
        }
      ],
      "source": [
        "print(first_row.index[0])"
      ]
    },
    {
      "cell_type": "markdown",
      "metadata": {
        "id": "ZOzpigiNeKA4"
      },
      "source": [
        "### 5. keys 메서드와 index 속성 응용하기"
      ]
    },
    {
      "cell_type": "code",
      "execution_count": 11,
      "metadata": {
        "scrolled": true,
        "id": "NFnhzAMceKA4",
        "outputId": "e799587e-97b9-4dab-f7a7-799c84bde6e2",
        "colab": {
          "base_uri": "https://localhost:8080/"
        }
      },
      "outputs": [
        {
          "output_type": "stream",
          "name": "stdout",
          "text": [
            "Occupation\n"
          ]
        }
      ],
      "source": [
        "print(first_row.keys()[0])"
      ]
    },
    {
      "cell_type": "markdown",
      "metadata": {
        "id": "V4GYl2zUeKA6"
      },
      "source": [
        "# 직접 해보세요!\n",
        "## 시리즈의 mean, min, max, std 메서드 사용하기(56쪽)"
      ]
    },
    {
      "cell_type": "code",
      "source": [
        "ages.describe()"
      ],
      "metadata": {
        "id": "YCi_TMnMpZbZ",
        "outputId": "3a45b90e-25c6-48a9-bf36-6adcf0898c10",
        "colab": {
          "base_uri": "https://localhost:8080/"
        }
      },
      "execution_count": 17,
      "outputs": [
        {
          "output_type": "execute_result",
          "data": {
            "text/plain": [
              "count     2.000000\n",
              "mean     49.000000\n",
              "std      16.970563\n",
              "min      37.000000\n",
              "25%      43.000000\n",
              "50%      49.000000\n",
              "75%      55.000000\n",
              "max      61.000000\n",
              "Name: Age, dtype: float64"
            ]
          },
          "metadata": {},
          "execution_count": 17
        }
      ]
    },
    {
      "cell_type": "code",
      "execution_count": 12,
      "metadata": {
        "id": "JfVNMIsZeKA7",
        "outputId": "e3811e58-d212-45e2-f01a-e615b6f5cd0d",
        "colab": {
          "base_uri": "https://localhost:8080/"
        }
      },
      "outputs": [
        {
          "output_type": "stream",
          "name": "stdout",
          "text": [
            "Rosaline Franklin    37\n",
            "William Gosset       61\n",
            "Name: Age, dtype: int64\n"
          ]
        }
      ],
      "source": [
        "ages = scientists['Age'] \n",
        "print(ages)"
      ]
    },
    {
      "cell_type": "code",
      "execution_count": 13,
      "metadata": {
        "id": "VZyZgeAgeKA7",
        "outputId": "bf09ec61-9c97-4c25-87bd-253e6918f6cd",
        "colab": {
          "base_uri": "https://localhost:8080/"
        }
      },
      "outputs": [
        {
          "output_type": "stream",
          "name": "stdout",
          "text": [
            "49.0\n"
          ]
        }
      ],
      "source": [
        "print(ages.mean())"
      ]
    },
    {
      "cell_type": "code",
      "execution_count": 14,
      "metadata": {
        "id": "fytMaD_eeKA7",
        "outputId": "b67ff3b0-0aee-4171-fb39-6cf615cbfdf1",
        "colab": {
          "base_uri": "https://localhost:8080/"
        }
      },
      "outputs": [
        {
          "output_type": "stream",
          "name": "stdout",
          "text": [
            "37\n"
          ]
        }
      ],
      "source": [
        "print(ages.min())"
      ]
    },
    {
      "cell_type": "code",
      "execution_count": 15,
      "metadata": {
        "id": "S6JQdh65eKA7",
        "outputId": "44bdfa12-5383-4521-ed05-35678274d06c",
        "colab": {
          "base_uri": "https://localhost:8080/"
        }
      },
      "outputs": [
        {
          "output_type": "stream",
          "name": "stdout",
          "text": [
            "61\n"
          ]
        }
      ],
      "source": [
        "print(ages.max())"
      ]
    },
    {
      "cell_type": "code",
      "execution_count": 16,
      "metadata": {
        "id": "JLRi6sDMeKA7",
        "outputId": "768cd2c2-350d-4b60-eccc-371f10fce218",
        "colab": {
          "base_uri": "https://localhost:8080/"
        }
      },
      "outputs": [
        {
          "output_type": "stream",
          "name": "stdout",
          "text": [
            "16.97056274847714\n"
          ]
        }
      ],
      "source": [
        "print(ages.std())"
      ]
    },
    {
      "cell_type": "markdown",
      "metadata": {
        "id": "FJ7EWzfgeKA8"
      },
      "source": [
        "# 직접 해보세요!\n",
        "## 시리즈와 불린 추출 사용하기(59쪽)"
      ]
    },
    {
      "cell_type": "code",
      "source": [
        "import pandas as pd\n",
        "from google.colab import files\n",
        "uploaded = files.upload()"
      ],
      "metadata": {
        "id": "xGcSynxPglRB",
        "outputId": "54283719-0543-4070-b6e0-6468951e64dc",
        "colab": {
          "base_uri": "https://localhost:8080/",
          "height": 77
        }
      },
      "execution_count": 3,
      "outputs": [
        {
          "output_type": "display_data",
          "data": {
            "text/plain": [
              "<IPython.core.display.HTML object>"
            ],
            "text/html": [
              "\n",
              "     <input type=\"file\" id=\"files-1c2fb0b1-4a99-43af-9d69-138ef9e8bb31\" name=\"files[]\" multiple disabled\n",
              "        style=\"border:none\" />\n",
              "     <output id=\"result-1c2fb0b1-4a99-43af-9d69-138ef9e8bb31\">\n",
              "      Upload widget is only available when the cell has been executed in the\n",
              "      current browser session. Please rerun this cell to enable.\n",
              "      </output>\n",
              "      <script>// Copyright 2017 Google LLC\n",
              "//\n",
              "// Licensed under the Apache License, Version 2.0 (the \"License\");\n",
              "// you may not use this file except in compliance with the License.\n",
              "// You may obtain a copy of the License at\n",
              "//\n",
              "//      http://www.apache.org/licenses/LICENSE-2.0\n",
              "//\n",
              "// Unless required by applicable law or agreed to in writing, software\n",
              "// distributed under the License is distributed on an \"AS IS\" BASIS,\n",
              "// WITHOUT WARRANTIES OR CONDITIONS OF ANY KIND, either express or implied.\n",
              "// See the License for the specific language governing permissions and\n",
              "// limitations under the License.\n",
              "\n",
              "/**\n",
              " * @fileoverview Helpers for google.colab Python module.\n",
              " */\n",
              "(function(scope) {\n",
              "function span(text, styleAttributes = {}) {\n",
              "  const element = document.createElement('span');\n",
              "  element.textContent = text;\n",
              "  for (const key of Object.keys(styleAttributes)) {\n",
              "    element.style[key] = styleAttributes[key];\n",
              "  }\n",
              "  return element;\n",
              "}\n",
              "\n",
              "// Max number of bytes which will be uploaded at a time.\n",
              "const MAX_PAYLOAD_SIZE = 100 * 1024;\n",
              "\n",
              "function _uploadFiles(inputId, outputId) {\n",
              "  const steps = uploadFilesStep(inputId, outputId);\n",
              "  const outputElement = document.getElementById(outputId);\n",
              "  // Cache steps on the outputElement to make it available for the next call\n",
              "  // to uploadFilesContinue from Python.\n",
              "  outputElement.steps = steps;\n",
              "\n",
              "  return _uploadFilesContinue(outputId);\n",
              "}\n",
              "\n",
              "// This is roughly an async generator (not supported in the browser yet),\n",
              "// where there are multiple asynchronous steps and the Python side is going\n",
              "// to poll for completion of each step.\n",
              "// This uses a Promise to block the python side on completion of each step,\n",
              "// then passes the result of the previous step as the input to the next step.\n",
              "function _uploadFilesContinue(outputId) {\n",
              "  const outputElement = document.getElementById(outputId);\n",
              "  const steps = outputElement.steps;\n",
              "\n",
              "  const next = steps.next(outputElement.lastPromiseValue);\n",
              "  return Promise.resolve(next.value.promise).then((value) => {\n",
              "    // Cache the last promise value to make it available to the next\n",
              "    // step of the generator.\n",
              "    outputElement.lastPromiseValue = value;\n",
              "    return next.value.response;\n",
              "  });\n",
              "}\n",
              "\n",
              "/**\n",
              " * Generator function which is called between each async step of the upload\n",
              " * process.\n",
              " * @param {string} inputId Element ID of the input file picker element.\n",
              " * @param {string} outputId Element ID of the output display.\n",
              " * @return {!Iterable<!Object>} Iterable of next steps.\n",
              " */\n",
              "function* uploadFilesStep(inputId, outputId) {\n",
              "  const inputElement = document.getElementById(inputId);\n",
              "  inputElement.disabled = false;\n",
              "\n",
              "  const outputElement = document.getElementById(outputId);\n",
              "  outputElement.innerHTML = '';\n",
              "\n",
              "  const pickedPromise = new Promise((resolve) => {\n",
              "    inputElement.addEventListener('change', (e) => {\n",
              "      resolve(e.target.files);\n",
              "    });\n",
              "  });\n",
              "\n",
              "  const cancel = document.createElement('button');\n",
              "  inputElement.parentElement.appendChild(cancel);\n",
              "  cancel.textContent = 'Cancel upload';\n",
              "  const cancelPromise = new Promise((resolve) => {\n",
              "    cancel.onclick = () => {\n",
              "      resolve(null);\n",
              "    };\n",
              "  });\n",
              "\n",
              "  // Wait for the user to pick the files.\n",
              "  const files = yield {\n",
              "    promise: Promise.race([pickedPromise, cancelPromise]),\n",
              "    response: {\n",
              "      action: 'starting',\n",
              "    }\n",
              "  };\n",
              "\n",
              "  cancel.remove();\n",
              "\n",
              "  // Disable the input element since further picks are not allowed.\n",
              "  inputElement.disabled = true;\n",
              "\n",
              "  if (!files) {\n",
              "    return {\n",
              "      response: {\n",
              "        action: 'complete',\n",
              "      }\n",
              "    };\n",
              "  }\n",
              "\n",
              "  for (const file of files) {\n",
              "    const li = document.createElement('li');\n",
              "    li.append(span(file.name, {fontWeight: 'bold'}));\n",
              "    li.append(span(\n",
              "        `(${file.type || 'n/a'}) - ${file.size} bytes, ` +\n",
              "        `last modified: ${\n",
              "            file.lastModifiedDate ? file.lastModifiedDate.toLocaleDateString() :\n",
              "                                    'n/a'} - `));\n",
              "    const percent = span('0% done');\n",
              "    li.appendChild(percent);\n",
              "\n",
              "    outputElement.appendChild(li);\n",
              "\n",
              "    const fileDataPromise = new Promise((resolve) => {\n",
              "      const reader = new FileReader();\n",
              "      reader.onload = (e) => {\n",
              "        resolve(e.target.result);\n",
              "      };\n",
              "      reader.readAsArrayBuffer(file);\n",
              "    });\n",
              "    // Wait for the data to be ready.\n",
              "    let fileData = yield {\n",
              "      promise: fileDataPromise,\n",
              "      response: {\n",
              "        action: 'continue',\n",
              "      }\n",
              "    };\n",
              "\n",
              "    // Use a chunked sending to avoid message size limits. See b/62115660.\n",
              "    let position = 0;\n",
              "    do {\n",
              "      const length = Math.min(fileData.byteLength - position, MAX_PAYLOAD_SIZE);\n",
              "      const chunk = new Uint8Array(fileData, position, length);\n",
              "      position += length;\n",
              "\n",
              "      const base64 = btoa(String.fromCharCode.apply(null, chunk));\n",
              "      yield {\n",
              "        response: {\n",
              "          action: 'append',\n",
              "          file: file.name,\n",
              "          data: base64,\n",
              "        },\n",
              "      };\n",
              "\n",
              "      let percentDone = fileData.byteLength === 0 ?\n",
              "          100 :\n",
              "          Math.round((position / fileData.byteLength) * 100);\n",
              "      percent.textContent = `${percentDone}% done`;\n",
              "\n",
              "    } while (position < fileData.byteLength);\n",
              "  }\n",
              "\n",
              "  // All done.\n",
              "  yield {\n",
              "    response: {\n",
              "      action: 'complete',\n",
              "    }\n",
              "  };\n",
              "}\n",
              "\n",
              "scope.google = scope.google || {};\n",
              "scope.google.colab = scope.google.colab || {};\n",
              "scope.google.colab._files = {\n",
              "  _uploadFiles,\n",
              "  _uploadFilesContinue,\n",
              "};\n",
              "})(self);\n",
              "</script> "
            ]
          },
          "metadata": {}
        },
        {
          "output_type": "stream",
          "name": "stdout",
          "text": [
            "Saving scientists.csv to scientists (1).csv\n"
          ]
        }
      ]
    },
    {
      "cell_type": "code",
      "execution_count": 7,
      "metadata": {
        "id": "U-KjAYPreKA8"
      },
      "outputs": [],
      "source": [
        "scientists = pd.read_csv('scientists.csv')"
      ]
    },
    {
      "cell_type": "code",
      "source": [
        "scientists.head()"
      ],
      "metadata": {
        "id": "grxgJ51BhIpT",
        "outputId": "cf85be49-d2a1-42d4-d64b-7e9da386b425",
        "colab": {
          "base_uri": "https://localhost:8080/",
          "height": 206
        }
      },
      "execution_count": 9,
      "outputs": [
        {
          "output_type": "execute_result",
          "data": {
            "text/plain": [
              "                   Name        Born        Died  Age    Occupation\n",
              "0     Rosaline Franklin  1920-07-25  1958-04-16   37       Chemist\n",
              "1        William Gosset  1876-06-13  1937-10-16   61  Statistician\n",
              "2  Florence Nightingale  1820-05-12  1910-08-13   90         Nurse\n",
              "3           Marie Curie  1867-11-07  1934-07-04   66       Chemist\n",
              "4         Rachel Carson  1907-05-27  1964-04-14   56     Biologist"
            ],
            "text/html": [
              "\n",
              "  <div id=\"df-42462981-36be-4f8a-822b-681559b8b8c8\">\n",
              "    <div class=\"colab-df-container\">\n",
              "      <div>\n",
              "<style scoped>\n",
              "    .dataframe tbody tr th:only-of-type {\n",
              "        vertical-align: middle;\n",
              "    }\n",
              "\n",
              "    .dataframe tbody tr th {\n",
              "        vertical-align: top;\n",
              "    }\n",
              "\n",
              "    .dataframe thead th {\n",
              "        text-align: right;\n",
              "    }\n",
              "</style>\n",
              "<table border=\"1\" class=\"dataframe\">\n",
              "  <thead>\n",
              "    <tr style=\"text-align: right;\">\n",
              "      <th></th>\n",
              "      <th>Name</th>\n",
              "      <th>Born</th>\n",
              "      <th>Died</th>\n",
              "      <th>Age</th>\n",
              "      <th>Occupation</th>\n",
              "    </tr>\n",
              "  </thead>\n",
              "  <tbody>\n",
              "    <tr>\n",
              "      <th>0</th>\n",
              "      <td>Rosaline Franklin</td>\n",
              "      <td>1920-07-25</td>\n",
              "      <td>1958-04-16</td>\n",
              "      <td>37</td>\n",
              "      <td>Chemist</td>\n",
              "    </tr>\n",
              "    <tr>\n",
              "      <th>1</th>\n",
              "      <td>William Gosset</td>\n",
              "      <td>1876-06-13</td>\n",
              "      <td>1937-10-16</td>\n",
              "      <td>61</td>\n",
              "      <td>Statistician</td>\n",
              "    </tr>\n",
              "    <tr>\n",
              "      <th>2</th>\n",
              "      <td>Florence Nightingale</td>\n",
              "      <td>1820-05-12</td>\n",
              "      <td>1910-08-13</td>\n",
              "      <td>90</td>\n",
              "      <td>Nurse</td>\n",
              "    </tr>\n",
              "    <tr>\n",
              "      <th>3</th>\n",
              "      <td>Marie Curie</td>\n",
              "      <td>1867-11-07</td>\n",
              "      <td>1934-07-04</td>\n",
              "      <td>66</td>\n",
              "      <td>Chemist</td>\n",
              "    </tr>\n",
              "    <tr>\n",
              "      <th>4</th>\n",
              "      <td>Rachel Carson</td>\n",
              "      <td>1907-05-27</td>\n",
              "      <td>1964-04-14</td>\n",
              "      <td>56</td>\n",
              "      <td>Biologist</td>\n",
              "    </tr>\n",
              "  </tbody>\n",
              "</table>\n",
              "</div>\n",
              "      <button class=\"colab-df-convert\" onclick=\"convertToInteractive('df-42462981-36be-4f8a-822b-681559b8b8c8')\"\n",
              "              title=\"Convert this dataframe to an interactive table.\"\n",
              "              style=\"display:none;\">\n",
              "        \n",
              "  <svg xmlns=\"http://www.w3.org/2000/svg\" height=\"24px\"viewBox=\"0 0 24 24\"\n",
              "       width=\"24px\">\n",
              "    <path d=\"M0 0h24v24H0V0z\" fill=\"none\"/>\n",
              "    <path d=\"M18.56 5.44l.94 2.06.94-2.06 2.06-.94-2.06-.94-.94-2.06-.94 2.06-2.06.94zm-11 1L8.5 8.5l.94-2.06 2.06-.94-2.06-.94L8.5 2.5l-.94 2.06-2.06.94zm10 10l.94 2.06.94-2.06 2.06-.94-2.06-.94-.94-2.06-.94 2.06-2.06.94z\"/><path d=\"M17.41 7.96l-1.37-1.37c-.4-.4-.92-.59-1.43-.59-.52 0-1.04.2-1.43.59L10.3 9.45l-7.72 7.72c-.78.78-.78 2.05 0 2.83L4 21.41c.39.39.9.59 1.41.59.51 0 1.02-.2 1.41-.59l7.78-7.78 2.81-2.81c.8-.78.8-2.07 0-2.86zM5.41 20L4 18.59l7.72-7.72 1.47 1.35L5.41 20z\"/>\n",
              "  </svg>\n",
              "      </button>\n",
              "      \n",
              "  <style>\n",
              "    .colab-df-container {\n",
              "      display:flex;\n",
              "      flex-wrap:wrap;\n",
              "      gap: 12px;\n",
              "    }\n",
              "\n",
              "    .colab-df-convert {\n",
              "      background-color: #E8F0FE;\n",
              "      border: none;\n",
              "      border-radius: 50%;\n",
              "      cursor: pointer;\n",
              "      display: none;\n",
              "      fill: #1967D2;\n",
              "      height: 32px;\n",
              "      padding: 0 0 0 0;\n",
              "      width: 32px;\n",
              "    }\n",
              "\n",
              "    .colab-df-convert:hover {\n",
              "      background-color: #E2EBFA;\n",
              "      box-shadow: 0px 1px 2px rgba(60, 64, 67, 0.3), 0px 1px 3px 1px rgba(60, 64, 67, 0.15);\n",
              "      fill: #174EA6;\n",
              "    }\n",
              "\n",
              "    [theme=dark] .colab-df-convert {\n",
              "      background-color: #3B4455;\n",
              "      fill: #D2E3FC;\n",
              "    }\n",
              "\n",
              "    [theme=dark] .colab-df-convert:hover {\n",
              "      background-color: #434B5C;\n",
              "      box-shadow: 0px 1px 3px 1px rgba(0, 0, 0, 0.15);\n",
              "      filter: drop-shadow(0px 1px 2px rgba(0, 0, 0, 0.3));\n",
              "      fill: #FFFFFF;\n",
              "    }\n",
              "  </style>\n",
              "\n",
              "      <script>\n",
              "        const buttonEl =\n",
              "          document.querySelector('#df-42462981-36be-4f8a-822b-681559b8b8c8 button.colab-df-convert');\n",
              "        buttonEl.style.display =\n",
              "          google.colab.kernel.accessAllowed ? 'block' : 'none';\n",
              "\n",
              "        async function convertToInteractive(key) {\n",
              "          const element = document.querySelector('#df-42462981-36be-4f8a-822b-681559b8b8c8');\n",
              "          const dataTable =\n",
              "            await google.colab.kernel.invokeFunction('convertToInteractive',\n",
              "                                                     [key], {});\n",
              "          if (!dataTable) return;\n",
              "\n",
              "          const docLinkHtml = 'Like what you see? Visit the ' +\n",
              "            '<a target=\"_blank\" href=https://colab.research.google.com/notebooks/data_table.ipynb>data table notebook</a>'\n",
              "            + ' to learn more about interactive tables.';\n",
              "          element.innerHTML = '';\n",
              "          dataTable['output_type'] = 'display_data';\n",
              "          await google.colab.output.renderOutput(dataTable, element);\n",
              "          const docLink = document.createElement('div');\n",
              "          docLink.innerHTML = docLinkHtml;\n",
              "          element.appendChild(docLink);\n",
              "        }\n",
              "      </script>\n",
              "    </div>\n",
              "  </div>\n",
              "  "
            ]
          },
          "metadata": {},
          "execution_count": 9
        }
      ]
    },
    {
      "cell_type": "code",
      "execution_count": 8,
      "metadata": {
        "id": "oWVXTBireKA8",
        "outputId": "a2a8536a-8979-4e8b-cdd7-682cd6d60c31",
        "colab": {
          "base_uri": "https://localhost:8080/"
        }
      },
      "outputs": [
        {
          "output_type": "stream",
          "name": "stdout",
          "text": [
            "90\n"
          ]
        }
      ],
      "source": [
        "ages = scientists['Age'] \n",
        "\n",
        "print(ages.max())"
      ]
    },
    {
      "cell_type": "code",
      "execution_count": null,
      "metadata": {
        "id": "S4pJbOLFeKA8",
        "outputId": "078e172a-6662-4a26-fd90-02f3b8b64b4a"
      },
      "outputs": [
        {
          "name": "stdout",
          "output_type": "stream",
          "text": [
            "59.125\n"
          ]
        }
      ],
      "source": [
        "print(ages.mean())"
      ]
    },
    {
      "cell_type": "code",
      "execution_count": 10,
      "metadata": {
        "id": "Jtbvv_yceKA8",
        "outputId": "c0b23c6a-eb49-454c-9add-cba092de0c76",
        "colab": {
          "base_uri": "https://localhost:8080/"
        }
      },
      "outputs": [
        {
          "output_type": "stream",
          "name": "stdout",
          "text": [
            "1    61\n",
            "2    90\n",
            "3    66\n",
            "7    77\n",
            "Name: Age, dtype: int64\n"
          ]
        }
      ],
      "source": [
        "print(ages[ages > ages.mean()])"
      ]
    },
    {
      "cell_type": "code",
      "execution_count": null,
      "metadata": {
        "id": "_jtNtL4SeKA8",
        "outputId": "bccb0b7f-7528-4cfe-d682-2ae17bef2891"
      },
      "outputs": [
        {
          "name": "stdout",
          "output_type": "stream",
          "text": [
            "0    False\n",
            "1     True\n",
            "2     True\n",
            "3     True\n",
            "4    False\n",
            "5    False\n",
            "6    False\n",
            "7     True\n",
            "Name: Age, dtype: bool\n"
          ]
        }
      ],
      "source": [
        "print(ages > ages.mean())"
      ]
    },
    {
      "cell_type": "code",
      "execution_count": 11,
      "metadata": {
        "id": "HD3A-MWzeKA9",
        "outputId": "02503cc2-d0b4-4763-d09e-c5c34ef22fb5",
        "colab": {
          "base_uri": "https://localhost:8080/"
        }
      },
      "outputs": [
        {
          "output_type": "stream",
          "name": "stdout",
          "text": [
            "<class 'pandas.core.series.Series'>\n"
          ]
        }
      ],
      "source": [
        "print(type(ages > ages.mean()))"
      ]
    },
    {
      "cell_type": "code",
      "execution_count": 12,
      "metadata": {
        "id": "ATJVbbfCeKA9",
        "outputId": "700dd5fa-1785-406f-bcd7-29d84524f579",
        "colab": {
          "base_uri": "https://localhost:8080/"
        }
      },
      "outputs": [
        {
          "output_type": "stream",
          "name": "stdout",
          "text": [
            "0    37\n",
            "1    61\n",
            "4    56\n",
            "5    45\n",
            "7    77\n",
            "Name: Age, dtype: int64\n"
          ]
        }
      ],
      "source": [
        "manual_bool_values = [True, True, False, False, True, True, False, True] \n",
        "print(ages[manual_bool_values])"
      ]
    },
    {
      "cell_type": "markdown",
      "metadata": {
        "id": "Gnm8iL4AeKA9"
      },
      "source": [
        "# 직접 해보세요!\n",
        "## 벡터와 스칼라로 브로드캐스팅 수행하기(61쪽)"
      ]
    },
    {
      "cell_type": "code",
      "execution_count": 13,
      "metadata": {
        "id": "UBpZ_1GPeKA9",
        "outputId": "024599a5-68aa-4771-f33d-9184551a5a9f",
        "colab": {
          "base_uri": "https://localhost:8080/"
        }
      },
      "outputs": [
        {
          "output_type": "execute_result",
          "data": {
            "text/plain": [
              "0     74\n",
              "1    122\n",
              "2    180\n",
              "3    132\n",
              "4    112\n",
              "5     90\n",
              "6     82\n",
              "7    154\n",
              "Name: Age, dtype: int64"
            ]
          },
          "metadata": {},
          "execution_count": 13
        }
      ],
      "source": [
        "ages + ages"
      ]
    },
    {
      "cell_type": "code",
      "execution_count": null,
      "metadata": {
        "id": "GRjZy2kJeKA9",
        "outputId": "f4fa97d1-1888-4209-9482-5108adc938d5"
      },
      "outputs": [
        {
          "name": "stdout",
          "output_type": "stream",
          "text": [
            "0    1369\n",
            "1    3721\n",
            "2    8100\n",
            "3    4356\n",
            "4    3136\n",
            "5    2025\n",
            "6    1681\n",
            "7    5929\n",
            "Name: Age, dtype: int64\n"
          ]
        }
      ],
      "source": [
        "print(ages * ages)"
      ]
    },
    {
      "cell_type": "code",
      "execution_count": null,
      "metadata": {
        "id": "L6gJe5XZeKA-",
        "outputId": "19f09b6c-f135-4b98-93b5-7ad356c43e7e"
      },
      "outputs": [
        {
          "name": "stdout",
          "output_type": "stream",
          "text": [
            "0    137\n",
            "1    161\n",
            "2    190\n",
            "3    166\n",
            "4    156\n",
            "5    145\n",
            "6    141\n",
            "7    177\n",
            "Name: Age, dtype: int64\n"
          ]
        }
      ],
      "source": [
        "print(ages + 100)"
      ]
    },
    {
      "cell_type": "code",
      "execution_count": null,
      "metadata": {
        "id": "JyVzLHN3eKA-",
        "outputId": "a3968c30-d985-4eac-c525-b40fe8dac8b7"
      },
      "outputs": [
        {
          "name": "stdout",
          "output_type": "stream",
          "text": [
            "0     74\n",
            "1    122\n",
            "2    180\n",
            "3    132\n",
            "4    112\n",
            "5     90\n",
            "6     82\n",
            "7    154\n",
            "Name: Age, dtype: int64\n"
          ]
        }
      ],
      "source": [
        "print(ages * 2)"
      ]
    },
    {
      "cell_type": "code",
      "execution_count": null,
      "metadata": {
        "id": "qJ98_OsreKA-",
        "outputId": "7cfd718a-bb03-46f4-a738-9887ee5c981c"
      },
      "outputs": [
        {
          "name": "stdout",
          "output_type": "stream",
          "text": [
            "0      1\n",
            "1    100\n",
            "dtype: int64\n"
          ]
        }
      ],
      "source": [
        "print(pd.Series([1, 100]))"
      ]
    },
    {
      "cell_type": "code",
      "execution_count": null,
      "metadata": {
        "id": "EmvVmxUxeKA-",
        "outputId": "d20f20df-7a3f-4192-c130-730e316789b5"
      },
      "outputs": [
        {
          "name": "stdout",
          "output_type": "stream",
          "text": [
            "0     38.0\n",
            "1    161.0\n",
            "2      NaN\n",
            "3      NaN\n",
            "4      NaN\n",
            "5      NaN\n",
            "6      NaN\n",
            "7      NaN\n",
            "dtype: float64\n"
          ]
        }
      ],
      "source": [
        "print(ages + pd.Series([1, 100]))\n"
      ]
    },
    {
      "cell_type": "code",
      "execution_count": 16,
      "metadata": {
        "id": "lWKCQRSBeKA-",
        "outputId": "65d20c09-5b87-4512-b268-e8107548ad15",
        "colab": {
          "base_uri": "https://localhost:8080/"
        }
      },
      "outputs": [
        {
          "output_type": "stream",
          "name": "stdout",
          "text": [
            "7    77\n",
            "6    41\n",
            "5    45\n",
            "4    56\n",
            "3    66\n",
            "2    90\n",
            "1    61\n",
            "0    37\n",
            "Name: Age, dtype: int64\n"
          ]
        }
      ],
      "source": [
        "rev_ages = ages.sort_index(ascending=False) \n",
        "print(rev_ages)"
      ]
    },
    {
      "cell_type": "code",
      "execution_count": null,
      "metadata": {
        "id": "8LwKPdgneKA-",
        "outputId": "3de2f14f-f647-4057-fd32-f0ef2f91c30a"
      },
      "outputs": [
        {
          "name": "stdout",
          "output_type": "stream",
          "text": [
            "0     74\n",
            "1    122\n",
            "2    180\n",
            "3    132\n",
            "4    112\n",
            "5     90\n",
            "6     82\n",
            "7    154\n",
            "Name: Age, dtype: int64\n"
          ]
        }
      ],
      "source": [
        "print(ages * 2)"
      ]
    },
    {
      "cell_type": "code",
      "execution_count": null,
      "metadata": {
        "id": "5c0gEEfyeKA_",
        "outputId": "7799b955-4363-40e9-d0f3-37c90082ce75"
      },
      "outputs": [
        {
          "name": "stdout",
          "output_type": "stream",
          "text": [
            "0     74\n",
            "1    122\n",
            "2    180\n",
            "3    132\n",
            "4    112\n",
            "5     90\n",
            "6     82\n",
            "7    154\n",
            "Name: Age, dtype: int64\n"
          ]
        }
      ],
      "source": [
        "# 벡터와 벡터의 연산은 일치하는 인덱스의 값끼리 수행 \n",
        "print(ages + rev_ages)"
      ]
    },
    {
      "cell_type": "markdown",
      "metadata": {
        "id": "Bk9-g1JVeKA_"
      },
      "source": [
        "# 직접 해보세요!\n",
        "## 불린 추출과 브로드캐스팅(65쪽)"
      ]
    },
    {
      "cell_type": "markdown",
      "source": [
        "- 브로드캐스팅 : 시리즈나 데이터프레임에 있는 모든 데이터에 대해 한 번에 연산하는 것"
      ],
      "metadata": {
        "id": "lTwNvjV0j3H9"
      }
    },
    {
      "cell_type": "code",
      "execution_count": null,
      "metadata": {
        "id": "dm5fqSjUeKA_",
        "outputId": "bbf3dedd-e632-44ef-9b4a-a0a0de03b8d5"
      },
      "outputs": [
        {
          "name": "stdout",
          "output_type": "stream",
          "text": [
            "                   Name        Born        Died  Age     Occupation\n",
            "1        William Gosset  1876-06-13  1937-10-16   61   Statistician\n",
            "2  Florence Nightingale  1820-05-12  1910-08-13   90          Nurse\n",
            "3           Marie Curie  1867-11-07  1934-07-04   66        Chemist\n",
            "7          Johann Gauss  1777-04-30  1855-02-23   77  Mathematician\n"
          ]
        }
      ],
      "source": [
        "print(scientists[scientists['Age'] > scientists['Age'].mean()])"
      ]
    },
    {
      "cell_type": "code",
      "execution_count": null,
      "metadata": {
        "id": "vlZpl0TxeKA_",
        "outputId": "78132873-975a-4990-ab7e-3c042e4a9e3e"
      },
      "outputs": [
        {
          "name": "stdout",
          "output_type": "stream",
          "text": [
            "                Name        Born        Died  Age    Occupation\n",
            "0  Rosaline Franklin  1920-07-25  1958-04-16   37       Chemist\n",
            "1     William Gosset  1876-06-13  1937-10-16   61  Statistician\n",
            "3        Marie Curie  1867-11-07  1934-07-04   66       Chemist\n"
          ]
        }
      ],
      "source": [
        "print(scientists.loc[[True, True, False, True]])"
      ]
    },
    {
      "cell_type": "code",
      "source": [
        "scientists"
      ],
      "metadata": {
        "id": "HPgUsdTxkH2o",
        "outputId": "5e6ef365-03e2-4133-982b-14d9f6c184a8",
        "colab": {
          "base_uri": "https://localhost:8080/",
          "height": 300
        }
      },
      "execution_count": 17,
      "outputs": [
        {
          "output_type": "execute_result",
          "data": {
            "text/plain": [
              "                   Name        Born        Died  Age          Occupation\n",
              "0     Rosaline Franklin  1920-07-25  1958-04-16   37             Chemist\n",
              "1        William Gosset  1876-06-13  1937-10-16   61        Statistician\n",
              "2  Florence Nightingale  1820-05-12  1910-08-13   90               Nurse\n",
              "3           Marie Curie  1867-11-07  1934-07-04   66             Chemist\n",
              "4         Rachel Carson  1907-05-27  1964-04-14   56           Biologist\n",
              "5             John Snow  1813-03-15  1858-06-16   45           Physician\n",
              "6           Alan Turing  1912-06-23  1954-06-07   41  Computer Scientist\n",
              "7          Johann Gauss  1777-04-30  1855-02-23   77       Mathematician"
            ],
            "text/html": [
              "\n",
              "  <div id=\"df-62c0be33-b559-4456-812a-cdf2c4e88cbc\">\n",
              "    <div class=\"colab-df-container\">\n",
              "      <div>\n",
              "<style scoped>\n",
              "    .dataframe tbody tr th:only-of-type {\n",
              "        vertical-align: middle;\n",
              "    }\n",
              "\n",
              "    .dataframe tbody tr th {\n",
              "        vertical-align: top;\n",
              "    }\n",
              "\n",
              "    .dataframe thead th {\n",
              "        text-align: right;\n",
              "    }\n",
              "</style>\n",
              "<table border=\"1\" class=\"dataframe\">\n",
              "  <thead>\n",
              "    <tr style=\"text-align: right;\">\n",
              "      <th></th>\n",
              "      <th>Name</th>\n",
              "      <th>Born</th>\n",
              "      <th>Died</th>\n",
              "      <th>Age</th>\n",
              "      <th>Occupation</th>\n",
              "    </tr>\n",
              "  </thead>\n",
              "  <tbody>\n",
              "    <tr>\n",
              "      <th>0</th>\n",
              "      <td>Rosaline Franklin</td>\n",
              "      <td>1920-07-25</td>\n",
              "      <td>1958-04-16</td>\n",
              "      <td>37</td>\n",
              "      <td>Chemist</td>\n",
              "    </tr>\n",
              "    <tr>\n",
              "      <th>1</th>\n",
              "      <td>William Gosset</td>\n",
              "      <td>1876-06-13</td>\n",
              "      <td>1937-10-16</td>\n",
              "      <td>61</td>\n",
              "      <td>Statistician</td>\n",
              "    </tr>\n",
              "    <tr>\n",
              "      <th>2</th>\n",
              "      <td>Florence Nightingale</td>\n",
              "      <td>1820-05-12</td>\n",
              "      <td>1910-08-13</td>\n",
              "      <td>90</td>\n",
              "      <td>Nurse</td>\n",
              "    </tr>\n",
              "    <tr>\n",
              "      <th>3</th>\n",
              "      <td>Marie Curie</td>\n",
              "      <td>1867-11-07</td>\n",
              "      <td>1934-07-04</td>\n",
              "      <td>66</td>\n",
              "      <td>Chemist</td>\n",
              "    </tr>\n",
              "    <tr>\n",
              "      <th>4</th>\n",
              "      <td>Rachel Carson</td>\n",
              "      <td>1907-05-27</td>\n",
              "      <td>1964-04-14</td>\n",
              "      <td>56</td>\n",
              "      <td>Biologist</td>\n",
              "    </tr>\n",
              "    <tr>\n",
              "      <th>5</th>\n",
              "      <td>John Snow</td>\n",
              "      <td>1813-03-15</td>\n",
              "      <td>1858-06-16</td>\n",
              "      <td>45</td>\n",
              "      <td>Physician</td>\n",
              "    </tr>\n",
              "    <tr>\n",
              "      <th>6</th>\n",
              "      <td>Alan Turing</td>\n",
              "      <td>1912-06-23</td>\n",
              "      <td>1954-06-07</td>\n",
              "      <td>41</td>\n",
              "      <td>Computer Scientist</td>\n",
              "    </tr>\n",
              "    <tr>\n",
              "      <th>7</th>\n",
              "      <td>Johann Gauss</td>\n",
              "      <td>1777-04-30</td>\n",
              "      <td>1855-02-23</td>\n",
              "      <td>77</td>\n",
              "      <td>Mathematician</td>\n",
              "    </tr>\n",
              "  </tbody>\n",
              "</table>\n",
              "</div>\n",
              "      <button class=\"colab-df-convert\" onclick=\"convertToInteractive('df-62c0be33-b559-4456-812a-cdf2c4e88cbc')\"\n",
              "              title=\"Convert this dataframe to an interactive table.\"\n",
              "              style=\"display:none;\">\n",
              "        \n",
              "  <svg xmlns=\"http://www.w3.org/2000/svg\" height=\"24px\"viewBox=\"0 0 24 24\"\n",
              "       width=\"24px\">\n",
              "    <path d=\"M0 0h24v24H0V0z\" fill=\"none\"/>\n",
              "    <path d=\"M18.56 5.44l.94 2.06.94-2.06 2.06-.94-2.06-.94-.94-2.06-.94 2.06-2.06.94zm-11 1L8.5 8.5l.94-2.06 2.06-.94-2.06-.94L8.5 2.5l-.94 2.06-2.06.94zm10 10l.94 2.06.94-2.06 2.06-.94-2.06-.94-.94-2.06-.94 2.06-2.06.94z\"/><path d=\"M17.41 7.96l-1.37-1.37c-.4-.4-.92-.59-1.43-.59-.52 0-1.04.2-1.43.59L10.3 9.45l-7.72 7.72c-.78.78-.78 2.05 0 2.83L4 21.41c.39.39.9.59 1.41.59.51 0 1.02-.2 1.41-.59l7.78-7.78 2.81-2.81c.8-.78.8-2.07 0-2.86zM5.41 20L4 18.59l7.72-7.72 1.47 1.35L5.41 20z\"/>\n",
              "  </svg>\n",
              "      </button>\n",
              "      \n",
              "  <style>\n",
              "    .colab-df-container {\n",
              "      display:flex;\n",
              "      flex-wrap:wrap;\n",
              "      gap: 12px;\n",
              "    }\n",
              "\n",
              "    .colab-df-convert {\n",
              "      background-color: #E8F0FE;\n",
              "      border: none;\n",
              "      border-radius: 50%;\n",
              "      cursor: pointer;\n",
              "      display: none;\n",
              "      fill: #1967D2;\n",
              "      height: 32px;\n",
              "      padding: 0 0 0 0;\n",
              "      width: 32px;\n",
              "    }\n",
              "\n",
              "    .colab-df-convert:hover {\n",
              "      background-color: #E2EBFA;\n",
              "      box-shadow: 0px 1px 2px rgba(60, 64, 67, 0.3), 0px 1px 3px 1px rgba(60, 64, 67, 0.15);\n",
              "      fill: #174EA6;\n",
              "    }\n",
              "\n",
              "    [theme=dark] .colab-df-convert {\n",
              "      background-color: #3B4455;\n",
              "      fill: #D2E3FC;\n",
              "    }\n",
              "\n",
              "    [theme=dark] .colab-df-convert:hover {\n",
              "      background-color: #434B5C;\n",
              "      box-shadow: 0px 1px 3px 1px rgba(0, 0, 0, 0.15);\n",
              "      filter: drop-shadow(0px 1px 2px rgba(0, 0, 0, 0.3));\n",
              "      fill: #FFFFFF;\n",
              "    }\n",
              "  </style>\n",
              "\n",
              "      <script>\n",
              "        const buttonEl =\n",
              "          document.querySelector('#df-62c0be33-b559-4456-812a-cdf2c4e88cbc button.colab-df-convert');\n",
              "        buttonEl.style.display =\n",
              "          google.colab.kernel.accessAllowed ? 'block' : 'none';\n",
              "\n",
              "        async function convertToInteractive(key) {\n",
              "          const element = document.querySelector('#df-62c0be33-b559-4456-812a-cdf2c4e88cbc');\n",
              "          const dataTable =\n",
              "            await google.colab.kernel.invokeFunction('convertToInteractive',\n",
              "                                                     [key], {});\n",
              "          if (!dataTable) return;\n",
              "\n",
              "          const docLinkHtml = 'Like what you see? Visit the ' +\n",
              "            '<a target=\"_blank\" href=https://colab.research.google.com/notebooks/data_table.ipynb>data table notebook</a>'\n",
              "            + ' to learn more about interactive tables.';\n",
              "          element.innerHTML = '';\n",
              "          dataTable['output_type'] = 'display_data';\n",
              "          await google.colab.output.renderOutput(dataTable, element);\n",
              "          const docLink = document.createElement('div');\n",
              "          docLink.innerHTML = docLinkHtml;\n",
              "          element.appendChild(docLink);\n",
              "        }\n",
              "      </script>\n",
              "    </div>\n",
              "  </div>\n",
              "  "
            ]
          },
          "metadata": {},
          "execution_count": 17
        }
      ]
    },
    {
      "cell_type": "code",
      "execution_count": 20,
      "metadata": {
        "id": "MfJnlB5meKA_",
        "outputId": "a3992b07-e48f-469d-e15f-67c5027e2d09",
        "colab": {
          "base_uri": "https://localhost:8080/"
        }
      },
      "outputs": [
        {
          "output_type": "stream",
          "name": "stdout",
          "text": [
            "                                       Name                  Born  \\\n",
            "0        Rosaline FranklinRosaline Franklin  1920-07-251920-07-25   \n",
            "1              William GossetWilliam Gosset  1876-06-131876-06-13   \n",
            "2  Florence NightingaleFlorence Nightingale  1820-05-121820-05-12   \n",
            "3                    Marie CurieMarie Curie  1867-11-071867-11-07   \n",
            "4                Rachel CarsonRachel Carson  1907-05-271907-05-27   \n",
            "5                        John SnowJohn Snow  1813-03-151813-03-15   \n",
            "6                    Alan TuringAlan Turing  1912-06-231912-06-23   \n",
            "7                  Johann GaussJohann Gauss  1777-04-301777-04-30   \n",
            "\n",
            "                   Died  Age                            Occupation  \n",
            "0  1958-04-161958-04-16   74                        ChemistChemist  \n",
            "1  1937-10-161937-10-16  122              StatisticianStatistician  \n",
            "2  1910-08-131910-08-13  180                            NurseNurse  \n",
            "3  1934-07-041934-07-04  132                        ChemistChemist  \n",
            "4  1964-04-141964-04-14  112                    BiologistBiologist  \n",
            "5  1858-06-161858-06-16   90                    PhysicianPhysician  \n",
            "6  1954-06-071954-06-07   82  Computer ScientistComputer Scientist  \n",
            "7  1855-02-231855-02-23  154            MathematicianMathematician  \n"
          ]
        }
      ],
      "source": [
        "print(scientists * 2)"
      ]
    },
    {
      "cell_type": "markdown",
      "metadata": {
        "id": "fnYgQCnLeKA_"
      },
      "source": [
        "# 직접 해보세요!\n",
        "## 시리즈와 데이터프레임의 데이터 처리하기(67쪽)"
      ]
    },
    {
      "cell_type": "code",
      "execution_count": null,
      "metadata": {
        "id": "uuzQHDK7eKA_",
        "outputId": "a974224e-b33c-44ae-e101-b5b0bcf18856"
      },
      "outputs": [
        {
          "name": "stdout",
          "output_type": "stream",
          "text": [
            "object\n",
            "object\n"
          ]
        }
      ],
      "source": [
        "print(scientists['Born'].dtype)\n",
        "print(scientists['Died'].dtype)"
      ]
    },
    {
      "cell_type": "code",
      "execution_count": 22,
      "metadata": {
        "id": "PQqYeHQYeKA_",
        "outputId": "0edb4125-4476-4f2d-cda8-81fef130759c",
        "colab": {
          "base_uri": "https://localhost:8080/"
        }
      },
      "outputs": [
        {
          "output_type": "stream",
          "name": "stdout",
          "text": [
            "0   1920-07-25\n",
            "1   1876-06-13\n",
            "2   1820-05-12\n",
            "3   1867-11-07\n",
            "4   1907-05-27\n",
            "5   1813-03-15\n",
            "6   1912-06-23\n",
            "7   1777-04-30\n",
            "Name: Born, dtype: datetime64[ns]\n"
          ]
        }
      ],
      "source": [
        "born_datetime = pd.to_datetime(scientists['Born'], format='%Y-%m-%d') \n",
        "print(born_datetime)"
      ]
    },
    {
      "cell_type": "code",
      "execution_count": 23,
      "metadata": {
        "id": "zTmXxhN3eKBB",
        "outputId": "b4849b18-923d-435f-f521-c69c1293372e",
        "colab": {
          "base_uri": "https://localhost:8080/"
        }
      },
      "outputs": [
        {
          "output_type": "stream",
          "name": "stdout",
          "text": [
            "0   1958-04-16\n",
            "1   1937-10-16\n",
            "2   1910-08-13\n",
            "3   1934-07-04\n",
            "4   1964-04-14\n",
            "5   1858-06-16\n",
            "6   1954-06-07\n",
            "7   1855-02-23\n",
            "Name: Died, dtype: datetime64[ns]\n"
          ]
        }
      ],
      "source": [
        "died_datetime = pd.to_datetime(scientists['Died'], format='%Y-%m-%d')\n",
        "print(died_datetime)"
      ]
    },
    {
      "cell_type": "code",
      "execution_count": 24,
      "metadata": {
        "scrolled": true,
        "id": "ogCbh7iUeKBB",
        "outputId": "d589a260-f562-415c-fa36-c619c1b77061",
        "colab": {
          "base_uri": "https://localhost:8080/"
        }
      },
      "outputs": [
        {
          "output_type": "stream",
          "name": "stdout",
          "text": [
            "                   Name        Born        Died  Age    Occupation    born_dt  \\\n",
            "0     Rosaline Franklin  1920-07-25  1958-04-16   37       Chemist 1920-07-25   \n",
            "1        William Gosset  1876-06-13  1937-10-16   61  Statistician 1876-06-13   \n",
            "2  Florence Nightingale  1820-05-12  1910-08-13   90         Nurse 1820-05-12   \n",
            "3           Marie Curie  1867-11-07  1934-07-04   66       Chemist 1867-11-07   \n",
            "4         Rachel Carson  1907-05-27  1964-04-14   56     Biologist 1907-05-27   \n",
            "\n",
            "     died_dt  \n",
            "0 1958-04-16  \n",
            "1 1937-10-16  \n",
            "2 1910-08-13  \n",
            "3 1934-07-04  \n",
            "4 1964-04-14  \n"
          ]
        }
      ],
      "source": [
        "scientists['born_dt'], scientists['died_dt'] = (born_datetime, died_datetime)\n",
        "print(scientists.head())"
      ]
    },
    {
      "cell_type": "code",
      "execution_count": 25,
      "metadata": {
        "id": "q4Qu7Xv7eKBB",
        "outputId": "dcf15545-5679-4060-fa86-b3abecbef3c0",
        "colab": {
          "base_uri": "https://localhost:8080/"
        }
      },
      "outputs": [
        {
          "output_type": "stream",
          "name": "stdout",
          "text": [
            "(8, 7)\n"
          ]
        }
      ],
      "source": [
        "print(scientists.shape)"
      ]
    },
    {
      "cell_type": "code",
      "execution_count": 26,
      "metadata": {
        "id": "1XtCC5j2eKBB",
        "outputId": "b422cbfa-c04a-4d95-82ef-1d2a30be9382",
        "colab": {
          "base_uri": "https://localhost:8080/"
        }
      },
      "outputs": [
        {
          "output_type": "stream",
          "name": "stdout",
          "text": [
            "                   Name        Born        Died  Age          Occupation  \\\n",
            "0     Rosaline Franklin  1920-07-25  1958-04-16   37             Chemist   \n",
            "1        William Gosset  1876-06-13  1937-10-16   61        Statistician   \n",
            "2  Florence Nightingale  1820-05-12  1910-08-13   90               Nurse   \n",
            "3           Marie Curie  1867-11-07  1934-07-04   66             Chemist   \n",
            "4         Rachel Carson  1907-05-27  1964-04-14   56           Biologist   \n",
            "5             John Snow  1813-03-15  1858-06-16   45           Physician   \n",
            "6           Alan Turing  1912-06-23  1954-06-07   41  Computer Scientist   \n",
            "7          Johann Gauss  1777-04-30  1855-02-23   77       Mathematician   \n",
            "\n",
            "     born_dt    died_dt age_days_dt  \n",
            "0 1920-07-25 1958-04-16  13779 days  \n",
            "1 1876-06-13 1937-10-16  22404 days  \n",
            "2 1820-05-12 1910-08-13  32964 days  \n",
            "3 1867-11-07 1934-07-04  24345 days  \n",
            "4 1907-05-27 1964-04-14  20777 days  \n",
            "5 1813-03-15 1858-06-16  16529 days  \n",
            "6 1912-06-23 1954-06-07  15324 days  \n",
            "7 1777-04-30 1855-02-23  28422 days  \n"
          ]
        }
      ],
      "source": [
        "scientists['age_days_dt'] = (scientists['died_dt'] - \\\n",
        "                             scientists['born_dt'])\n",
        "print(scientists)"
      ]
    },
    {
      "cell_type": "code",
      "source": [
        "scientists = scientists.drop(['Born','Died'], axis =1)\n",
        "scientists"
      ],
      "metadata": {
        "id": "8wco3sLQnQ1U",
        "outputId": "85bb03ec-3d7b-4582-f534-d2c39dda358a",
        "colab": {
          "base_uri": "https://localhost:8080/",
          "height": 344
        }
      },
      "execution_count": 28,
      "outputs": [
        {
          "output_type": "execute_result",
          "data": {
            "text/plain": [
              "                   Name  Age          Occupation    born_dt    died_dt  \\\n",
              "0     Rosaline Franklin   37             Chemist 1920-07-25 1958-04-16   \n",
              "1        William Gosset   61        Statistician 1876-06-13 1937-10-16   \n",
              "2  Florence Nightingale   90               Nurse 1820-05-12 1910-08-13   \n",
              "3           Marie Curie   66             Chemist 1867-11-07 1934-07-04   \n",
              "4         Rachel Carson   56           Biologist 1907-05-27 1964-04-14   \n",
              "5             John Snow   45           Physician 1813-03-15 1858-06-16   \n",
              "6           Alan Turing   41  Computer Scientist 1912-06-23 1954-06-07   \n",
              "7          Johann Gauss   77       Mathematician 1777-04-30 1855-02-23   \n",
              "\n",
              "  age_days_dt  \n",
              "0  13779 days  \n",
              "1  22404 days  \n",
              "2  32964 days  \n",
              "3  24345 days  \n",
              "4  20777 days  \n",
              "5  16529 days  \n",
              "6  15324 days  \n",
              "7  28422 days  "
            ],
            "text/html": [
              "\n",
              "  <div id=\"df-aa3ca595-240e-4538-a0e7-9e027d1e085d\">\n",
              "    <div class=\"colab-df-container\">\n",
              "      <div>\n",
              "<style scoped>\n",
              "    .dataframe tbody tr th:only-of-type {\n",
              "        vertical-align: middle;\n",
              "    }\n",
              "\n",
              "    .dataframe tbody tr th {\n",
              "        vertical-align: top;\n",
              "    }\n",
              "\n",
              "    .dataframe thead th {\n",
              "        text-align: right;\n",
              "    }\n",
              "</style>\n",
              "<table border=\"1\" class=\"dataframe\">\n",
              "  <thead>\n",
              "    <tr style=\"text-align: right;\">\n",
              "      <th></th>\n",
              "      <th>Name</th>\n",
              "      <th>Age</th>\n",
              "      <th>Occupation</th>\n",
              "      <th>born_dt</th>\n",
              "      <th>died_dt</th>\n",
              "      <th>age_days_dt</th>\n",
              "    </tr>\n",
              "  </thead>\n",
              "  <tbody>\n",
              "    <tr>\n",
              "      <th>0</th>\n",
              "      <td>Rosaline Franklin</td>\n",
              "      <td>37</td>\n",
              "      <td>Chemist</td>\n",
              "      <td>1920-07-25</td>\n",
              "      <td>1958-04-16</td>\n",
              "      <td>13779 days</td>\n",
              "    </tr>\n",
              "    <tr>\n",
              "      <th>1</th>\n",
              "      <td>William Gosset</td>\n",
              "      <td>61</td>\n",
              "      <td>Statistician</td>\n",
              "      <td>1876-06-13</td>\n",
              "      <td>1937-10-16</td>\n",
              "      <td>22404 days</td>\n",
              "    </tr>\n",
              "    <tr>\n",
              "      <th>2</th>\n",
              "      <td>Florence Nightingale</td>\n",
              "      <td>90</td>\n",
              "      <td>Nurse</td>\n",
              "      <td>1820-05-12</td>\n",
              "      <td>1910-08-13</td>\n",
              "      <td>32964 days</td>\n",
              "    </tr>\n",
              "    <tr>\n",
              "      <th>3</th>\n",
              "      <td>Marie Curie</td>\n",
              "      <td>66</td>\n",
              "      <td>Chemist</td>\n",
              "      <td>1867-11-07</td>\n",
              "      <td>1934-07-04</td>\n",
              "      <td>24345 days</td>\n",
              "    </tr>\n",
              "    <tr>\n",
              "      <th>4</th>\n",
              "      <td>Rachel Carson</td>\n",
              "      <td>56</td>\n",
              "      <td>Biologist</td>\n",
              "      <td>1907-05-27</td>\n",
              "      <td>1964-04-14</td>\n",
              "      <td>20777 days</td>\n",
              "    </tr>\n",
              "    <tr>\n",
              "      <th>5</th>\n",
              "      <td>John Snow</td>\n",
              "      <td>45</td>\n",
              "      <td>Physician</td>\n",
              "      <td>1813-03-15</td>\n",
              "      <td>1858-06-16</td>\n",
              "      <td>16529 days</td>\n",
              "    </tr>\n",
              "    <tr>\n",
              "      <th>6</th>\n",
              "      <td>Alan Turing</td>\n",
              "      <td>41</td>\n",
              "      <td>Computer Scientist</td>\n",
              "      <td>1912-06-23</td>\n",
              "      <td>1954-06-07</td>\n",
              "      <td>15324 days</td>\n",
              "    </tr>\n",
              "    <tr>\n",
              "      <th>7</th>\n",
              "      <td>Johann Gauss</td>\n",
              "      <td>77</td>\n",
              "      <td>Mathematician</td>\n",
              "      <td>1777-04-30</td>\n",
              "      <td>1855-02-23</td>\n",
              "      <td>28422 days</td>\n",
              "    </tr>\n",
              "  </tbody>\n",
              "</table>\n",
              "</div>\n",
              "      <button class=\"colab-df-convert\" onclick=\"convertToInteractive('df-aa3ca595-240e-4538-a0e7-9e027d1e085d')\"\n",
              "              title=\"Convert this dataframe to an interactive table.\"\n",
              "              style=\"display:none;\">\n",
              "        \n",
              "  <svg xmlns=\"http://www.w3.org/2000/svg\" height=\"24px\"viewBox=\"0 0 24 24\"\n",
              "       width=\"24px\">\n",
              "    <path d=\"M0 0h24v24H0V0z\" fill=\"none\"/>\n",
              "    <path d=\"M18.56 5.44l.94 2.06.94-2.06 2.06-.94-2.06-.94-.94-2.06-.94 2.06-2.06.94zm-11 1L8.5 8.5l.94-2.06 2.06-.94-2.06-.94L8.5 2.5l-.94 2.06-2.06.94zm10 10l.94 2.06.94-2.06 2.06-.94-2.06-.94-.94-2.06-.94 2.06-2.06.94z\"/><path d=\"M17.41 7.96l-1.37-1.37c-.4-.4-.92-.59-1.43-.59-.52 0-1.04.2-1.43.59L10.3 9.45l-7.72 7.72c-.78.78-.78 2.05 0 2.83L4 21.41c.39.39.9.59 1.41.59.51 0 1.02-.2 1.41-.59l7.78-7.78 2.81-2.81c.8-.78.8-2.07 0-2.86zM5.41 20L4 18.59l7.72-7.72 1.47 1.35L5.41 20z\"/>\n",
              "  </svg>\n",
              "      </button>\n",
              "      \n",
              "  <style>\n",
              "    .colab-df-container {\n",
              "      display:flex;\n",
              "      flex-wrap:wrap;\n",
              "      gap: 12px;\n",
              "    }\n",
              "\n",
              "    .colab-df-convert {\n",
              "      background-color: #E8F0FE;\n",
              "      border: none;\n",
              "      border-radius: 50%;\n",
              "      cursor: pointer;\n",
              "      display: none;\n",
              "      fill: #1967D2;\n",
              "      height: 32px;\n",
              "      padding: 0 0 0 0;\n",
              "      width: 32px;\n",
              "    }\n",
              "\n",
              "    .colab-df-convert:hover {\n",
              "      background-color: #E2EBFA;\n",
              "      box-shadow: 0px 1px 2px rgba(60, 64, 67, 0.3), 0px 1px 3px 1px rgba(60, 64, 67, 0.15);\n",
              "      fill: #174EA6;\n",
              "    }\n",
              "\n",
              "    [theme=dark] .colab-df-convert {\n",
              "      background-color: #3B4455;\n",
              "      fill: #D2E3FC;\n",
              "    }\n",
              "\n",
              "    [theme=dark] .colab-df-convert:hover {\n",
              "      background-color: #434B5C;\n",
              "      box-shadow: 0px 1px 3px 1px rgba(0, 0, 0, 0.15);\n",
              "      filter: drop-shadow(0px 1px 2px rgba(0, 0, 0, 0.3));\n",
              "      fill: #FFFFFF;\n",
              "    }\n",
              "  </style>\n",
              "\n",
              "      <script>\n",
              "        const buttonEl =\n",
              "          document.querySelector('#df-aa3ca595-240e-4538-a0e7-9e027d1e085d button.colab-df-convert');\n",
              "        buttonEl.style.display =\n",
              "          google.colab.kernel.accessAllowed ? 'block' : 'none';\n",
              "\n",
              "        async function convertToInteractive(key) {\n",
              "          const element = document.querySelector('#df-aa3ca595-240e-4538-a0e7-9e027d1e085d');\n",
              "          const dataTable =\n",
              "            await google.colab.kernel.invokeFunction('convertToInteractive',\n",
              "                                                     [key], {});\n",
              "          if (!dataTable) return;\n",
              "\n",
              "          const docLinkHtml = 'Like what you see? Visit the ' +\n",
              "            '<a target=\"_blank\" href=https://colab.research.google.com/notebooks/data_table.ipynb>data table notebook</a>'\n",
              "            + ' to learn more about interactive tables.';\n",
              "          element.innerHTML = '';\n",
              "          dataTable['output_type'] = 'display_data';\n",
              "          await google.colab.output.renderOutput(dataTable, element);\n",
              "          const docLink = document.createElement('div');\n",
              "          docLink.innerHTML = docLinkHtml;\n",
              "          element.appendChild(docLink);\n",
              "        }\n",
              "      </script>\n",
              "    </div>\n",
              "  </div>\n",
              "  "
            ]
          },
          "metadata": {},
          "execution_count": 28
        }
      ]
    },
    {
      "cell_type": "markdown",
      "metadata": {
        "id": "PRQqCPCCeKBB"
      },
      "source": [
        "### 5. 시리즈, 데이터프레임의 데이터 섞기"
      ]
    },
    {
      "cell_type": "code",
      "execution_count": 29,
      "metadata": {
        "scrolled": true,
        "id": "SK7eq7Y3eKBC",
        "outputId": "190c1aed-8b77-45c0-99a4-4a49394addff",
        "colab": {
          "base_uri": "https://localhost:8080/"
        }
      },
      "outputs": [
        {
          "output_type": "stream",
          "name": "stdout",
          "text": [
            "0    37\n",
            "1    61\n",
            "2    90\n",
            "3    66\n",
            "4    56\n",
            "5    45\n",
            "6    41\n",
            "7    77\n",
            "Name: Age, dtype: int64\n"
          ]
        }
      ],
      "source": [
        "print(scientists['Age'])"
      ]
    },
    {
      "cell_type": "code",
      "execution_count": 33,
      "metadata": {
        "id": "O29baTQ0eKBC",
        "outputId": "751f69ab-f403-4303-a6e0-e343518b3bfa",
        "colab": {
          "base_uri": "https://localhost:8080/"
        }
      },
      "outputs": [
        {
          "output_type": "stream",
          "name": "stdout",
          "text": [
            "0    56\n",
            "1    37\n",
            "2    77\n",
            "3    90\n",
            "4    66\n",
            "5    45\n",
            "6    61\n",
            "7    41\n",
            "Name: Age, dtype: int64\n"
          ]
        }
      ],
      "source": [
        "import random\n",
        "\n",
        "random.seed(42)\n",
        "random.shuffle(scientists['Age'])\n",
        "print(scientists['Age'])"
      ]
    },
    {
      "cell_type": "markdown",
      "metadata": {
        "id": "3XlZ5aSkeKBC"
      },
      "source": [
        "### 7. 데이터프레임의 열 삭제하기"
      ]
    },
    {
      "cell_type": "code",
      "execution_count": null,
      "metadata": {
        "scrolled": true,
        "id": "mtzI-HEqeKBC",
        "outputId": "369f8a72-537c-4bcc-9084-01ac5ccc897a"
      },
      "outputs": [
        {
          "name": "stdout",
          "output_type": "stream",
          "text": [
            "Index(['Name', 'Born', 'Died', 'Age', 'Occupation', 'born_dt', 'died_dt',\n",
            "       'age_days_dt'],\n",
            "      dtype='object')\n"
          ]
        }
      ],
      "source": [
        "print(scientists.columns)"
      ]
    },
    {
      "cell_type": "code",
      "execution_count": null,
      "metadata": {
        "id": "vWYU_9yveKBC",
        "outputId": "d27930a4-33e8-4840-9919-5f0ff129fe4b"
      },
      "outputs": [
        {
          "name": "stdout",
          "output_type": "stream",
          "text": [
            "Index(['Name', 'Born', 'Died', 'Occupation', 'born_dt', 'died_dt',\n",
            "       'age_days_dt'],\n",
            "      dtype='object')\n"
          ]
        }
      ],
      "source": [
        "scientists_dropped = scientists.drop(['Age'], axis=1)\n",
        "\n",
        "print(scientists_dropped.columns)"
      ]
    },
    {
      "cell_type": "markdown",
      "metadata": {
        "id": "T88y-Y7ceKBC"
      },
      "source": [
        "# 직접 해보세요!\n",
        "## 데이터를 피클, CSV, TSV 파일로 저장하고 불러오기(72쪽)"
      ]
    },
    {
      "cell_type": "markdown",
      "metadata": {
        "id": "qBjHmPoUeKBC"
      },
      "source": [
        "### 1. 피클로 저장하기"
      ]
    },
    {
      "cell_type": "code",
      "execution_count": 43,
      "metadata": {
        "id": "MY4oUipgeKBD"
      },
      "outputs": [],
      "source": [
        "names = scientists['Name'] "
      ]
    },
    {
      "cell_type": "code",
      "execution_count": 49,
      "metadata": {
        "id": "e6JlzO5TeKBD"
      },
      "outputs": [],
      "source": [
        "names.to_pickle('scientists_names_series.pickle')"
      ]
    },
    {
      "cell_type": "code",
      "execution_count": 48,
      "metadata": {
        "id": "hpJkIm57eKBD"
      },
      "outputs": [],
      "source": [
        "scientists.to_pickle('scientists_df.pickle')"
      ]
    },
    {
      "cell_type": "code",
      "execution_count": 51,
      "metadata": {
        "id": "krn0UDOOeKBD",
        "outputId": "91210d2b-6e16-4970-a1a5-56e0a67d4376",
        "colab": {
          "base_uri": "https://localhost:8080/"
        }
      },
      "outputs": [
        {
          "output_type": "stream",
          "name": "stdout",
          "text": [
            "0       Rosaline Franklin\n",
            "1          William Gosset\n",
            "2    Florence Nightingale\n",
            "3             Marie Curie\n",
            "4           Rachel Carson\n",
            "5               John Snow\n",
            "6             Alan Turing\n",
            "7            Johann Gauss\n",
            "Name: Name, dtype: object\n"
          ]
        }
      ],
      "source": [
        "scientist_names_from_pickle = pd.read_pickle('scientists_names_series.pickle')\n",
        "print(scientist_names_from_pickle)"
      ]
    },
    {
      "cell_type": "code",
      "execution_count": null,
      "metadata": {
        "id": "hynbqOUxeKBD",
        "outputId": "39eb7005-7410-4f79-e891-0d087733550f"
      },
      "outputs": [
        {
          "name": "stdout",
          "output_type": "stream",
          "text": [
            "                   Name        Born        Died  Age          Occupation  \\\n",
            "0     Rosaline Franklin  1920-07-25  1958-04-16   66             Chemist   \n",
            "1        William Gosset  1876-06-13  1937-10-16   56        Statistician   \n",
            "2  Florence Nightingale  1820-05-12  1910-08-13   41               Nurse   \n",
            "3           Marie Curie  1867-11-07  1934-07-04   77             Chemist   \n",
            "4         Rachel Carson  1907-05-27  1964-04-14   90           Biologist   \n",
            "5             John Snow  1813-03-15  1858-06-16   45           Physician   \n",
            "6           Alan Turing  1912-06-23  1954-06-07   37  Computer Scientist   \n",
            "7          Johann Gauss  1777-04-30  1855-02-23   61       Mathematician   \n",
            "\n",
            "     born_dt    died_dt age_days_dt  \n",
            "0 1920-07-25 1958-04-16  13779 days  \n",
            "1 1876-06-13 1937-10-16  22404 days  \n",
            "2 1820-05-12 1910-08-13  32964 days  \n",
            "3 1867-11-07 1934-07-04  24345 days  \n",
            "4 1907-05-27 1964-04-14  20777 days  \n",
            "5 1813-03-15 1858-06-16  16529 days  \n",
            "6 1912-06-23 1954-06-07  15324 days  \n",
            "7 1777-04-30 1855-02-23  28422 days  \n"
          ]
        }
      ],
      "source": [
        "scientists_from_pickle = pd.read_pickle('scientists_df.pickle')\n",
        "print(scientists_from_pickle)"
      ]
    },
    {
      "cell_type": "markdown",
      "metadata": {
        "id": "7S9t7ORqeKBD"
      },
      "source": [
        "### 4. CSV 파일과 TSV 파일로 저장하기"
      ]
    },
    {
      "cell_type": "code",
      "execution_count": 46,
      "metadata": {
        "id": "VSFZ_755eKBD"
      },
      "outputs": [],
      "source": [
        "names.to_csv('scientist_names_series.csv')"
      ]
    },
    {
      "cell_type": "code",
      "execution_count": 47,
      "metadata": {
        "id": "b-WpkqgUeKBD"
      },
      "outputs": [],
      "source": [
        "scientists.to_csv('scientists_df.tsv', sep='\\t')"
      ]
    },
    {
      "cell_type": "code",
      "execution_count": 52,
      "metadata": {
        "id": "QFyfqOileKBD"
      },
      "outputs": [],
      "source": [
        "scientists.to_csv('scientists_df_no_index.csv', index=False)"
      ]
    },
    {
      "cell_type": "code",
      "execution_count": 54,
      "metadata": {
        "id": "yxKwmvzZeKBE",
        "outputId": "867a3650-d65b-4fe6-f2e8-fa824fd7c530",
        "colab": {
          "base_uri": "https://localhost:8080/"
        }
      },
      "outputs": [
        {
          "output_type": "stream",
          "name": "stderr",
          "text": [
            "/usr/local/lib/python3.7/dist-packages/ipykernel_launcher.py:4: FutureWarning: As the xlwt package is no longer maintained, the xlwt engine will be removed in a future version of pandas. This is the only engine in pandas that supports writing in the xls format. Install openpyxl and write to an xlsx file instead. You can set the option io.excel.xls.writer to 'xlwt' to silence this warning. While this option is deprecated and will also raise a warning, it can be globally set and the warning suppressed.\n",
            "  after removing the cwd from sys.path.\n"
          ]
        }
      ],
      "source": [
        "names_df = names.to_frame()\n",
        "\n",
        "import xlwt \n",
        "names_df.to_excel('scientists_names_series_df.xls')\n",
        "\n",
        "import openpyxl \n",
        "names_df.to_excel('scientists_names_series_df.xlsx')"
      ]
    }
  ],
  "metadata": {
    "kernelspec": {
      "display_name": "Python 3",
      "language": "python",
      "name": "python3"
    },
    "language_info": {
      "codemirror_mode": {
        "name": "ipython",
        "version": 3
      },
      "file_extension": ".py",
      "mimetype": "text/x-python",
      "name": "python",
      "nbconvert_exporter": "python",
      "pygments_lexer": "ipython3",
      "version": "3.6.5"
    },
    "colab": {
      "provenance": []
    }
  },
  "nbformat": 4,
  "nbformat_minor": 0
}